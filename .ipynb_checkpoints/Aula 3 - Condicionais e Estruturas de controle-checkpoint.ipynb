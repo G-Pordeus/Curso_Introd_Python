{
 "cells": [
  {
   "cell_type": "markdown",
   "id": "76057ae0",
   "metadata": {},
   "source": [
    "# Condicionais"
   ]
  },
  {
   "cell_type": "markdown",
   "id": "32a7e169",
   "metadata": {},
   "source": [
    "O tipo de dado booliano (bool) refere-se a uma unidade lógica sobre a qual podemos \n",
    "\n",
    "realizar operações, particularmente úteis para o controle de fluxo de um programa.\n",
    "\n",
    "A unidade booliana assume apenas 2 valores: Verdadeiro (True) e Falso (False)."
   ]
  },
  {
   "cell_type": "markdown",
   "id": "dfd37fb2",
   "metadata": {},
   "source": [
    "## Expressão lógica:\n",
    "Qualquer expressão lógica retornará um valor booliano (True ou False):"
   ]
  },
  {
   "cell_type": "code",
   "execution_count": 1,
   "id": "5a3c2985",
   "metadata": {},
   "outputs": [
    {
     "data": {
      "text/plain": [
       "True"
      ]
     },
     "execution_count": 1,
     "metadata": {},
     "output_type": "execute_result"
    }
   ],
   "source": [
    "2 < 3"
   ]
  },
  {
   "cell_type": "code",
   "execution_count": 2,
   "id": "981fdc25",
   "metadata": {
    "scrolled": true
   },
   "outputs": [
    {
     "data": {
      "text/plain": [
       "True"
      ]
     },
     "execution_count": 2,
     "metadata": {},
     "output_type": "execute_result"
    }
   ],
   "source": [
    "2 != 5"
   ]
  },
  {
   "cell_type": "markdown",
   "id": "faf0a898",
   "metadata": {},
   "source": [
    "## Os operadores lógicos utilizados em programação são:\n",
    "\n",
    "    >  maior a, exemplo: 5 > 3\n",
    "\n",
    "    <  menor a\n",
    "\n",
    "    >= maior ou igual a\n",
    "\n",
    "    <= menor ou igual a\n",
    "\n",
    "    == igual a\n",
    "\n",
    "    != diferente de"
   ]
  },
  {
   "cell_type": "markdown",
   "id": "e69b1e87",
   "metadata": {},
   "source": [
    "### Para realizar operações com expressões lógicas, existem:"
   ]
  },
  {
   "cell_type": "markdown",
   "id": "7305e887",
   "metadata": {},
   "source": [
    "![Para realizar operações com expressões lógicas](figOperadoLogico.png)"
   ]
  },
  {
   "cell_type": "markdown",
   "id": "b5ba36e5",
   "metadata": {},
   "source": [
    "**Exemplos de uso:**"
   ]
  },
  {
   "cell_type": "code",
   "execution_count": 3,
   "id": "59749240",
   "metadata": {},
   "outputs": [
    {
     "data": {
      "text/plain": [
       "True"
      ]
     },
     "execution_count": 3,
     "metadata": {},
     "output_type": "execute_result"
    }
   ],
   "source": [
    "10 > 3 and 2 < 4"
   ]
  },
  {
   "cell_type": "code",
   "execution_count": 4,
   "id": "5a714264",
   "metadata": {},
   "outputs": [
    {
     "data": {
      "text/plain": [
       "True"
      ]
     },
     "execution_count": 4,
     "metadata": {},
     "output_type": "execute_result"
    }
   ],
   "source": [
    "10 > 3 or 2 == 4"
   ]
  },
  {
   "cell_type": "code",
   "execution_count": 5,
   "id": "5d2903f2",
   "metadata": {},
   "outputs": [
    {
     "data": {
      "text/plain": [
       "True"
      ]
     },
     "execution_count": 5,
     "metadata": {},
     "output_type": "execute_result"
    }
   ],
   "source": [
    "not not 1 == 1"
   ]
  },
  {
   "cell_type": "markdown",
   "id": "6c789b39",
   "metadata": {},
   "source": [
    "# Estruturas de controle"
   ]
  },
  {
   "cell_type": "markdown",
   "id": "d3cb4f9b",
   "metadata": {},
   "source": [
    "**As estruturas de controle servem para decidir quais blocos de código serão executados.**\n",
    "\n",
    "**Exemplo:**\n",
    "\n",
    "Se estiver nublado:\n",
    "\n",
    "    Levarei guarda-chuva\n",
    "    \n",
    "Senão:\n",
    "\n",
    "    Não levarei\n",
    "\n",
    "**Nota:** Na linguagem Python, a indentação (espaço dado antes de uma linha) é utilizada\n",
    "\n",
    "para demarcar os blocos de código, e são obrigatórios quando se usa estruturas de controle."
   ]
  },
  {
   "cell_type": "code",
   "execution_count": 6,
   "id": "5662fa5a",
   "metadata": {},
   "outputs": [
    {
     "name": "stdout",
     "output_type": "stream",
     "text": [
      "digite aqui a hora?8\n",
      "Estou em ECITE\n"
     ]
    }
   ],
   "source": [
    "a = int(input(\"digite aqui a hora?\"))\n",
    "\n",
    "if a < 7:\n",
    "    print(\"Estou no dormindo\")\n",
    "else:\n",
    "    print(\"Estou em ECITE\")"
   ]
  },
  {
   "cell_type": "markdown",
   "id": "09cad0dc",
   "metadata": {},
   "source": [
    "Também é possível checar mais de uma condição com o **elif**. \n",
    "\n",
    "É a abreviatura para **else if**. \n",
    "\n",
    "Ou seja, se o **if** for **falso**, testa outra condição antes do **else**:"
   ]
  },
  {
   "cell_type": "code",
   "execution_count": 10,
   "id": "ccfec948",
   "metadata": {},
   "outputs": [
    {
     "name": "stdout",
     "output_type": "stream",
     "text": [
      "digite aqui a hora?18\n",
      "Estou em casa\n"
     ]
    }
   ],
   "source": [
    "a = int(input(\"digite aqui a hora?\"))\n",
    "\n",
    "if a < 7:\n",
    "    print(\"Estou no dormindo\")\n",
    "elif a<17:\n",
    "    print(\"Estou em ECITE\")\n",
    "else:\n",
    "    print(\"Estou em casa\")"
   ]
  },
  {
   "cell_type": "code",
   "execution_count": 11,
   "id": "b5a15d4b",
   "metadata": {},
   "outputs": [
    {
     "name": "stdout",
     "output_type": "stream",
     "text": [
      "12 é maior ou igual a 12\n"
     ]
    }
   ],
   "source": [
    "a  = 12\n",
    "if a < 10 :\n",
    "    print(f'{a} é menor que 12')\n",
    "else:\n",
    "    print(f'{a} é maior ou igual a 12')\n"
   ]
  },
  {
   "cell_type": "markdown",
   "id": "eec70480",
   "metadata": {},
   "source": [
    "Note que quando uma condição for verdadeira, aquele bloco de código é executado e as demais condições (elif e else) são puladas:"
   ]
  },
  {
   "cell_type": "markdown",
   "id": "291b8fd6",
   "metadata": {},
   "source": [
    "# Desafios!\n",
    "\n",
    "1. **Faça um programa solicita que o usuário informe dois números (a e b) diferentes e, em seguida, compare os dois valores utilizando a estrutura condicional \"if-else\". Se o valor de \"a\" for menor do que o valor de \"b\", o programa deve exibir a mensagem \"O menor número é: a\". Caso contrário, o programa deve exibir a mensagem \"O menor número é: b\".**\n",
    "\n",
    "2. **Faça um programa que comece pedindo para o usuário digitar três notas de 0 a 10, essas notas devem ser armazenadas nas variáveis nota1, nota2 e nota3. Em seguida, calcule a média aritmética e armazenada na variável \"media\". Depois, o programa deve fazer as seguintes verificações com o uso da estrutura condicional if, elif e else: (i) Se a média for maior ou igual a 7.0, o programa deve exibir a mensagem \"Aprovado\". Se a média for maior ou igual a 3.0 e menor que 7.0, o programa deve exibir a mensagem \"Em Recuperação\". Caso contrário, se a média for menor que 3.0, o programa deve exibir a mensagem \"Reprovado\".**\n",
    "\n",
    "3. **Faça um programa que solicita que usuário informe: sua idade; seu peso em kg; e quantas horas dormiu nas últimas 24 horas. Em seguida, utiliza uma estrutura condicional \"if\" para verificar se a pessoa atende a todos os critérios necessários para doar sangue. São eles: (i) a idade entre 16 e 69 anos, (ii) peso maior que 50 kg, e (iii) ter dormido pelo menos 6 horas nas últimas 24 horas. Caso todas essas condições seja satisfeitas, o programa deve exibir a mensagem \"Você pode doar sangue!\". Caso contrário, exibe a mensagem \"Você não pode doar sangue.\".**\n",
    "\n",
    "4. **Faça um programa que solicite ao usuário sua idade, depois disso, exiba a classificação etária de acordo com as faixas de valores:**\n",
    "    * Criança para 0 até 11 anos;\n",
    "    * Adolescente para 12 até 18 anos;\n",
    "    * Jovem para 19 até 24 anos;\n",
    "    * Adulto para 25 até 40 anos;\n",
    "    * Meia Idade para 41 até 60 anos;\n",
    "    * Idoso acima de 60 anos.\n",
    "\n"
   ]
  },
  {
   "cell_type": "markdown",
   "id": "857e89f2",
   "metadata": {},
   "source": [
    "## Desafio extra:\n",
    "![Desafio Extra!](DesafioJP3.JPEG)"
   ]
  },
  {
   "cell_type": "markdown",
   "id": "ce239337",
   "metadata": {},
   "source": [
    "# Respostas"
   ]
  },
  {
   "cell_type": "code",
   "execution_count": 12,
   "id": "39755096",
   "metadata": {},
   "outputs": [
    {
     "name": "stdout",
     "output_type": "stream",
     "text": [
      "\n",
      " Digite o primeiro número!13\n",
      "\n",
      " Digite o segundo número!22\n",
      "\n",
      " O menor número é: 13.0\n"
     ]
    }
   ],
   "source": [
    "# Respostado 1ª desafio:\n",
    "\n",
    "a = float(input(\"\\n Digite o primeiro número!\"))\n",
    "b = float(input(\"\\n Digite o segundo número!\"))\n",
    "\n",
    "# verificando se são iguais\n",
    "if b == a:\n",
    "    b = float(input(\"\\n Digite um númeoro DIFERENTE do primeiro número!\"))\n",
    "else:\n",
    "    pass # não faça nada\n",
    "\n",
    "# analisando qual é menor\n",
    "if a < b:\n",
    "    print(f\"\\n O menor número é: {a}\")\n",
    "else:\n",
    "    print(f\"\\n O menor número é: {b}\")"
   ]
  },
  {
   "cell_type": "code",
   "execution_count": 13,
   "id": "a3522ee9",
   "metadata": {},
   "outputs": [
    {
     "name": "stdout",
     "output_type": "stream",
     "text": [
      "\n",
      " Digite a primeiro nota (0 a 10)!8\n",
      "\n",
      " Digite a segunda nota (0 a 10)!7\n",
      "\n",
      " Digite a terceira nota (0 a 10)!3\n",
      "\n",
      " Em Recuperação\n"
     ]
    }
   ],
   "source": [
    "# Respostado 2ª desafio: \n",
    "\n",
    "nota1 = float(input(\"\\n Digite a primeiro nota (0 a 10)!\"))\n",
    "nota2 = float(input(\"\\n Digite a segunda nota (0 a 10)!\"))\n",
    "nota3 = float(input(\"\\n Digite a terceira nota (0 a 10)!\"))\n",
    "\n",
    "# calculando a média\n",
    "media = ( nota1 + nota2 + nota3 )/3\n",
    "\n",
    "# analisando as diferentes situações: \n",
    "if media >= 7:\n",
    "    print(\"\\n Aprovado\")\n",
    "elif media >= 3 and media < 7:\n",
    "    print( \"\\n Em Recuperação\")\n",
    "else:\n",
    "    print(\"\\n Reprovado\")"
   ]
  },
  {
   "cell_type": "code",
   "execution_count": 14,
   "id": "d6b07222",
   "metadata": {
    "scrolled": true
   },
   "outputs": [
    {
     "name": "stdout",
     "output_type": "stream",
     "text": [
      "\n",
      " Digite sua idade!33\n",
      "\n",
      " Digite seu peso em kg!80\n",
      "\n",
      " Digite quantas horas dormiu nas últimas 24 horas!8\n",
      "\n",
      " Você pode doar sangue!\n"
     ]
    }
   ],
   "source": [
    "# Respostado 3ª desafio:\n",
    "\n",
    "idade = float(input(\"\\n Digite sua idade!\"))\n",
    "peso = float(input(\"\\n Digite seu peso em kg!\"))\n",
    "sono = float(input(\"\\n Digite quantas horas dormiu nas últimas 24 horas!\"))\n",
    "\n",
    "if idade >= 16 and idade <= 69 and peso > 50 and sono >6:\n",
    "    print(\"\\n Você pode doar sangue!\")\n",
    "else:\n",
    "    print(\"\\n Você não pode doar sangue!\")"
   ]
  },
  {
   "cell_type": "code",
   "execution_count": 15,
   "id": "ac0e1533",
   "metadata": {},
   "outputs": [
    {
     "name": "stdout",
     "output_type": "stream",
     "text": [
      "Digite sua idade: 33\n",
      "Você é um adulto\n"
     ]
    }
   ],
   "source": [
    "# Resposta 4ª desafio\n",
    "\n",
    "idade = int(input(\"Digite sua idade: \"))\n",
    "\n",
    "if idade <= 11:\n",
    "    print(\"Você é uma criança\")\n",
    "elif idade <= 18:\n",
    "    print(\"Você é um adolescente\")\n",
    "elif idade <= 24:\n",
    "    print(\"Você é um jovem\")\n",
    "elif idade <= 40:\n",
    "    print(\"Você é um adulto\")\n",
    "elif idade <= 60:\n",
    "    print(\"Você está na meia-idade\")\n",
    "else:\n",
    "    print(\"Você é um idoso\")\n"
   ]
  },
  {
   "cell_type": "code",
   "execution_count": 16,
   "id": "866ece6e",
   "metadata": {},
   "outputs": [
    {
     "name": "stdout",
     "output_type": "stream",
     "text": [
      "\n",
      " Digite o código do produto (nº interio de 1 a 10)3\n",
      "\n",
      " Digite o peso do produto em Kg2\n",
      "\n",
      " Digite o código do país de origem (nº interio de 1 a 3)2\n",
      "\n",
      "Massa do produto em gramas: 2000.0\n",
      "Preçototal do produto: 20000.0\n",
      "Valor  do imposto: 300000.0\n",
      "Valor total do produto: 320000.0\n"
     ]
    }
   ],
   "source": [
    "# Resposta do desafio extra:\n",
    "\n",
    "codigo_produto = int(input(\"\\n Digite o código do produto (nº interio de 1 a 10)\"))\n",
    "peso = float(input(\"\\n Digite o peso do produto em Kg\"))\n",
    "codigo_pais = int(input(\"\\n Digite o código do país de origem (nº interio de 1 a 3)\"))\n",
    "\n",
    "peso_gramas = peso*1000\n",
    "\n",
    "if codigo_produto >=1 and codigo_produto <= 4:\n",
    "    preco_por_grama = 10\n",
    "    preco_total = preco_por_grama * peso_gramas\n",
    "elif codigo_produto >=5 and codigo_produto <= 7:\n",
    "    preco_por_grama = 25\n",
    "    preco_total = preco_por_grama * peso_gramas\n",
    "else: \n",
    "    preco_por_grama = 35\n",
    "    preco_total = preco_por_grama * peso_gramas\n",
    "\n",
    "if codigo_pais == 1:\n",
    "    imposto = 0\n",
    "    valor_imposto = preco_total * imposto\n",
    "elif codigo_pais == 2:\n",
    "    imposto = 15\n",
    "    valor_imposto = preco_total * imposto\n",
    "else: \n",
    "    imposto = 25\n",
    "    valor_imposto = preco_total * imposto\n",
    "\n",
    "valor_total = preco_total + valor_imposto\n",
    "\n",
    "print(f\"\\nMassa do produto em gramas: {peso_gramas}\\nPreçototal do produto: {preco_total}\\nValor  do imposto: {valor_imposto}\\nValor total do produto: {valor_total}\")\n"
   ]
  }
 ],
 "metadata": {
  "kernelspec": {
   "display_name": "Python 3 (ipykernel)",
   "language": "python",
   "name": "python3"
  },
  "language_info": {
   "codemirror_mode": {
    "name": "ipython",
    "version": 3
   },
   "file_extension": ".py",
   "mimetype": "text/x-python",
   "name": "python",
   "nbconvert_exporter": "python",
   "pygments_lexer": "ipython3",
   "version": "3.9.12"
  },
  "nbTranslate": {
   "displayLangs": [
    "*"
   ],
   "hotkey": "alt-t",
   "langInMainMenu": true,
   "sourceLang": "en",
   "targetLang": "fr",
   "useGoogleTranslate": true
  },
  "toc": {
   "base_numbering": 1,
   "nav_menu": {},
   "number_sections": true,
   "sideBar": true,
   "skip_h1_title": false,
   "title_cell": "Table of Contents",
   "title_sidebar": "Contents",
   "toc_cell": false,
   "toc_position": {},
   "toc_section_display": true,
   "toc_window_display": false
  },
  "varInspector": {
   "cols": {
    "lenName": 16,
    "lenType": 16,
    "lenVar": 40
   },
   "kernels_config": {
    "python": {
     "delete_cmd_postfix": "",
     "delete_cmd_prefix": "del ",
     "library": "var_list.py",
     "varRefreshCmd": "print(var_dic_list())"
    },
    "r": {
     "delete_cmd_postfix": ") ",
     "delete_cmd_prefix": "rm(",
     "library": "var_list.r",
     "varRefreshCmd": "cat(var_dic_list()) "
    }
   },
   "types_to_exclude": [
    "module",
    "function",
    "builtin_function_or_method",
    "instance",
    "_Feature"
   ],
   "window_display": false
  }
 },
 "nbformat": 4,
 "nbformat_minor": 5
}

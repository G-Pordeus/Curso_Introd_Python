{
 "cells": [
  {
   "cell_type": "markdown",
   "id": "d34342c9",
   "metadata": {},
   "source": [
    "# Curso Python: Jovens Programadores"
   ]
  },
  {
   "cell_type": "markdown",
   "id": "c13a643e",
   "metadata": {},
   "source": [
    "## O que é Python?\n",
    "Python é uma linguagem de programação. Isso significa basicamente duas coisas:\n",
    "\n",
    "* existem regras que determinam como as palavras são dispostas, já que é uma linguagem;\n",
    "* o texto descreve instruções para o computador realizar tarefas.\n",
    "\n",
    "Ou seja, podemos escrever um documento - que chamamos de código fonte - em Python para o computador ler e realizar\n",
    "nossos desejos e tarefas. Python tem algumas características interessantes:\n",
    "* é interpretada, ou seja, o interpretador do Python executa o código fonte diretamente, traduzindo cada trecho para instruções de máquina;\n",
    "* é de alto nível, ou seja, o interpretador se vira com detalhes técnicos do computador. Assim, desenvolver um código é mais simples do que em linguagens de baixo nível, nas quais o programador deve se preocupar com detalhes da máquina;\n",
    "* é de propósito geral, ou seja, podemos usar Python para desenvolver programas em diversas áreas. Ao contrário de linguagens de domínio específico, que são especializadas e atendem somente a uma aplicação específica;\n",
    "* tem tipos dinâmicos, ou seja, o interpretador faz a magia de descobrir o que é cada variável.\n",
    "Por essas e várias outras características, Python se torna uma linguagem simples, bela, legível e amigável. É uma\n",
    "linguagem utilizada por diversas empresas, como Wikipedia, Google, Yahoo!, CERN, NASA, Facebook, Amazon,\n",
    "Instagram, Spotify"
   ]
  },
  {
   "cell_type": "markdown",
   "id": "b2ff7e56",
   "metadata": {},
   "source": [
    "# Função \"print()\":"
   ]
  },
  {
   "cell_type": "code",
   "execution_count": 1,
   "id": "eee2ef89",
   "metadata": {
    "scrolled": true
   },
   "outputs": [
    {
     "name": "stdout",
     "output_type": "stream",
     "text": [
      "Olá mundo, Boma dia\n"
     ]
    }
   ],
   "source": [
    "print('Olá mundo, Boma dia')"
   ]
  },
  {
   "cell_type": "markdown",
   "id": "44ddb6b4",
   "metadata": {},
   "source": [
    "# Operadores matemáticos"
   ]
  },
  {
   "cell_type": "code",
   "execution_count": 2,
   "id": "22fffcff",
   "metadata": {},
   "outputs": [
    {
     "data": {
      "text/plain": [
       "11"
      ]
     },
     "execution_count": 2,
     "metadata": {},
     "output_type": "execute_result"
    }
   ],
   "source": [
    "# soma:\n",
    "6 + 5 "
   ]
  },
  {
   "cell_type": "code",
   "execution_count": 3,
   "id": "a8d9337a",
   "metadata": {},
   "outputs": [
    {
     "data": {
      "text/plain": [
       "1"
      ]
     },
     "execution_count": 3,
     "metadata": {},
     "output_type": "execute_result"
    }
   ],
   "source": [
    "# subtração\n",
    "6 - 5 "
   ]
  },
  {
   "cell_type": "code",
   "execution_count": 4,
   "id": "9de5c1c9",
   "metadata": {},
   "outputs": [
    {
     "data": {
      "text/plain": [
       "30"
      ]
     },
     "execution_count": 4,
     "metadata": {},
     "output_type": "execute_result"
    }
   ],
   "source": [
    "# multiplicação\n",
    "6 * 5 "
   ]
  },
  {
   "cell_type": "code",
   "execution_count": 5,
   "id": "9abcd29c",
   "metadata": {},
   "outputs": [
    {
     "data": {
      "text/plain": [
       "3.3333333333333335"
      ]
     },
     "execution_count": 5,
     "metadata": {},
     "output_type": "execute_result"
    }
   ],
   "source": [
    "# divisão\n",
    "10 / 3 "
   ]
  },
  {
   "cell_type": "code",
   "execution_count": 6,
   "id": "cf0ac10f",
   "metadata": {},
   "outputs": [
    {
     "data": {
      "text/plain": [
       "3"
      ]
     },
     "execution_count": 6,
     "metadata": {},
     "output_type": "execute_result"
    }
   ],
   "source": [
    "# divisão inteira\n",
    "10 // 3 # divisão inteira"
   ]
  },
  {
   "cell_type": "code",
   "execution_count": 7,
   "id": "6cdef4f0",
   "metadata": {},
   "outputs": [
    {
     "data": {
      "text/plain": [
       "1"
      ]
     },
     "execution_count": 7,
     "metadata": {},
     "output_type": "execute_result"
    }
   ],
   "source": [
    "# resto da divisão inteira\n",
    "10 % 3 "
   ]
  },
  {
   "cell_type": "code",
   "execution_count": 8,
   "id": "5aac7d5d",
   "metadata": {},
   "outputs": [
    {
     "data": {
      "text/plain": [
       "8"
      ]
     },
     "execution_count": 8,
     "metadata": {},
     "output_type": "execute_result"
    }
   ],
   "source": [
    "# Potenciação: 2^3 = 2*2*2\n",
    "2 ** 3  "
   ]
  },
  {
   "cell_type": "code",
   "execution_count": 9,
   "id": "8219d9b9",
   "metadata": {},
   "outputs": [
    {
     "data": {
      "text/plain": [
       "1.4142135623730951"
      ]
     },
     "execution_count": 9,
     "metadata": {},
     "output_type": "execute_result"
    }
   ],
   "source": [
    "# raizes quadrada:\n",
    "\n",
    "#1ª forma:\n",
    "2 ** (1/2)  "
   ]
  },
  {
   "cell_type": "code",
   "execution_count": 10,
   "id": "e8d737cd",
   "metadata": {},
   "outputs": [
    {
     "data": {
      "text/plain": [
       "1.4142135623730951"
      ]
     },
     "execution_count": 10,
     "metadata": {},
     "output_type": "execute_result"
    }
   ],
   "source": [
    "# raizes quadrada:\n",
    "\n",
    "#2ª forma:\n",
    "import math\n",
    "math.sqrt(2) "
   ]
  },
  {
   "cell_type": "code",
   "execution_count": 11,
   "id": "d8b15b2c",
   "metadata": {},
   "outputs": [
    {
     "data": {
      "text/plain": [
       "-0.4480736161291701"
      ]
     },
     "execution_count": 11,
     "metadata": {},
     "output_type": "execute_result"
    }
   ],
   "source": [
    "# Função matemática como seno, cosseno, pi etc:\n",
    "\n",
    "import math\n",
    "math.cos(90)  #função cosseno!"
   ]
  },
  {
   "cell_type": "markdown",
   "id": "85a4ea68",
   "metadata": {},
   "source": [
    "**Notação Científica**: escrever um número em forma de notação científica é expressar-lo como:\n",
    "$$a \\cdot 10^{n}$$\n",
    "Exemplo: $3000 = 3 \\cdot 10^3$, paraescrever a potência de base 10, usamos **E3** ou **e3**"
   ]
  },
  {
   "cell_type": "code",
   "execution_count": 12,
   "id": "51974164",
   "metadata": {},
   "outputs": [
    {
     "data": {
      "text/plain": [
       "3000.0"
      ]
     },
     "execution_count": 12,
     "metadata": {},
     "output_type": "execute_result"
    }
   ],
   "source": [
    "# 3000 :\n",
    "3E3"
   ]
  },
  {
   "cell_type": "code",
   "execution_count": 13,
   "id": "67b999a4",
   "metadata": {},
   "outputs": [
    {
     "data": {
      "text/plain": [
       "5000.0"
      ]
     },
     "execution_count": 13,
     "metadata": {},
     "output_type": "execute_result"
    }
   ],
   "source": [
    "# 5000 :\n",
    "5e3"
   ]
  },
  {
   "cell_type": "code",
   "execution_count": 14,
   "id": "a7148d48",
   "metadata": {},
   "outputs": [
    {
     "data": {
      "text/plain": [
       "0.005"
      ]
     },
     "execution_count": 14,
     "metadata": {},
     "output_type": "execute_result"
    }
   ],
   "source": [
    "# 0.005 :\n",
    "5e-3"
   ]
  },
  {
   "cell_type": "code",
   "execution_count": 15,
   "id": "4ab29059",
   "metadata": {},
   "outputs": [
    {
     "data": {
      "text/plain": [
       "45000000.0"
      ]
     },
     "execution_count": 15,
     "metadata": {},
     "output_type": "execute_result"
    }
   ],
   "source": [
    "# 45 000 000 :\n",
    "4.5e7"
   ]
  },
  {
   "cell_type": "markdown",
   "id": "58726ed6",
   "metadata": {},
   "source": [
    "## Desafio!\n",
    "\n",
    "* Calcule o volume de uma esfera de raio $r=3 \\ m$ e em seguida de outra de raio $r=5 \\ m$. Lembre que o volume da esfera é dado por $V=\\frac{4}{3}\\pi r^3$"
   ]
  },
  {
   "cell_type": "code",
   "execution_count": 16,
   "id": "203af396",
   "metadata": {},
   "outputs": [],
   "source": [
    "# Resposta:\n"
   ]
  },
  {
   "cell_type": "markdown",
   "id": "54faf09d",
   "metadata": {},
   "source": [
    "* Calcule o valor da expressão:\n",
    "$$2\\cdot 10^3 \\cdot \\frac{100 -413 \\cdot (20 - 5 \\cdot 4)}{5\\cdot 10^{4}}$$"
   ]
  },
  {
   "cell_type": "code",
   "execution_count": 17,
   "id": "c182179c",
   "metadata": {},
   "outputs": [],
   "source": [
    "# resposta : 4.0\n"
   ]
  },
  {
   "cell_type": "markdown",
   "id": "57dbe4b4",
   "metadata": {},
   "source": [
    "* Usando a notação científica em python der os valores dos seguintes números: \n",
    "    * $6.2 \\cdot 10^4$ \n",
    "    * $9.2 \\cdot 10^{-2}$\n",
    "    * $(6.2 \\cdot 10^4)\\cdot (9.2 \\cdot 10^{-2})$\n",
    "    * $\\frac{(6.2 \\cdot 10^4)}{(9.2 \\cdot 10^{-2})}$"
   ]
  },
  {
   "cell_type": "code",
   "execution_count": 19,
   "id": "6c0094fd",
   "metadata": {},
   "outputs": [],
   "source": [
    "# Respostas:\n"
   ]
  },
  {
   "cell_type": "markdown",
   "id": "d96e5901",
   "metadata": {},
   "source": [
    "# Comparações\n",
    "\n",
    "Os operadores de comparação em Python são:"
   ]
  },
  {
   "cell_type": "markdown",
   "id": "1276493d",
   "metadata": {},
   "source": [
    "<br> \n",
    "<img src=\"Operadoreslogicos.png\">\n",
    "<br>"
   ]
  },
  {
   "cell_type": "code",
   "execution_count": null,
   "id": "540daf47",
   "metadata": {},
   "outputs": [],
   "source": [
    "print(2 < 10)\n",
    "\n",
    "print(2 > 11)\n",
    "\n",
    "print(10 > 10)\n",
    "\n",
    "print(10 >= 10)\n",
    "\n",
    "print(42 == 24)\n",
    "\n",
    "print(666 != 137)\n",
    "\n",
    "print(8**2 == 60 + 4)\n",
    "\n",
    "print(100 != 99 + 3)"
   ]
  },
  {
   "cell_type": "markdown",
   "id": "87cfa760",
   "metadata": {},
   "source": [
    "## Desafio!\n",
    "* Aplique os operadores de comparação para os números: $3140000$ e $\\pi\\cdot cos(\\pi) \\cdot 10^6 $. "
   ]
  },
  {
   "cell_type": "code",
   "execution_count": null,
   "id": "6dcef6bd",
   "metadata": {},
   "outputs": [],
   "source": [
    "# resposta: \n"
   ]
  },
  {
   "cell_type": "code",
   "execution_count": null,
   "id": "38ee50f3",
   "metadata": {},
   "outputs": [],
   "source": []
  }
 ],
 "metadata": {
  "kernelspec": {
   "display_name": "Python 3 (ipykernel)",
   "language": "python",
   "name": "python3"
  },
  "language_info": {
   "codemirror_mode": {
    "name": "ipython",
    "version": 3
   },
   "file_extension": ".py",
   "mimetype": "text/x-python",
   "name": "python",
   "nbconvert_exporter": "python",
   "pygments_lexer": "ipython3",
   "version": "3.9.12"
  },
  "nbTranslate": {
   "displayLangs": [
    "*"
   ],
   "hotkey": "alt-t",
   "langInMainMenu": true,
   "sourceLang": "en",
   "targetLang": "fr",
   "useGoogleTranslate": true
  },
  "toc": {
   "base_numbering": 1,
   "nav_menu": {},
   "number_sections": true,
   "sideBar": true,
   "skip_h1_title": false,
   "title_cell": "Table of Contents",
   "title_sidebar": "Contents",
   "toc_cell": false,
   "toc_position": {},
   "toc_section_display": true,
   "toc_window_display": false
  },
  "varInspector": {
   "cols": {
    "lenName": 16,
    "lenType": 16,
    "lenVar": 40
   },
   "kernels_config": {
    "python": {
     "delete_cmd_postfix": "",
     "delete_cmd_prefix": "del ",
     "library": "var_list.py",
     "varRefreshCmd": "print(var_dic_list())"
    },
    "r": {
     "delete_cmd_postfix": ") ",
     "delete_cmd_prefix": "rm(",
     "library": "var_list.r",
     "varRefreshCmd": "cat(var_dic_list()) "
    }
   },
   "types_to_exclude": [
    "module",
    "function",
    "builtin_function_or_method",
    "instance",
    "_Feature"
   ],
   "window_display": false
  }
 },
 "nbformat": 4,
 "nbformat_minor": 5
}

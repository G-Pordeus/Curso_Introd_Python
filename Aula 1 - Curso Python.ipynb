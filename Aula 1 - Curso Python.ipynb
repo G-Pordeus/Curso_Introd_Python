{
 "cells": [
  {
   "cell_type": "markdown",
   "id": "d34342c9",
   "metadata": {},
   "source": [
    "# Variável\n",
    "\n",
    "Variável é um nome que se refere a um valor.\n",
    "\n",
    "## Atribuição\n",
    "Atribuição é o processo de criar uma nova variável e dar um novo valor a ela. Alguns exemplos de atribuições:"
   ]
  },
  {
   "cell_type": "code",
   "execution_count": 1,
   "id": "c9b204cd",
   "metadata": {},
   "outputs": [
    {
     "name": "stdout",
     "output_type": "stream",
     "text": [
      "11\n"
     ]
    }
   ],
   "source": [
    "numero = 11\n",
    "print(numero)"
   ]
  },
  {
   "cell_type": "code",
   "execution_count": 2,
   "id": "36c29629",
   "metadata": {},
   "outputs": [
    {
     "name": "stdout",
     "output_type": "stream",
     "text": [
      "Me dá um copo d'água\n"
     ]
    }
   ],
   "source": [
    "frase = \"Me dá um copo d'água\"\n",
    "print(frase)"
   ]
  },
  {
   "cell_type": "code",
   "execution_count": 3,
   "id": "78da15ba",
   "metadata": {},
   "outputs": [
    {
     "name": "stdout",
     "output_type": "stream",
     "text": [
      "3.141592\n"
     ]
    }
   ],
   "source": [
    "pi = 3.141592\n",
    "print(pi)"
   ]
  },
  {
   "cell_type": "markdown",
   "id": "a3ced4f8",
   "metadata": {},
   "source": [
    "No exemplo anterior realizamos três atribuições.\n",
    "\n",
    "O interessante é que você pode realizar operações com estes valores também, veja:"
   ]
  },
  {
   "cell_type": "code",
   "execution_count": 4,
   "id": "7d688504",
   "metadata": {},
   "outputs": [
    {
     "name": "stdout",
     "output_type": "stream",
     "text": [
      "30\n"
     ]
    }
   ],
   "source": [
    "Num_banana  = 5\n",
    "Num_laranja = 15\n",
    "Num_manga   = 10\n",
    "\n",
    "num_frutas = Num_banana + Num_laranja + Num_manga\n",
    "\n",
    "print(num_frutas)"
   ]
  },
  {
   "cell_type": "markdown",
   "id": "38f5a682",
   "metadata": {},
   "source": [
    "### Vamos praticar !\n",
    "* Faça um algoritmo para resolver a equação z = x + y - 4, armazenando o resultado na variável z. Considere que os valores iniciais de x e y são, respectivamente, 10 e 5. Depois disso exiba o resultado."
   ]
  },
  {
   "cell_type": "code",
   "execution_count": 5,
   "id": "b5abac7e",
   "metadata": {},
   "outputs": [],
   "source": [
    "# Resposta:\n"
   ]
  },
  {
   "cell_type": "markdown",
   "id": "329ba5bd",
   "metadata": {},
   "source": [
    "* Faça um algoritmo para resolver a equação z = a * a - b + c, armazenando o resultado na variável z. Considere que os valores iniciais de a, b e c são, respecitvamente, 4, 6.5 e 10.5. Depois disso exiba o resultado."
   ]
  },
  {
   "cell_type": "code",
   "execution_count": 6,
   "id": "50a62e38",
   "metadata": {},
   "outputs": [],
   "source": [
    "# Resposta:\n"
   ]
  },
  {
   "cell_type": "markdown",
   "id": "b2ff7e56",
   "metadata": {},
   "source": [
    "# Tipos:\n",
    "\n",
    "Nos exercícios fizemos algumas operações matemáticas, mas nem todos os dados são números. As vezes precisamos armazenar valores de outros tipos, vamos conhecê-los:\n",
    "* **Números**: inteiros (**int**) e com casas decimais (**float**)\n",
    "* **Textos** (string ou **str**)\n",
    "* **Lógicos** (**bool**) - Verdadeiro (True) ou Falso (False)\n",
    "* outros: list e dic - estudaremos depois\n",
    "\n",
    "Para saber o tipo de um objeto ou variável, usamos a função **type()**:"
   ]
  },
  {
   "cell_type": "code",
   "execution_count": 7,
   "id": "eee2ef89",
   "metadata": {
    "scrolled": true
   },
   "outputs": [
    {
     "data": {
      "text/plain": [
       "'123'"
      ]
     },
     "execution_count": 7,
     "metadata": {},
     "output_type": "execute_result"
    }
   ],
   "source": [
    "x = 12.5\n",
    "y = \"Aula de programação\"\n",
    "z = 10 >= 2\n",
    "\n",
    "type(z) \n",
    "\n",
    "str(123)"
   ]
  },
  {
   "cell_type": "markdown",
   "id": "44ddb6b4",
   "metadata": {},
   "source": [
    "# Função *input*()"
   ]
  },
  {
   "cell_type": "markdown",
   "id": "b0ea6b95",
   "metadata": {},
   "source": [
    "A função *input()* é utilizada para solicitar uma infrmação do usuário. \n",
    "\n",
    "Vamos juntos fazer um programa que solicite o nome do usuário e depois exiba-o no console!"
   ]
  },
  {
   "cell_type": "code",
   "execution_count": 8,
   "id": "a8d9337a",
   "metadata": {},
   "outputs": [
    {
     "name": "stdout",
     "output_type": "stream",
     "text": [
      "Qual a sua idade?33\n",
      "33\n"
     ]
    }
   ],
   "source": [
    "idade = input('Qual a sua idade?')\n",
    "\n",
    "print(idade)"
   ]
  },
  {
   "cell_type": "code",
   "execution_count": 10,
   "id": "9de5c1c9",
   "metadata": {},
   "outputs": [
    {
     "name": "stdout",
     "output_type": "stream",
     "text": [
      "Qual o seu nome?G-Pordeus\n",
      "Prazer, G-Pordeus!\n"
     ]
    }
   ],
   "source": [
    "nome = input(\"Qual o seu nome?\")\n",
    "\n",
    "print(f'Prazer, {nome}!')  # veremos esse tipo de formatação mais tarde!"
   ]
  },
  {
   "cell_type": "markdown",
   "id": "52996bac",
   "metadata": {},
   "source": [
    "Legal né? - Note que você pode utilizar a função **input** para obter dados de qualquer tipo, não só para textos, mas nos outros casos será preciso transformar o tipo."
   ]
  },
  {
   "cell_type": "markdown",
   "id": "87cfa760",
   "metadata": {},
   "source": [
    "## Desafio!\n",
    "* Faça um algoritmo que pergunte ao usuário **quantos anos ele tem**, depois disso, escreva **True** no console, caso ele já tenha alcançado a **maioridade (18 anos)**, caso contrário escreva **False**. "
   ]
  },
  {
   "cell_type": "code",
   "execution_count": 11,
   "id": "6dcef6bd",
   "metadata": {},
   "outputs": [],
   "source": [
    "# resposta:  lembre de usar int() e ou maioridade = idade > 18\n"
   ]
  },
  {
   "cell_type": "markdown",
   "id": "1f741403",
   "metadata": {},
   "source": [
    "# Strings (sequência de caracteres)\n",
    "\n",
    "Strings são tipos que armazenam uma sequência de caracteres:"
   ]
  },
  {
   "cell_type": "code",
   "execution_count": 12,
   "id": "34825c99",
   "metadata": {},
   "outputs": [
    {
     "data": {
      "text/plain": [
       "'Silvio Santos'"
      ]
     },
     "execution_count": 12,
     "metadata": {},
     "output_type": "execute_result"
    }
   ],
   "source": [
    "# aspas simples:\n",
    "nome = 'Silvio Santos'\n",
    "nome"
   ]
  },
  {
   "cell_type": "code",
   "execution_count": 13,
   "id": "c1ac8f2b",
   "metadata": {},
   "outputs": [
    {
     "data": {
      "text/plain": [
       "'Silvio Santos'"
      ]
     },
     "execution_count": 13,
     "metadata": {},
     "output_type": "execute_result"
    }
   ],
   "source": [
    "# aspas duplas:\n",
    "nome = \"Silvio Santos\"\n",
    "nome"
   ]
  },
  {
   "cell_type": "markdown",
   "id": "1950332f",
   "metadata": {},
   "source": [
    "Também é possível fazer algumas **operações com strings**:"
   ]
  },
  {
   "cell_type": "code",
   "execution_count": 14,
   "id": "c04d4a1c",
   "metadata": {},
   "outputs": [
    {
     "data": {
      "text/plain": [
       "'Silvio SantosSilvio SantosSilvio SantosSilvio SantosSilvio SantosSilvio SantosSilvio SantosSilvio SantosSilvio SantosSilvio SantosSilvio SantosSilvio SantosSilvio SantosSilvio SantosSilvio SantosSilvio SantosSilvio SantosSilvio SantosSilvio SantosSilvio Santos'"
      ]
     },
     "execution_count": 14,
     "metadata": {},
     "output_type": "execute_result"
    }
   ],
   "source": [
    "nome = \"Silvio Santos\"\n",
    "nome * 20 # os númers devem ser inteiros!"
   ]
  },
  {
   "cell_type": "code",
   "execution_count": 15,
   "id": "658bfcf7",
   "metadata": {},
   "outputs": [
    {
     "data": {
      "text/plain": [
       "'Silvio Santos vem aí, lá lá lá lá lá lá lá lá lá lá lá lá lá lá lá lá lá lá lá lá lá lá lá lá lá lá lá lá lá lá lá lá lá lá lá lá lá lá lá lá lá lá lá lá lá lá lá lá lá lá lá lá lá lá lá lá lá lá lá lá !!'"
      ]
     },
     "execution_count": 15,
     "metadata": {},
     "output_type": "execute_result"
    }
   ],
   "source": [
    "nome = \"Silvio Santos\"\n",
    "canto1 = 'vem aí, '\n",
    "canto2 = 'lá '\n",
    "\n",
    "nome + ' ' + canto1 + canto2 * 60 + '!!'"
   ]
  },
  {
   "cell_type": "markdown",
   "id": "804a9747",
   "metadata": {},
   "source": [
    "Para strings em **várias linhas**, utilize **3 aspas**:"
   ]
  },
  {
   "cell_type": "code",
   "execution_count": 16,
   "id": "e559ab37",
   "metadata": {},
   "outputs": [
    {
     "name": "stdout",
     "output_type": "stream",
     "text": [
      "Aqui consigo inserir um textão com várias linhas, posso iniciar em uma...\n",
      "e posso continuar em outra\n",
      "e em outra\n",
      "gfssvhbje\n",
      "skfnkfnfn\n",
      "mnfjbrfhj\n",
      "e mais uma\n",
      "e acabou.\n"
     ]
    }
   ],
   "source": [
    "string_grande = '''Aqui consigo inserir um textão com várias linhas, posso iniciar em uma...\n",
    "e posso continuar em outra\n",
    "e em outra\n",
    "gfssvhbje\n",
    "skfnkfnfn\n",
    "mnfjbrfhj\n",
    "e mais uma\n",
    "e acabou.'''\n",
    "\n",
    "print(string_grande)"
   ]
  },
  {
   "cell_type": "markdown",
   "id": "6bdecab5",
   "metadata": {},
   "source": [
    "# Função *Format()*\n",
    "\n",
    "A formatação de string nos permite criar frases dinâmicas, utilizando valores de quaisquer variáveis desejadas. Por exemplo:"
   ]
  },
  {
   "cell_type": "code",
   "execution_count": 17,
   "id": "8bde546c",
   "metadata": {},
   "outputs": [
    {
     "name": "stdout",
     "output_type": "stream",
     "text": [
      "Digite seu nome G-Pordeus\n",
      "Olá, G-Pordeus. Seja, bem vindo!\n"
     ]
    }
   ],
   "source": [
    "nome = input('Digite seu nome ')\n",
    "\n",
    "frase = \"Olá, {}. Seja, bem vindo!\".format(nome)\n",
    "\n",
    "print(frase)"
   ]
  },
  {
   "cell_type": "code",
   "execution_count": 18,
   "id": "a573a6bd",
   "metadata": {},
   "outputs": [
    {
     "name": "stdout",
     "output_type": "stream",
     "text": [
      "Digite seu nome G-Pordeus\n",
      "Digite sua idade 33\n",
      "Seu nome é G-Pordeus e sua idade é de 33 anos\n"
     ]
    }
   ],
   "source": [
    "nome = input('Digite seu nome ')\n",
    "\n",
    "idade = input('Digite sua idade ')\n",
    "\n",
    "frase = \"Seu nome é {} e sua idade é de {} anos\".format(nome, idade)\n",
    "\n",
    "print(frase)"
   ]
  },
  {
   "cell_type": "code",
   "execution_count": 19,
   "id": "021bbcfe",
   "metadata": {},
   "outputs": [
    {
     "name": "stdout",
     "output_type": "stream",
     "text": [
      "5 x 6 = 30\n"
     ]
    }
   ],
   "source": [
    "frase = \"{} x {} = {}\".format(5, 6, 5*6)\n",
    "\n",
    "print(frase)"
   ]
  },
  {
   "cell_type": "markdown",
   "id": "420161f2",
   "metadata": {},
   "source": [
    "## Alternativa ao *.format()*"
   ]
  },
  {
   "cell_type": "markdown",
   "id": "67ccdd0c",
   "metadata": {},
   "source": [
    "Essa alternativa é conhecida como **fstrings** e funciona da seguinte forma:"
   ]
  },
  {
   "cell_type": "code",
   "execution_count": 20,
   "id": "5621737c",
   "metadata": {},
   "outputs": [
    {
     "name": "stdout",
     "output_type": "stream",
     "text": [
      "Digite seu nome G-Pordeus\n",
      "Olá, G-Pordeus. Seja, bem vindo!\n"
     ]
    }
   ],
   "source": [
    "nome = input('Digite seu nome ')\n",
    "\n",
    "frase = f\"Olá, {nome}. Seja, bem vindo!\"\n",
    "\n",
    "print(frase)"
   ]
  },
  {
   "cell_type": "code",
   "execution_count": 21,
   "id": "87215a2a",
   "metadata": {},
   "outputs": [
    {
     "name": "stdout",
     "output_type": "stream",
     "text": [
      "Digite seu nome G-Pordeus\n",
      "Digite sua idade 33\n",
      "Seu nome é G-Pordeus e sua idade é de 33 anos\n"
     ]
    }
   ],
   "source": [
    "nome = input('Digite seu nome ')\n",
    "\n",
    "idade = input('Digite sua idade ')\n",
    "\n",
    "frase = f\"Seu nome é {nome} e sua idade é de {idade} anos\"\n",
    "\n",
    "print(frase)"
   ]
  },
  {
   "cell_type": "markdown",
   "id": "43dcbf99",
   "metadata": {},
   "source": [
    "## Desafio!\n",
    "* Faça um algoritmo que pergunte ao usuário **o seu nome**, **quantos anos ele tem** e o **mês de aniversário**, depois disso, escreva no console: **O usário ______, tem ____ anos e completa ____ anos em ____ .** "
   ]
  },
  {
   "cell_type": "code",
   "execution_count": null,
   "id": "b8a70be1",
   "metadata": {},
   "outputs": [],
   "source": [
    "# Resposta:\n"
   ]
  },
  {
   "cell_type": "markdown",
   "id": "585133c6",
   "metadata": {},
   "source": [
    "# Tamanho"
   ]
  },
  {
   "cell_type": "markdown",
   "id": "b1f23b9f",
   "metadata": {},
   "source": [
    "A função embutida **len()** nos permite, entre outras coisas, saber o tamanho de uma string:"
   ]
  },
  {
   "cell_type": "code",
   "execution_count": 22,
   "id": "8cebe8ae",
   "metadata": {
    "scrolled": true
   },
   "outputs": [
    {
     "data": {
      "text/plain": [
       "12"
      ]
     },
     "execution_count": 22,
     "metadata": {},
     "output_type": "execute_result"
    }
   ],
   "source": [
    "len('Abracad abra')"
   ]
  },
  {
   "cell_type": "code",
   "execution_count": 23,
   "id": "dc5bbffc",
   "metadata": {},
   "outputs": [
    {
     "data": {
      "text/plain": [
       "22"
      ]
     },
     "execution_count": 23,
     "metadata": {},
     "output_type": "execute_result"
    }
   ],
   "source": [
    "palavras = 'Faz um pull request lá'\n",
    "len(palavras)"
   ]
  },
  {
   "cell_type": "markdown",
   "id": "463c0f4d",
   "metadata": {},
   "source": [
    "# Índice"
   ]
  },
  {
   "cell_type": "markdown",
   "id": "a58d8fd3",
   "metadata": {},
   "source": [
    "Como visto anteriormente, o método len() pode ser utilizado para obter o tamanho de estruturas, sejam elas strings, listas, etc. Esse tamanho representa a quantidade de elementos na estrutura.\n",
    "\n",
    "Para obter somente um caractere de dentro dessas estruturas, deve-se utilizar o acesso por índices, no qual o índice entre colchetes [] representa a posição do elemento que se deseja acessar."
   ]
  },
  {
   "cell_type": "markdown",
   "id": "d0f513c2",
   "metadata": {},
   "source": [
    "<br>\n",
    "<img src=\"fig2.png\">\n",
    "<br>"
   ]
  },
  {
   "cell_type": "code",
   "execution_count": 24,
   "id": "06fccb94",
   "metadata": {},
   "outputs": [
    {
     "data": {
      "text/plain": [
       "'y'"
      ]
     },
     "execution_count": 24,
     "metadata": {},
     "output_type": "execute_result"
    }
   ],
   "source": [
    "x = \"python\"\n",
    "x[1] # primeira"
   ]
  },
  {
   "cell_type": "code",
   "execution_count": 25,
   "id": "4de906fa",
   "metadata": {},
   "outputs": [
    {
     "data": {
      "text/plain": [
       "'n'"
      ]
     },
     "execution_count": 25,
     "metadata": {},
     "output_type": "execute_result"
    }
   ],
   "source": [
    "x[5] # último"
   ]
  },
  {
   "cell_type": "markdown",
   "id": "5711eda0",
   "metadata": {},
   "source": [
    "Índices negativos correspondem à percorrer a estrutura (string, lista, …) na ordem reversa:"
   ]
  },
  {
   "cell_type": "code",
   "execution_count": 26,
   "id": "5f48035d",
   "metadata": {},
   "outputs": [
    {
     "data": {
      "text/plain": [
       "'n'"
      ]
     },
     "execution_count": 26,
     "metadata": {},
     "output_type": "execute_result"
    }
   ],
   "source": [
    "x[-1] # último"
   ]
  },
  {
   "cell_type": "code",
   "execution_count": 27,
   "id": "225165c2",
   "metadata": {},
   "outputs": [
    {
     "data": {
      "text/plain": [
       "'h'"
      ]
     },
     "execution_count": 27,
     "metadata": {},
     "output_type": "execute_result"
    }
   ],
   "source": [
    "x[-3] # terceira de tras pra frente"
   ]
  },
  {
   "cell_type": "markdown",
   "id": "c2f7d96e",
   "metadata": {},
   "source": [
    "# Fatias"
   ]
  },
  {
   "cell_type": "markdown",
   "id": "4621d7d2",
   "metadata": {},
   "source": [
    "Se, ao invés de obter apenas um elemento de uma estrutura (string, lista, …), deseja-se obter múltiplos elementos, deve-se utilizar slicing (fatiamento). No lugar de colocar o índice do elemento entre chaves, deve-se colocar o índice do primeiro elemento, dois pontos (:) e o próximo índice do último elemento desejado, tudo entre colchetes. Por exemplo:"
   ]
  },
  {
   "cell_type": "code",
   "execution_count": 28,
   "id": "00a27d9d",
   "metadata": {},
   "outputs": [
    {
     "data": {
      "text/plain": [
       "'Aprender'"
      ]
     },
     "execution_count": 28,
     "metadata": {},
     "output_type": "execute_result"
    }
   ],
   "source": [
    "frase = \"Aprender Python é muito divertido!\"\n",
    "frase[0:8] # do zero até o antes do 5"
   ]
  },
  {
   "cell_type": "code",
   "execution_count": 29,
   "id": "41b3ae61",
   "metadata": {},
   "outputs": [
    {
     "data": {
      "text/plain": [
       "'Aprender Python é muito divertido!'"
      ]
     },
     "execution_count": 29,
     "metadata": {},
     "output_type": "execute_result"
    }
   ],
   "source": [
    "frase[:] # tudo!"
   ]
  },
  {
   "cell_type": "code",
   "execution_count": 30,
   "id": "d5199869",
   "metadata": {},
   "outputs": [
    {
     "data": {
      "text/plain": [
       "'er Python é muito divertido!'"
      ]
     },
     "execution_count": 30,
     "metadata": {},
     "output_type": "execute_result"
    }
   ],
   "source": [
    "frase[6:] # Se omitido o segundo índice significa 'obter até o final'"
   ]
  },
  {
   "cell_type": "code",
   "execution_count": 31,
   "id": "65b9051e",
   "metadata": {},
   "outputs": [
    {
     "data": {
      "text/plain": [
       "'Aprend'"
      ]
     },
     "execution_count": 31,
     "metadata": {},
     "output_type": "execute_result"
    }
   ],
   "source": [
    "frase[:6] # se omitido o primeiro indice, significa 'obter desde o começo'"
   ]
  },
  {
   "cell_type": "code",
   "execution_count": 32,
   "id": "75aec583",
   "metadata": {},
   "outputs": [
    {
     "data": {
      "text/plain": [
       "'render Python é muit'"
      ]
     },
     "execution_count": 32,
     "metadata": {},
     "output_type": "execute_result"
    }
   ],
   "source": [
    "frase[2:-12] # funciona com números negativos também"
   ]
  },
  {
   "cell_type": "markdown",
   "id": "c1565a6b",
   "metadata": {},
   "source": [
    "É possível controlar o passo que a fatia usa. Para isso, coloca-se mais um dois pontos (:) depois do segundo índice e o tamanho do passo:"
   ]
  },
  {
   "cell_type": "code",
   "execution_count": 33,
   "id": "8fe917d7",
   "metadata": {},
   "outputs": [
    {
     "data": {
      "text/plain": [
       "'Arne yhnémiodvrio'"
      ]
     },
     "execution_count": 33,
     "metadata": {},
     "output_type": "execute_result"
    }
   ],
   "source": [
    "frase[::2] # do começo, até o fim, de 2 em 2"
   ]
  },
  {
   "cell_type": "code",
   "execution_count": 34,
   "id": "ad2e41ba",
   "metadata": {},
   "outputs": [
    {
     "data": {
      "text/plain": [
       "'rne yhnémiodvri'"
      ]
     },
     "execution_count": 34,
     "metadata": {},
     "output_type": "execute_result"
    }
   ],
   "source": [
    "frase[2:-2:2] # Do terceiro, até o ante penúltimo, de 2 em dois"
   ]
  },
  {
   "cell_type": "code",
   "execution_count": 35,
   "id": "fa0df297",
   "metadata": {},
   "outputs": [
    {
     "data": {
      "text/plain": [
       "'e'"
      ]
     },
     "execution_count": 35,
     "metadata": {},
     "output_type": "execute_result"
    }
   ],
   "source": [
    "frase[3]"
   ]
  },
  {
   "cell_type": "markdown",
   "id": "78b1550b",
   "metadata": {},
   "source": [
    "**Resumindo:**  fatiável[começo : fim : passo]"
   ]
  },
  {
   "cell_type": "markdown",
   "id": "b894a245",
   "metadata": {},
   "source": [
    "## Desafio!\n",
    "* Considera a seguinte frase: \"Eletiva Jovens Programadores\", e responda:\n",
    "     * Usando a função len() obtenha tamanho dessa frase \"strings\".\n",
    "     * Usando os índeces selecine a letra \"J\" a \"P\" e \"d\" da referida frase.\n",
    "     * Usando as fatias separe/selecine da fraseas palavras \"Eletiva\", \"Jovens\" e \"Programadores\" e as atibua as variavel x, y e z. "
   ]
  },
  {
   "cell_type": "markdown",
   "id": "0f6b6acb",
   "metadata": {},
   "source": [
    "Nessa última podemos usar a função split():"
   ]
  },
  {
   "cell_type": "code",
   "execution_count": 38,
   "id": "aa02889b",
   "metadata": {},
   "outputs": [
    {
     "data": {
      "text/plain": [
       "['Eletiva', 'Jovens', 'Programadores']"
      ]
     },
     "execution_count": 38,
     "metadata": {},
     "output_type": "execute_result"
    }
   ],
   "source": [
    "x = \"Eletiva Jovens Programadores\"\n",
    "y= x.split()\n",
    "y"
   ]
  },
  {
   "cell_type": "code",
   "execution_count": null,
   "id": "97042a91",
   "metadata": {},
   "outputs": [],
   "source": []
  }
 ],
 "metadata": {
  "kernelspec": {
   "display_name": "Python 3 (ipykernel)",
   "language": "python",
   "name": "python3"
  },
  "language_info": {
   "codemirror_mode": {
    "name": "ipython",
    "version": 3
   },
   "file_extension": ".py",
   "mimetype": "text/x-python",
   "name": "python",
   "nbconvert_exporter": "python",
   "pygments_lexer": "ipython3",
   "version": "3.9.12"
  },
  "nbTranslate": {
   "displayLangs": [
    "*"
   ],
   "hotkey": "alt-t",
   "langInMainMenu": true,
   "sourceLang": "en",
   "targetLang": "fr",
   "useGoogleTranslate": true
  },
  "toc": {
   "base_numbering": 1,
   "nav_menu": {},
   "number_sections": true,
   "sideBar": true,
   "skip_h1_title": false,
   "title_cell": "Table of Contents",
   "title_sidebar": "Contents",
   "toc_cell": false,
   "toc_position": {},
   "toc_section_display": true,
   "toc_window_display": false
  },
  "varInspector": {
   "cols": {
    "lenName": 16,
    "lenType": 16,
    "lenVar": 40
   },
   "kernels_config": {
    "python": {
     "delete_cmd_postfix": "",
     "delete_cmd_prefix": "del ",
     "library": "var_list.py",
     "varRefreshCmd": "print(var_dic_list())"
    },
    "r": {
     "delete_cmd_postfix": ") ",
     "delete_cmd_prefix": "rm(",
     "library": "var_list.r",
     "varRefreshCmd": "cat(var_dic_list()) "
    }
   },
   "types_to_exclude": [
    "module",
    "function",
    "builtin_function_or_method",
    "instance",
    "_Feature"
   ],
   "window_display": false
  }
 },
 "nbformat": 4,
 "nbformat_minor": 5
}

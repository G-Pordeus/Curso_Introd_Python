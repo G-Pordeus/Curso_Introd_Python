{
 "cells": [
  {
   "cell_type": "markdown",
   "id": "141320b0",
   "metadata": {},
   "source": [
    "# Aula 2 - Listas\n",
    "**Listas são estruturas de dados capazes de armazenar múltiplos elementos.**"
   ]
  },
  {
   "cell_type": "markdown",
   "id": "219703b2",
   "metadata": {},
   "source": [
    "## Criando uma lista / Declaração"
   ]
  },
  {
   "cell_type": "code",
   "execution_count": 1,
   "id": "5fd0799c",
   "metadata": {},
   "outputs": [
    {
     "data": {
      "text/plain": [
       "[]"
      ]
     },
     "execution_count": 1,
     "metadata": {},
     "output_type": "execute_result"
    }
   ],
   "source": [
    "# Lista vazia\n",
    "vazia = []\n",
    "vazia"
   ]
  },
  {
   "cell_type": "code",
   "execution_count": 2,
   "id": "0df7c897",
   "metadata": {},
   "outputs": [
    {
     "data": {
      "text/plain": [
       "[]"
      ]
     },
     "execution_count": 2,
     "metadata": {},
     "output_type": "execute_result"
    }
   ],
   "source": [
    "# ou ainda, usando a função list()\n",
    "outra_lista_vazia = list()\n",
    "outra_lista_vazia"
   ]
  },
  {
   "cell_type": "markdown",
   "id": "538ba799",
   "metadata": {},
   "source": [
    "**A lista pode conter elementos de tipos diferentes:**"
   ]
  },
  {
   "cell_type": "code",
   "execution_count": 3,
   "id": "29106452",
   "metadata": {},
   "outputs": [
    {
     "data": {
      "text/plain": [
       "['lorem ipsum', 150, 1.3, [-1, -2], True]"
      ]
     },
     "execution_count": 3,
     "metadata": {},
     "output_type": "execute_result"
    }
   ],
   "source": [
    "lista = ['lorem ipsum', 150, 1.3, [-1, -2], True]\n",
    "lista"
   ]
  },
  {
   "cell_type": "markdown",
   "id": "0b51e9c9",
   "metadata": {},
   "source": [
    "### Função range()\n",
    "Em Python existe a função embutida **range()**, com ela é possível produzir uma lista extensa de uma maneira bem simples:"
   ]
  },
  {
   "cell_type": "code",
   "execution_count": 4,
   "id": "249318dd",
   "metadata": {},
   "outputs": [
    {
     "name": "stdout",
     "output_type": "stream",
     "text": [
      "[0, 5, 10, 15, 20, 25]\n"
     ]
    }
   ],
   "source": [
    "#  range(inicio, fim, passo)\n",
    "\n",
    "numeros = range(0, 30, 5)\n",
    "\n",
    "# Precisamos transforma a função range em uma lista\n",
    "# Fazemos isso com a função list()\n",
    "lista = list(numeros)  \n",
    "print(lista)"
   ]
  },
  {
   "cell_type": "code",
   "execution_count": 5,
   "id": "11f14f0c",
   "metadata": {},
   "outputs": [
    {
     "name": "stdout",
     "output_type": "stream",
     "text": [
      "[5, 6, 7, 8, 9, 10, 11, 12, 13, 14, 15, 16, 17, 18, 19, 20, 21, 22, 23, 24, 25, 26, 27, 28, 29]\n"
     ]
    }
   ],
   "source": [
    "# outras fromas de usar a fnção range()\n",
    "numeros1 = range(30)\n",
    "numeros2 = range(5, 30)\n",
    "\n",
    "# Precisamos transforma a função range em uma lista\n",
    "# Fazemos isso com a função list()\n",
    "lista = list(numeros2)  \n",
    "print(lista)"
   ]
  },
  {
   "cell_type": "markdown",
   "id": "4c15bc3f",
   "metadata": {},
   "source": [
    "## índices e fatias"
   ]
  },
  {
   "cell_type": "code",
   "execution_count": 6,
   "id": "00901fc5",
   "metadata": {},
   "outputs": [],
   "source": [
    "#lista de notas\n",
    "notas = [9.0, 8.0, 5.0, 10.0, 7.0, 7.0, 8.0, 8.0, 7.5] "
   ]
  },
  {
   "cell_type": "markdown",
   "id": "f0a45cf9",
   "metadata": {},
   "source": [
    "**Assim como nas strings, é possível acessar separadamente cada item de uma lista a partir de seu índice:**"
   ]
  },
  {
   "cell_type": "code",
   "execution_count": 7,
   "id": "df729052",
   "metadata": {},
   "outputs": [
    {
     "data": {
      "text/plain": [
       "10.0"
      ]
     },
     "execution_count": 7,
     "metadata": {},
     "output_type": "execute_result"
    }
   ],
   "source": [
    "notas[3]"
   ]
  },
  {
   "cell_type": "code",
   "execution_count": 8,
   "id": "b51ef570",
   "metadata": {},
   "outputs": [
    {
     "data": {
      "text/plain": [
       "8.0"
      ]
     },
     "execution_count": 8,
     "metadata": {},
     "output_type": "execute_result"
    }
   ],
   "source": [
    "notas[-3]"
   ]
  },
  {
   "cell_type": "markdown",
   "id": "3d0dc2ce",
   "metadata": {},
   "source": [
    "**Ou pode-se acessar através de slices (fatias), como nas strings:**"
   ]
  },
  {
   "cell_type": "code",
   "execution_count": 9,
   "id": "0388d218",
   "metadata": {},
   "outputs": [
    {
     "data": {
      "text/plain": [
       "[5.0, 10.0, 7.0]"
      ]
     },
     "execution_count": 9,
     "metadata": {},
     "output_type": "execute_result"
    }
   ],
   "source": [
    "notas[2:5]"
   ]
  },
  {
   "cell_type": "code",
   "execution_count": 10,
   "id": "045ec98e",
   "metadata": {},
   "outputs": [
    {
     "data": {
      "text/plain": [
       "[5.0, 7.0, 8.0]"
      ]
     },
     "execution_count": 10,
     "metadata": {},
     "output_type": "execute_result"
    }
   ],
   "source": [
    "notas[2:8:2]"
   ]
  },
  {
   "cell_type": "markdown",
   "id": "3a959508",
   "metadata": {},
   "source": [
    "**É possível obter o tamanho da lista utilizando o método len():**"
   ]
  },
  {
   "cell_type": "code",
   "execution_count": 11,
   "id": "84b670f8",
   "metadata": {},
   "outputs": [
    {
     "data": {
      "text/plain": [
       "9"
      ]
     },
     "execution_count": 11,
     "metadata": {},
     "output_type": "execute_result"
    }
   ],
   "source": [
    "len(notas)"
   ]
  },
  {
   "cell_type": "markdown",
   "id": "8af02b10",
   "metadata": {},
   "source": [
    "## Trabalhando com listas"
   ]
  },
  {
   "cell_type": "code",
   "execution_count": 12,
   "id": "3dacbf96",
   "metadata": {},
   "outputs": [
    {
     "data": {
      "text/plain": [
       "['maçã', 'banana', 'abacaxi']"
      ]
     },
     "execution_count": 12,
     "metadata": {},
     "output_type": "execute_result"
    }
   ],
   "source": [
    "nomes_frutas = [\"maçã\", \"banana\", \"abacaxi\"]\n",
    "nomes_frutas"
   ]
  },
  {
   "cell_type": "markdown",
   "id": "c145e771",
   "metadata": {},
   "source": [
    "**Removendo um item da lista**"
   ]
  },
  {
   "cell_type": "code",
   "execution_count": 13,
   "id": "d723ce2a",
   "metadata": {},
   "outputs": [
    {
     "data": {
      "text/plain": [
       "['maçã', 'abacaxi']"
      ]
     },
     "execution_count": 13,
     "metadata": {},
     "output_type": "execute_result"
    }
   ],
   "source": [
    "# usando a função del \"delet\"\n",
    "del nomes_frutas[1]  # deletando o segundo ite da lista\n",
    "nomes_frutas"
   ]
  },
  {
   "cell_type": "code",
   "execution_count": 14,
   "id": "cfac7066",
   "metadata": {},
   "outputs": [
    {
     "data": {
      "text/plain": [
       "['abacaxi']"
      ]
     },
     "execution_count": 14,
     "metadata": {},
     "output_type": "execute_result"
    }
   ],
   "source": [
    "# usando a função remove() \n",
    "nomes_frutas.remove('maçã')\n",
    "nomes_frutas"
   ]
  },
  {
   "cell_type": "markdown",
   "id": "756abf70",
   "metadata": {},
   "source": [
    "**O operador + concatena/junta listas:**"
   ]
  },
  {
   "cell_type": "code",
   "execution_count": 15,
   "id": "95213c5a",
   "metadata": {},
   "outputs": [
    {
     "data": {
      "text/plain": [
       "['maçã', 'banana', 'abacaxi', 'teclado', 'monitor', 'quadro']"
      ]
     },
     "execution_count": 15,
     "metadata": {},
     "output_type": "execute_result"
    }
   ],
   "source": [
    "nomes_frutas = [\"maçã\", \"banana\", \"abacaxi\"]\n",
    "nomes_objetos = [\"teclado\", \"monitor\", \"quadro\"]\n",
    "\n",
    "lista_junta = nomes_frutas + nomes_objetos\n",
    "lista_junta"
   ]
  },
  {
   "cell_type": "markdown",
   "id": "55312334",
   "metadata": {},
   "source": [
    "**O método append() adiciona um elemento ao final da lista:**"
   ]
  },
  {
   "cell_type": "code",
   "execution_count": 16,
   "id": "36fcded6",
   "metadata": {},
   "outputs": [
    {
     "data": {
      "text/plain": [
       "['teclado', 'monitor', 'quadro', 'Lápis']"
      ]
     },
     "execution_count": 16,
     "metadata": {},
     "output_type": "execute_result"
    }
   ],
   "source": [
    "# Add \"Lápis\" a lista nomes_objetos\n",
    "# usando a função append()\n",
    "nomes_objetos.append(\"Lápis\")\n",
    "nomes_objetos"
   ]
  },
  {
   "cell_type": "markdown",
   "id": "582194d5",
   "metadata": {},
   "source": [
    "**O método insert() insere um elemento na posição especificada**"
   ]
  },
  {
   "cell_type": "code",
   "execution_count": 17,
   "id": "161cf5c2",
   "metadata": {},
   "outputs": [
    {
     "data": {
      "text/plain": [
       "['teclado', 'Caneta', 'monitor', 'quadro', 'Lápis']"
      ]
     },
     "execution_count": 17,
     "metadata": {},
     "output_type": "execute_result"
    }
   ],
   "source": [
    "# Add \"Lápis\" a lista nomes_objetos\n",
    "# usando a função insert()\n",
    "nomes_objetos.insert(1,\"Caneta\") # add Lápis no inicio\n",
    "nomes_objetos"
   ]
  },
  {
   "cell_type": "markdown",
   "id": "4235474a",
   "metadata": {},
   "source": [
    "**O método sort() ordena os elementos da lista**"
   ]
  },
  {
   "cell_type": "code",
   "execution_count": 18,
   "id": "14136b8c",
   "metadata": {},
   "outputs": [],
   "source": [
    "#lista de notas\n",
    "notas = [9.0, 8.0, 5.0, 10.0, 7.0, 7.0, 8.0, 8.0, 7.5] \n",
    "lista = ['maçã', 'banana', 'abacaxi', 'teclado', 'monitor', 'quadro']"
   ]
  },
  {
   "cell_type": "code",
   "execution_count": 19,
   "id": "40353d11",
   "metadata": {},
   "outputs": [
    {
     "name": "stdout",
     "output_type": "stream",
     "text": [
      "[5.0, 7.0, 7.0, 7.5, 8.0, 8.0, 8.0, 9.0, 10.0]\n",
      "['abacaxi', 'banana', 'maçã', 'monitor', 'quadro', 'teclado']\n"
     ]
    }
   ],
   "source": [
    "# Ordem ascendente:\n",
    "notas.sort()\n",
    "print(notas)\n",
    "\n",
    "lista.sort()\n",
    "print(lista)"
   ]
  },
  {
   "cell_type": "code",
   "execution_count": 20,
   "id": "364f26c6",
   "metadata": {},
   "outputs": [
    {
     "name": "stdout",
     "output_type": "stream",
     "text": [
      "[10.0, 9.0, 8.0, 8.0, 8.0, 7.5, 7.0, 7.0, 5.0]\n",
      "['teclado', 'quadro', 'monitor', 'maçã', 'banana', 'abacaxi']\n"
     ]
    }
   ],
   "source": [
    "# Ordem deascendente:\n",
    "notas.sort(reverse=True)\n",
    "print(notas)\n",
    "\n",
    "lista.sort(reverse=True)\n",
    "print(lista)"
   ]
  },
  {
   "cell_type": "markdown",
   "id": "e5cca6a2",
   "metadata": {},
   "source": [
    "**outras funções importantes:**"
   ]
  },
  {
   "cell_type": "code",
   "execution_count": 21,
   "id": "d1652b9e",
   "metadata": {},
   "outputs": [
    {
     "data": {
      "text/plain": [
       "69.5"
      ]
     },
     "execution_count": 21,
     "metadata": {},
     "output_type": "execute_result"
    }
   ],
   "source": [
    "# SOMA\n",
    "sum(notas)"
   ]
  },
  {
   "cell_type": "code",
   "execution_count": 22,
   "id": "41279f8a",
   "metadata": {},
   "outputs": [
    {
     "data": {
      "text/plain": [
       "10.0"
      ]
     },
     "execution_count": 22,
     "metadata": {},
     "output_type": "execute_result"
    }
   ],
   "source": [
    "# MÀXIMO\n",
    "max(notas)"
   ]
  },
  {
   "cell_type": "code",
   "execution_count": 23,
   "id": "8161ac1d",
   "metadata": {},
   "outputs": [
    {
     "data": {
      "text/plain": [
       "5.0"
      ]
     },
     "execution_count": 23,
     "metadata": {},
     "output_type": "execute_result"
    }
   ],
   "source": [
    "# MÍNIMO\n",
    "min(notas)"
   ]
  },
  {
   "cell_type": "code",
   "execution_count": 24,
   "id": "ee6f462d",
   "metadata": {},
   "outputs": [
    {
     "data": {
      "text/plain": [
       "3"
      ]
     },
     "execution_count": 24,
     "metadata": {},
     "output_type": "execute_result"
    }
   ],
   "source": [
    "# Contando elementos em uma lista\n",
    "notas.count(8.0)"
   ]
  },
  {
   "cell_type": "markdown",
   "id": "436aef62",
   "metadata": {},
   "source": [
    "**DESAFIO SOBRE LISTAS**\n",
    "\n",
    "   * Usando a função “list()” e “range()”, crie uma lista com os números pares existentes de 1 a 100 e atribua o nome de “num_pares”\n",
    "   * Usando a função “list()” e “range()” crie uma lista com os números ímpares existentes de 1 a 100 e atribua o nome de “num_impa”.\n",
    "   * Agora concatene/una/junte os elementos dessas duas listas em uma nova lista chamada de “list_num”.\n",
    "   * Adicione o número 0 a lista formada pela união das duas outras “list_num” e em seguida ordene os elementos dessa lista em ordem ascendente/crescente usando a função “sort()”.\n",
    "   * Por fim, exclua o elemento 0 da lista e, em seguida, usando os índices/fatias crie uma lista contendo apenas pares da “list_num”.\n"
   ]
  }
 ],
 "metadata": {
  "kernelspec": {
   "display_name": "Python 3 (ipykernel)",
   "language": "python",
   "name": "python3"
  },
  "language_info": {
   "codemirror_mode": {
    "name": "ipython",
    "version": 3
   },
   "file_extension": ".py",
   "mimetype": "text/x-python",
   "name": "python",
   "nbconvert_exporter": "python",
   "pygments_lexer": "ipython3",
   "version": "3.9.12"
  },
  "nbTranslate": {
   "displayLangs": [
    "*"
   ],
   "hotkey": "alt-t",
   "langInMainMenu": true,
   "sourceLang": "en",
   "targetLang": "fr",
   "useGoogleTranslate": true
  },
  "toc": {
   "base_numbering": 1,
   "nav_menu": {},
   "number_sections": true,
   "sideBar": true,
   "skip_h1_title": false,
   "title_cell": "Table of Contents",
   "title_sidebar": "Contents",
   "toc_cell": false,
   "toc_position": {},
   "toc_section_display": true,
   "toc_window_display": false
  },
  "varInspector": {
   "cols": {
    "lenName": 16,
    "lenType": 16,
    "lenVar": 40
   },
   "kernels_config": {
    "python": {
     "delete_cmd_postfix": "",
     "delete_cmd_prefix": "del ",
     "library": "var_list.py",
     "varRefreshCmd": "print(var_dic_list())"
    },
    "r": {
     "delete_cmd_postfix": ") ",
     "delete_cmd_prefix": "rm(",
     "library": "var_list.r",
     "varRefreshCmd": "cat(var_dic_list()) "
    }
   },
   "types_to_exclude": [
    "module",
    "function",
    "builtin_function_or_method",
    "instance",
    "_Feature"
   ],
   "window_display": false
  }
 },
 "nbformat": 4,
 "nbformat_minor": 5
}

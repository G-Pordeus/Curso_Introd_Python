{
 "cells": [
  {
   "cell_type": "markdown",
   "id": "76057ae0",
   "metadata": {},
   "source": [
    "# Estruturas de repetição"
   ]
  },
  {
   "cell_type": "markdown",
   "id": "55011e1f",
   "metadata": {},
   "source": [
    "As estruturas de repetição são utilizadas quando queremos que um bloco de código seja executado várias vezes.\n",
    "\n",
    "Em Python existem duas formas de criar uma estrutura de repetição:\n",
    "\n",
    "* O **for** é usado para percorrer sequências de elementos, como listas, tuplas e strings..\n",
    "\n",
    "* O **while** é usado quando queremos que o bloco de código seja repetido até que uma condição seja satisfeita. Ou seja, é necessário que uma expressão booliana dada seja verdadeira. Assim que ela se tornar falsa, o while para.\n",
    "\n",
    "**Obs**: Na linguagem Python a indentação é obrigatória."
   ]
  },
  {
   "cell_type": "markdown",
   "id": "c8f0d0b9",
   "metadata": {},
   "source": [
    "### Estrutura de repetição vesus manualmente\n",
    "\n",
    "Dada a lista de números a seguir, Como faríamos para imprimir cada número individualmente no console?"
   ]
  },
  {
   "cell_type": "code",
   "execution_count": 1,
   "id": "5214f957",
   "metadata": {},
   "outputs": [
    {
     "name": "stdout",
     "output_type": "stream",
     "text": [
      "10\n",
      "20\n",
      "30\n",
      "40\n",
      "50\n",
      "60\n",
      "70\n",
      "80\n",
      "90\n",
      "100\n"
     ]
    }
   ],
   "source": [
    "numeros = [10, 20, 30, 40, 50, 60, 70, 80, 90, 100]\n",
    "\n",
    "# Manualmente:\n",
    "print (numeros[0])\n",
    "print (numeros[1])\n",
    "print (numeros[2])\n",
    "print (numeros[3])\n",
    "print (numeros[4])\n",
    "print (numeros[5])\n",
    "print (numeros[6])\n",
    "print (numeros[7])\n",
    "print (numeros[8])\n",
    "print (numeros[9])"
   ]
  },
  {
   "cell_type": "code",
   "execution_count": 2,
   "id": "760c38c3",
   "metadata": {},
   "outputs": [
    {
     "name": "stdout",
     "output_type": "stream",
     "text": [
      "10\n",
      "20\n",
      "30\n",
      "40\n",
      "50\n",
      "60\n",
      "70\n",
      "80\n",
      "90\n",
      "100\n"
     ]
    }
   ],
   "source": [
    "# Usando o for:\n",
    "for n in numeros:\n",
    "    print (n)"
   ]
  },
  {
   "cell_type": "markdown",
   "id": "74479bf9",
   "metadata": {},
   "source": [
    "## for\n",
    "Lembre que o loop **for** em Python itera sobre os itens de um conjunto. Veja alguns exemplos:"
   ]
  },
  {
   "cell_type": "code",
   "execution_count": 3,
   "id": "43ca4891",
   "metadata": {},
   "outputs": [
    {
     "name": "stdout",
     "output_type": "stream",
     "text": [
      "4\n",
      "5\n"
     ]
    }
   ],
   "source": [
    "# Aqui repetimos o print 3 vezes\n",
    "# Lembre que list(range(0, 3)) = [0,1,2]\n",
    "for n in range(4,6):\n",
    "    print(n)"
   ]
  },
  {
   "cell_type": "code",
   "execution_count": 4,
   "id": "3e697e53",
   "metadata": {},
   "outputs": [
    {
     "name": "stdout",
     "output_type": "stream",
     "text": [
      "1\n",
      "4\n",
      "9\n",
      "16\n",
      "100\n"
     ]
    }
   ],
   "source": [
    "# Já para iterar sobre uma lista:\n",
    "lista = [1, 2, 3, 4, 10]\n",
    "for numero in lista:\n",
    "    print(numero ** 2)"
   ]
  },
  {
   "cell_type": "code",
   "execution_count": 5,
   "id": "a2c25010",
   "metadata": {},
   "outputs": [
    {
     "name": "stdout",
     "output_type": "stream",
     "text": [
      "Olá, Alice\n",
      "Olá, Bob\n",
      "Olá, Charlie\n"
     ]
    }
   ],
   "source": [
    "#lista de String\n",
    "nomes = [\"Alice\", \"Bob\", \"Charlie\"]\n",
    "for nome in nomes:\n",
    "    print(\"Olá,\", nome)\n"
   ]
  },
  {
   "cell_type": "markdown",
   "id": "9e4c7d0e",
   "metadata": {},
   "source": [
    "**Exercícios de exemplo:** Calcule o somatório dos números de 1 a 100 e imprima o resultado."
   ]
  },
  {
   "cell_type": "code",
   "execution_count": 6,
   "id": "745ff840",
   "metadata": {},
   "outputs": [
    {
     "name": "stdout",
     "output_type": "stream",
     "text": [
      "5050\n"
     ]
    }
   ],
   "source": [
    "# resposta:\n",
    "soma =0 \n",
    "for n in range(1,101,1):\n",
    "    soma = soma + n\n",
    "print(soma)\n"
   ]
  },
  {
   "cell_type": "markdown",
   "id": "6e31756e",
   "metadata": {},
   "source": [
    "# While\n",
    "A estrutura **while** permite que você execute um bloco de código repetidas vezes até uma determinada condição for verdadeira. Vamos ver um exemplo simples:"
   ]
  },
  {
   "cell_type": "code",
   "execution_count": 7,
   "id": "1ab1ec5a",
   "metadata": {},
   "outputs": [
    {
     "name": "stdout",
     "output_type": "stream",
     "text": [
      "0\n",
      "1\n",
      "2\n"
     ]
    }
   ],
   "source": [
    "# Aqui iniciamos o n em 0, e repetimos o print até que seu valor seja maior ou igual a 3\n",
    "n = 0\n",
    "while n < 3:\n",
    "    print(n)\n",
    "    n = n + 1"
   ]
  },
  {
   "cell_type": "code",
   "execution_count": 8,
   "id": "cd19666d",
   "metadata": {},
   "outputs": [
    {
     "name": "stdout",
     "output_type": "stream",
     "text": [
      "10\n",
      "20\n",
      "30\n",
      "40\n",
      "50\n",
      "60\n",
      "70\n",
      "80\n",
      "90\n",
      "100\n"
     ]
    }
   ],
   "source": [
    "# Com um código semelhante podemos fazer o primeiro exrcício:\n",
    "\n",
    "numeros = [10, 20, 30, 40, 50, 60, 70, 80, 90, 100]\n",
    "\n",
    "posicao = 0 \n",
    "while posicao < len(numeros):\n",
    "    print(numeros[posicao])\n",
    "    posicao = posicao + 1\n"
   ]
  },
  {
   "cell_type": "code",
   "execution_count": 9,
   "id": "622d5b7c",
   "metadata": {
    "scrolled": true
   },
   "outputs": [
    {
     "name": "stdout",
     "output_type": "stream",
     "text": [
      "10\n",
      "9\n",
      "8\n",
      "7\n",
      "6\n",
      "5\n",
      "4\n",
      "3\n",
      "2\n",
      "1\n",
      "Fogo!\n"
     ]
    }
   ],
   "source": [
    "# Este exemplo imprime uma contagem regressiva de 10 a 1 usando a estrutura while.\n",
    "count = 10\n",
    "while count > 0:\n",
    "    print(count)\n",
    "    count = count - 1\n",
    "print(\"Fogo!\")\n"
   ]
  },
  {
   "cell_type": "code",
   "execution_count": 10,
   "id": "6b443abf",
   "metadata": {},
   "outputs": [
    {
     "name": "stdout",
     "output_type": "stream",
     "text": [
      "\n",
      " Digite um número entre 1 e 10: 3\n",
      "\n",
      " Tente um número maior.\n",
      "\n",
      " Digite um número entre 1 e 10: 5\n",
      "\n",
      " Tente um número maior.\n",
      "\n",
      " Digite um número entre 1 e 10: 7\n",
      "\n",
      " Tente um número menor.\n",
      "\n",
      " Digite um número entre 1 e 10: 6\n",
      "\n",
      " Você acertou!\n"
     ]
    }
   ],
   "source": [
    "# Este exemplo pede ao usuário para adivinhar um número aleatório entre 1 e 10 e \n",
    "#  fornece dicas sobre se o número é maior ou menor do que o número aleatório.\n",
    "import random\n",
    "\n",
    "numero_aleatorio = random.randint(1, 10)\n",
    "\n",
    "acertou = False\n",
    "\n",
    "while not acertou:\n",
    "    chute = int(input(\"\\n Digite um número entre 1 e 10: \"))\n",
    "    if chute == numero_aleatorio:\n",
    "        print(\"\\n Você acertou!\")\n",
    "        acertou = True\n",
    "    elif chute < numero_aleatorio:\n",
    "        print(\"\\n Tente um número maior.\")\n",
    "    else:\n",
    "        print(\"\\n Tente um número menor.\")\n"
   ]
  },
  {
   "cell_type": "markdown",
   "id": "80c79d2c",
   "metadata": {},
   "source": [
    "# Desafios!\n",
    "\n",
    "## Usando o for:\n",
    "\n",
    "**1 - Faça um programa que exiba/print todos os itens de uma lista de compras como a seguinte: itens_compra = [\"Arroz\", \"Leite\", \"Ovos\", \"Feijão\", \"Tomate\"].**\n",
    "\n",
    "**2 - Faça um programa que crie uma lista com os valores de 1 até 10 e depois exiba apenas os números pares.**\n",
    "\n",
    "**3 - Faça um programa que exiba as tabuadas de 0 até 10 no formato: \"2 x 3 = 6\", (utilize dois comandos for)**\n",
    "\n",
    "## Usando o while:\n",
    "\n",
    "**1 - Faça um programa usando a função \"while\" que exiba/print todos os itens de uma lista de compras como a seguinte: itens_compra = [\"Arroz\", \"Leite\", \"Ovos\", \"Feijão\", \"Tomate\"].**\n",
    "\n",
    "**2 - Faça um programa a função \"while\" que crie uma lista com os valores de 1 até 10 e depois exiba apenas os números pares.**\n",
    "\n",
    "**3 - Faça um programa usando a função \"while\" e a biblioteca \"random\", com sua função \"random.randint()\", que pede ao usuário para adivinhar um número aleatório entre 15 e 20. O programa usa a estrutura while para continuar pedindo ao usuário para adivinhar o número até que ele acerte sem nebhuma dica.**"
   ]
  }
 ],
 "metadata": {
  "kernelspec": {
   "display_name": "Python 3 (ipykernel)",
   "language": "python",
   "name": "python3"
  },
  "language_info": {
   "codemirror_mode": {
    "name": "ipython",
    "version": 3
   },
   "file_extension": ".py",
   "mimetype": "text/x-python",
   "name": "python",
   "nbconvert_exporter": "python",
   "pygments_lexer": "ipython3",
   "version": "3.9.12"
  },
  "nbTranslate": {
   "displayLangs": [
    "*"
   ],
   "hotkey": "alt-t",
   "langInMainMenu": true,
   "sourceLang": "en",
   "targetLang": "fr",
   "useGoogleTranslate": true
  },
  "toc": {
   "base_numbering": 1,
   "nav_menu": {},
   "number_sections": true,
   "sideBar": true,
   "skip_h1_title": false,
   "title_cell": "Table of Contents",
   "title_sidebar": "Contents",
   "toc_cell": false,
   "toc_position": {},
   "toc_section_display": true,
   "toc_window_display": false
  },
  "varInspector": {
   "cols": {
    "lenName": 16,
    "lenType": 16,
    "lenVar": 40
   },
   "kernels_config": {
    "python": {
     "delete_cmd_postfix": "",
     "delete_cmd_prefix": "del ",
     "library": "var_list.py",
     "varRefreshCmd": "print(var_dic_list())"
    },
    "r": {
     "delete_cmd_postfix": ") ",
     "delete_cmd_prefix": "rm(",
     "library": "var_list.r",
     "varRefreshCmd": "cat(var_dic_list()) "
    }
   },
   "types_to_exclude": [
    "module",
    "function",
    "builtin_function_or_method",
    "instance",
    "_Feature"
   ],
   "window_display": false
  }
 },
 "nbformat": 4,
 "nbformat_minor": 5
}

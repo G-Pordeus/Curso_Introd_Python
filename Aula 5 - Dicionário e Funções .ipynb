{
 "cells": [
  {
   "cell_type": "markdown",
   "id": "d3771435",
   "metadata": {},
   "source": [
    "# Dicionários e Funções"
   ]
  },
  {
   "cell_type": "markdown",
   "id": "3feca421",
   "metadata": {},
   "source": [
    "## Dicionários\n",
    "\n",
    "Dicionário é uma coleção de itens (chamados chaves) e seus respectivos significados (chamados de valores):\n",
    "\n",
    "**dicionario = {chave: valor}**\n",
    "\n",
    "Cada chave do dicionário deve ser única!"
   ]
  },
  {
   "cell_type": "markdown",
   "id": "ffce0028",
   "metadata": {},
   "source": [
    "### Crindo um dicionário:"
   ]
  },
  {
   "cell_type": "code",
   "execution_count": 1,
   "id": "54c64b2c",
   "metadata": {},
   "outputs": [],
   "source": [
    "pessoa = {\"nome\": \"Gival\", \"sobrenome\": \"Pordeus\", \"idade\": 33, \"peso\": \"82 kg\"}"
   ]
  },
  {
   "cell_type": "code",
   "execution_count": 2,
   "id": "a2a311fd",
   "metadata": {},
   "outputs": [
    {
     "name": "stdout",
     "output_type": "stream",
     "text": [
      "digite seu nomeG-Pordeus\n"
     ]
    },
    {
     "data": {
      "text/plain": [
       "['nome']"
      ]
     },
     "execution_count": 2,
     "metadata": {},
     "output_type": "execute_result"
    }
   ],
   "source": [
    "usuario = {}\n",
    "inf1 = input(\"digite seu nome\")\n",
    "usuario[\"nome\"] = inf1\n",
    "list(usuario)"
   ]
  },
  {
   "cell_type": "code",
   "execution_count": 3,
   "id": "6cf9b9d2",
   "metadata": {},
   "outputs": [
    {
     "data": {
      "text/plain": [
       "'G-Pordeus'"
      ]
     },
     "execution_count": 3,
     "metadata": {},
     "output_type": "execute_result"
    }
   ],
   "source": [
    "usuario[\"nome\"]"
   ]
  },
  {
   "cell_type": "markdown",
   "id": "c6c58434",
   "metadata": {},
   "source": [
    "**Outra forma:** Atribuindo os valores diretamente:"
   ]
  },
  {
   "cell_type": "code",
   "execution_count": 4,
   "id": "40cb448c",
   "metadata": {},
   "outputs": [
    {
     "data": {
      "text/plain": [
       "dict"
      ]
     },
     "execution_count": 4,
     "metadata": {},
     "output_type": "execute_result"
    }
   ],
   "source": [
    "pessoa = dict(nome = \"Gival\" , sobrenome = \"Pordeus\" , idade = 33)\n",
    "\n",
    "type(pessoa)"
   ]
  },
  {
   "cell_type": "markdown",
   "id": "90a08f31",
   "metadata": {},
   "source": [
    "Como dito anteriormente, um dicionário organiza as informações em pares no formato chave-valor. \n",
    "\n",
    "No exemplo acima, as chaves são: **nome, sobrenome e idade** e os valores respectivos são: **Gabriel, Schade e 27**."
   ]
  },
  {
   "cell_type": "markdown",
   "id": "41addfb2",
   "metadata": {},
   "source": [
    "### Acessamos um determinado valor do dicionário através de sua chave:"
   ]
  },
  {
   "cell_type": "code",
   "execution_count": 5,
   "id": "d84cfc02",
   "metadata": {},
   "outputs": [
    {
     "data": {
      "text/plain": [
       "'Pordeus'"
      ]
     },
     "execution_count": 5,
     "metadata": {},
     "output_type": "execute_result"
    }
   ],
   "source": [
    "pessoa[\"sobrenome\"]"
   ]
  },
  {
   "cell_type": "markdown",
   "id": "02e1f302",
   "metadata": {},
   "source": [
    "### Adicionando nova chave e valor:"
   ]
  },
  {
   "cell_type": "code",
   "execution_count": 6,
   "id": "ead7bbb6",
   "metadata": {},
   "outputs": [],
   "source": [
    "# Telefone:\n",
    "\n",
    "pessoa[\"tel:\"] = 83981356666\n",
    "\n"
   ]
  },
  {
   "cell_type": "code",
   "execution_count": 7,
   "id": "0a9f4504",
   "metadata": {},
   "outputs": [
    {
     "data": {
      "text/plain": [
       "83981356666"
      ]
     },
     "execution_count": 7,
     "metadata": {},
     "output_type": "execute_result"
    }
   ],
   "source": [
    "pessoa[\"tel:\"]"
   ]
  },
  {
   "cell_type": "code",
   "execution_count": 8,
   "id": "7b7bf376",
   "metadata": {},
   "outputs": [
    {
     "data": {
      "text/plain": [
       "'1.8 m'"
      ]
     },
     "execution_count": 8,
     "metadata": {},
     "output_type": "execute_result"
    }
   ],
   "source": [
    "pessoa[\"altura\"] = \"1.8 m\"\n",
    "pessoa[\"altura\"]"
   ]
  },
  {
   "cell_type": "code",
   "execution_count": 9,
   "id": "1b7efe8d",
   "metadata": {},
   "outputs": [
    {
     "data": {
      "text/plain": [
       "{'nome': 'Gival',\n",
       " 'sobrenome': 'Pordeus',\n",
       " 'idade': 33,\n",
       " 'tel:': '0035658935',\n",
       " 'altura': '1.8 m'}"
      ]
     },
     "execution_count": 9,
     "metadata": {},
     "output_type": "execute_result"
    }
   ],
   "source": [
    "# CPF : \n",
    "pessoa[\"tel:\"] = \"0035658935\"\n",
    "pessoa"
   ]
  },
  {
   "cell_type": "markdown",
   "id": "87ad8e61",
   "metadata": {},
   "source": [
    "### função items(), keys() e values()\n"
   ]
  },
  {
   "cell_type": "code",
   "execution_count": 10,
   "id": "44647c51",
   "metadata": {},
   "outputs": [
    {
     "data": {
      "text/plain": [
       "dict_items([('nome', 'Gival'), ('sobrenome', 'Pordeus'), ('idade', 33), ('tel:', '0035658935'), ('altura', '1.8 m')])"
      ]
     },
     "execution_count": 10,
     "metadata": {},
     "output_type": "execute_result"
    }
   ],
   "source": [
    "pessoa.items()"
   ]
  },
  {
   "cell_type": "markdown",
   "id": "b730ab73",
   "metadata": {},
   "source": [
    "### Apagar um elemento:\n",
    "\n",
    "Por fim, assim como fizemos com as listas, também podemos apagar um elemento do dicionário com o comando **del**."
   ]
  },
  {
   "cell_type": "code",
   "execution_count": 11,
   "id": "05beac4e",
   "metadata": {},
   "outputs": [
    {
     "data": {
      "text/plain": [
       "{'nome': 'Gival', 'idade': 33, 'tel:': '0035658935', 'altura': '1.8 m'}"
      ]
     },
     "execution_count": 11,
     "metadata": {},
     "output_type": "execute_result"
    }
   ],
   "source": [
    "del pessoa[\"sobrenome\"]\n",
    "pessoa"
   ]
  },
  {
   "cell_type": "markdown",
   "id": "54b2e0a6",
   "metadata": {},
   "source": [
    "## Desafios sobre Dicionário!"
   ]
  },
  {
   "cell_type": "markdown",
   "id": "3e562325",
   "metadata": {},
   "source": [
    "1. **Crie um dicionário com o nome \"produto\" para definir um produto, nele deve conter a descrição do produto, seu preço e peso. Depois, faça um \"for\" para imprimir as definições/características desse produto.**\n",
    "2. **Crie um dicionário que armazene as notas de 5 alunos em um dicionário. Depois, faça um \"for\" para imprimir as notas de cada aluno.**\n",
    "3. **Remova um dos elementos do dicionário da primeira questão.** \n",
    "4. **Adicione no dicionário da segunda questão um novo elemento, chamdodo Gival com a nota igual a 10,0.**"
   ]
  },
  {
   "cell_type": "markdown",
   "id": "6e840a55",
   "metadata": {},
   "source": [
    "# Funções"
   ]
  },
  {
   "cell_type": "markdown",
   "id": "8c813265",
   "metadata": {},
   "source": [
    "Função é uma sequência de instruções que executa uma operação de computação. Ao definir uma função, você especifica o nome e a sequência de instruções. Depois, pode utilizar (“chamar”) a função pelo nome.\n",
    "\n",
    "A ideia é similar às funções matemáticas! Mas funções em uma linguagem de programação não realizam necessariamente apenas cálculos."
   ]
  },
  {
   "cell_type": "markdown",
   "id": "c26ede04",
   "metadata": {},
   "source": [
    "## Definindo funções"
   ]
  },
  {
   "cell_type": "code",
   "execution_count": 13,
   "id": "c16dafcd",
   "metadata": {},
   "outputs": [],
   "source": [
    "def NOME_DA_FUNÇÃO(LISTA DE PARÂMETROS):\n",
    "     COMANDOS"
   ]
  },
  {
   "cell_type": "code",
   "execution_count": 14,
   "id": "81f03eb0",
   "metadata": {},
   "outputs": [],
   "source": [
    "# sem parâmetro:\n",
    "\n",
    "def minha_funcao():\n",
    "    frase = \"Olá mundo!!\"\n",
    "    return frase\n"
   ]
  },
  {
   "cell_type": "code",
   "execution_count": 15,
   "id": "1df67b37",
   "metadata": {},
   "outputs": [
    {
     "data": {
      "text/plain": [
       "'Olá mundo!!'"
      ]
     },
     "execution_count": 15,
     "metadata": {},
     "output_type": "execute_result"
    }
   ],
   "source": [
    "minha_funcao()"
   ]
  },
  {
   "cell_type": "code",
   "execution_count": 16,
   "id": "599a3bf7",
   "metadata": {},
   "outputs": [],
   "source": [
    "#com parâmetros\n",
    "\n",
    "def minha_funcao(nome):\n",
    "    frase = f'Este é um \"Olá mundo\" feito por {nome}!'\n",
    "    return frase"
   ]
  },
  {
   "cell_type": "code",
   "execution_count": 17,
   "id": "42faf91e",
   "metadata": {
    "scrolled": true
   },
   "outputs": [
    {
     "data": {
      "text/plain": [
       "'Este é um \"Olá mundo\" feito por Gival!'"
      ]
     },
     "execution_count": 17,
     "metadata": {},
     "output_type": "execute_result"
    }
   ],
   "source": [
    "minha_funcao(\"Gival\")"
   ]
  },
  {
   "cell_type": "code",
   "execution_count": 18,
   "id": "009f00d1",
   "metadata": {},
   "outputs": [],
   "source": [
    "def soma():\n",
    "    print(1 + 1)\n",
    "    print(2 + 2)"
   ]
  },
  {
   "cell_type": "code",
   "execution_count": 19,
   "id": "7d8e6d29",
   "metadata": {},
   "outputs": [
    {
     "name": "stdout",
     "output_type": "stream",
     "text": [
      "2\n",
      "4\n"
     ]
    }
   ],
   "source": [
    "soma()"
   ]
  },
  {
   "cell_type": "code",
   "execution_count": 20,
   "id": "09a9bdc9",
   "metadata": {},
   "outputs": [],
   "source": [
    "def soma(x , y):\n",
    "    valor = x + y\n",
    "    return valor"
   ]
  },
  {
   "cell_type": "code",
   "execution_count": 21,
   "id": "d791dbd6",
   "metadata": {},
   "outputs": [
    {
     "data": {
      "text/plain": [
       "75"
      ]
     },
     "execution_count": 21,
     "metadata": {},
     "output_type": "execute_result"
    }
   ],
   "source": [
    "soma(30,45)"
   ]
  },
  {
   "cell_type": "code",
   "execution_count": 22,
   "id": "03c2c92a",
   "metadata": {},
   "outputs": [],
   "source": [
    "# Tenho dificuldade com a tabuada do 7! Ajude-me!\n",
    "def tabela7():\n",
    "    for i in range(0,11):\n",
    "        print(f' {7} x {i} = {i*7}')\n"
   ]
  },
  {
   "cell_type": "code",
   "execution_count": 23,
   "id": "346cb0bc",
   "metadata": {},
   "outputs": [
    {
     "name": "stdout",
     "output_type": "stream",
     "text": [
      " 7 x 0 = 0\n",
      " 7 x 1 = 7\n",
      " 7 x 2 = 14\n",
      " 7 x 3 = 21\n",
      " 7 x 4 = 28\n",
      " 7 x 5 = 35\n",
      " 7 x 6 = 42\n",
      " 7 x 7 = 49\n",
      " 7 x 8 = 56\n",
      " 7 x 9 = 63\n",
      " 7 x 10 = 70\n"
     ]
    }
   ],
   "source": [
    "tabela7()"
   ]
  },
  {
   "cell_type": "code",
   "execution_count": 24,
   "id": "4ddd53ca",
   "metadata": {},
   "outputs": [],
   "source": [
    "def mult(x,y):\n",
    "    valor = x*y\n",
    "    return valor\n"
   ]
  },
  {
   "cell_type": "code",
   "execution_count": 25,
   "id": "81620b72",
   "metadata": {},
   "outputs": [
    {
     "data": {
      "text/plain": [
       "150"
      ]
     },
     "execution_count": 25,
     "metadata": {},
     "output_type": "execute_result"
    }
   ],
   "source": [
    "mult(10,15)"
   ]
  },
  {
   "cell_type": "code",
   "execution_count": 26,
   "id": "d89a2231",
   "metadata": {},
   "outputs": [],
   "source": [
    "# Faça uma função que calcule a área de um círculo. Insira o raio como argumento.\n",
    "import math\n",
    "def areacirculo(r):\n",
    "    area = math.pi*r**2\n",
    "    return area\n",
    "    "
   ]
  },
  {
   "cell_type": "code",
   "execution_count": 27,
   "id": "7d644b95",
   "metadata": {},
   "outputs": [
    {
     "data": {
      "text/plain": [
       "7853.981633974483"
      ]
     },
     "execution_count": 27,
     "metadata": {},
     "output_type": "execute_result"
    }
   ],
   "source": [
    "areacirculo(50)"
   ]
  },
  {
   "cell_type": "markdown",
   "id": "de035d96",
   "metadata": {},
   "source": [
    "## Desafios sobre Funções!\n",
    "\n",
    "   1. **Faça um programa que solicite dois números ao usuário e exiba a multiplicação deles. A multiplicação deve ser calculada em uma função.**\n",
    "   2. **Escreva uma função que receba as dimensões de um terreno em metros (por exemplo 10 m e 15 m) e retorne sua área (isto é, A = 10 x 15 = 150 m^2).**\n",
    "   3. **Faça uma função que determina se um número é par ou ímpar. Use o % para determinar o resto de uma divisão. Por exemplo: 3 % 2 = 1 (ímpar) e 4 % 2 = 0 (par).**\n",
    "   4. **Crie uma função que determine o volume de uma esfera, use: V = (4/3) * pi * r^3 .**"
   ]
  },
  {
   "cell_type": "code",
   "execution_count": null,
   "id": "ed73c26d",
   "metadata": {},
   "outputs": [],
   "source": []
  }
 ],
 "metadata": {
  "kernelspec": {
   "display_name": "Python 3 (ipykernel)",
   "language": "python",
   "name": "python3"
  },
  "language_info": {
   "codemirror_mode": {
    "name": "ipython",
    "version": 3
   },
   "file_extension": ".py",
   "mimetype": "text/x-python",
   "name": "python",
   "nbconvert_exporter": "python",
   "pygments_lexer": "ipython3",
   "version": "3.9.12"
  },
  "nbTranslate": {
   "displayLangs": [
    "*"
   ],
   "hotkey": "alt-t",
   "langInMainMenu": true,
   "sourceLang": "en",
   "targetLang": "fr",
   "useGoogleTranslate": true
  },
  "toc": {
   "base_numbering": 1,
   "nav_menu": {},
   "number_sections": true,
   "sideBar": true,
   "skip_h1_title": false,
   "title_cell": "Table of Contents",
   "title_sidebar": "Contents",
   "toc_cell": false,
   "toc_position": {},
   "toc_section_display": true,
   "toc_window_display": false
  },
  "varInspector": {
   "cols": {
    "lenName": 16,
    "lenType": 16,
    "lenVar": 40
   },
   "kernels_config": {
    "python": {
     "delete_cmd_postfix": "",
     "delete_cmd_prefix": "del ",
     "library": "var_list.py",
     "varRefreshCmd": "print(var_dic_list())"
    },
    "r": {
     "delete_cmd_postfix": ") ",
     "delete_cmd_prefix": "rm(",
     "library": "var_list.r",
     "varRefreshCmd": "cat(var_dic_list()) "
    }
   },
   "types_to_exclude": [
    "module",
    "function",
    "builtin_function_or_method",
    "instance",
    "_Feature"
   ],
   "window_display": false
  }
 },
 "nbformat": 4,
 "nbformat_minor": 5
}

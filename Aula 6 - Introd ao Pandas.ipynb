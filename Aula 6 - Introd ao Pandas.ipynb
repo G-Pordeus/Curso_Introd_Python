{
 "cells": [
  {
   "cell_type": "markdown",
   "metadata": {
    "id": "U_be44vD_e65"
   },
   "source": [
    "# Tratamento de Dados no Python com o Pandas"
   ]
  },
  {
   "cell_type": "markdown",
   "metadata": {
    "id": "Ia_YsGrb_e67"
   },
   "source": [
    "Para a manipulação e o tratamento de dados no Python vamos fazer uso da bibliteca do python chamada Pandas, vamos abordar os principais comandos do panda para que você possa utilizá-lo de forma eficiente."
   ]
  },
  {
   "cell_type": "markdown",
   "metadata": {
    "id": "-z88K7BM_e68"
   },
   "source": [
    "##### Importação dessa biblioteca para dentro do Python."
   ]
  },
  {
   "cell_type": "code",
   "execution_count": 1,
   "metadata": {
    "id": "dM8RY96T_e68"
   },
   "outputs": [],
   "source": [
    "# Caso não tenha intalado: !pip install pandas\n",
    "\n",
    "import pandas as pd \n"
   ]
  },
  {
   "cell_type": "markdown",
   "metadata": {
    "id": "_F7JUrbn_e69"
   },
   "source": [
    "##### Criar um dateframe a partir de um dicionário\n",
    "\n",
    "O pandas funciona com **DataFrames**, que nada mais são do que **tabelas dentro do Python**."
   ]
  },
  {
   "cell_type": "code",
   "execution_count": 2,
   "metadata": {
    "id": "55K9UFGf_e6-",
    "outputId": "ebf5e51d-46d0-49fa-fc2b-3797382af479"
   },
   "outputs": [
    {
     "data": {
      "text/html": [
       "<div>\n",
       "<style scoped>\n",
       "    .dataframe tbody tr th:only-of-type {\n",
       "        vertical-align: middle;\n",
       "    }\n",
       "\n",
       "    .dataframe tbody tr th {\n",
       "        vertical-align: top;\n",
       "    }\n",
       "\n",
       "    .dataframe thead th {\n",
       "        text-align: right;\n",
       "    }\n",
       "</style>\n",
       "<table border=\"1\" class=\"dataframe\">\n",
       "  <thead>\n",
       "    <tr style=\"text-align: right;\">\n",
       "      <th></th>\n",
       "      <th>data</th>\n",
       "      <th>valor</th>\n",
       "      <th>produto</th>\n",
       "      <th>qtde</th>\n",
       "    </tr>\n",
       "  </thead>\n",
       "  <tbody>\n",
       "    <tr>\n",
       "      <th>0</th>\n",
       "      <td>15/02/2021</td>\n",
       "      <td>500</td>\n",
       "      <td>feijao</td>\n",
       "      <td>50</td>\n",
       "    </tr>\n",
       "    <tr>\n",
       "      <th>1</th>\n",
       "      <td>16/02/2021</td>\n",
       "      <td>300</td>\n",
       "      <td>arroz</td>\n",
       "      <td>70</td>\n",
       "    </tr>\n",
       "    <tr>\n",
       "      <th>2</th>\n",
       "      <td>26/02/2021</td>\n",
       "      <td>200</td>\n",
       "      <td>milho</td>\n",
       "      <td>60</td>\n",
       "    </tr>\n",
       "    <tr>\n",
       "      <th>3</th>\n",
       "      <td>16/06/2019</td>\n",
       "      <td>100</td>\n",
       "      <td>manga</td>\n",
       "      <td>23</td>\n",
       "    </tr>\n",
       "    <tr>\n",
       "      <th>4</th>\n",
       "      <td>16/07/2022</td>\n",
       "      <td>700</td>\n",
       "      <td>batata</td>\n",
       "      <td>43</td>\n",
       "    </tr>\n",
       "  </tbody>\n",
       "</table>\n",
       "</div>"
      ],
      "text/plain": [
       "         data  valor produto  qtde\n",
       "0  15/02/2021    500  feijao    50\n",
       "1  16/02/2021    300   arroz    70\n",
       "2  26/02/2021    200   milho    60\n",
       "3  16/06/2019    100   manga    23\n",
       "4  16/07/2022    700  batata    43"
      ]
     },
     "execution_count": 2,
     "metadata": {},
     "output_type": "execute_result"
    }
   ],
   "source": [
    "# dataframe vazio:\n",
    "df_vazio = pd.DataFrame()\n",
    "\n",
    "# dicionário:\n",
    "venda = {'data': ['15/02/2021', '16/02/2021', '26/02/2021', '16/06/2019', '16/07/2022'],\n",
    "         'valor': [500, 300, 200, 100, 700],\n",
    "         'produto': ['feijao', 'arroz', 'milho', 'manga', 'batata'],\n",
    "         'qtde': [50, 70, 60, 23, 43]\n",
    "        }\n",
    "\n",
    "# data frame com as informações do dicinário:\n",
    "df = pd.DataFrame(venda)\n",
    "df"
   ]
  },
  {
   "cell_type": "markdown",
   "metadata": {
    "id": "jg71Y57D_e6_"
   },
   "source": [
    "##### Visualização dos dados\n",
    "\n",
    " * print()\n",
    " * display()"
   ]
  },
  {
   "cell_type": "code",
   "execution_count": 3,
   "metadata": {
    "id": "3YMqQfXJ_e6_",
    "outputId": "2aa034cb-8d9d-4aad-c8d4-7a60ee7346a3",
    "scrolled": true
   },
   "outputs": [
    {
     "name": "stdout",
     "output_type": "stream",
     "text": [
      "         data  valor produto  qtde\n",
      "0  15/02/2021    500  feijao    50\n",
      "1  16/02/2021    300   arroz    70\n",
      "2  26/02/2021    200   milho    60\n",
      "3  16/06/2019    100   manga    23\n",
      "4  16/07/2022    700  batata    43\n"
     ]
    }
   ],
   "source": [
    "print(df)\n"
   ]
  },
  {
   "cell_type": "code",
   "execution_count": 4,
   "metadata": {
    "id": "kg5T_2i1_e7A",
    "outputId": "f53610e2-94fd-4a5b-c18b-caf435bb8eca"
   },
   "outputs": [
    {
     "data": {
      "text/html": [
       "<div>\n",
       "<style scoped>\n",
       "    .dataframe tbody tr th:only-of-type {\n",
       "        vertical-align: middle;\n",
       "    }\n",
       "\n",
       "    .dataframe tbody tr th {\n",
       "        vertical-align: top;\n",
       "    }\n",
       "\n",
       "    .dataframe thead th {\n",
       "        text-align: right;\n",
       "    }\n",
       "</style>\n",
       "<table border=\"1\" class=\"dataframe\">\n",
       "  <thead>\n",
       "    <tr style=\"text-align: right;\">\n",
       "      <th></th>\n",
       "      <th>data</th>\n",
       "      <th>valor</th>\n",
       "      <th>produto</th>\n",
       "      <th>qtde</th>\n",
       "    </tr>\n",
       "  </thead>\n",
       "  <tbody>\n",
       "    <tr>\n",
       "      <th>0</th>\n",
       "      <td>15/02/2021</td>\n",
       "      <td>500</td>\n",
       "      <td>feijao</td>\n",
       "      <td>50</td>\n",
       "    </tr>\n",
       "    <tr>\n",
       "      <th>1</th>\n",
       "      <td>16/02/2021</td>\n",
       "      <td>300</td>\n",
       "      <td>arroz</td>\n",
       "      <td>70</td>\n",
       "    </tr>\n",
       "    <tr>\n",
       "      <th>2</th>\n",
       "      <td>26/02/2021</td>\n",
       "      <td>200</td>\n",
       "      <td>milho</td>\n",
       "      <td>60</td>\n",
       "    </tr>\n",
       "    <tr>\n",
       "      <th>3</th>\n",
       "      <td>16/06/2019</td>\n",
       "      <td>100</td>\n",
       "      <td>manga</td>\n",
       "      <td>23</td>\n",
       "    </tr>\n",
       "    <tr>\n",
       "      <th>4</th>\n",
       "      <td>16/07/2022</td>\n",
       "      <td>700</td>\n",
       "      <td>batata</td>\n",
       "      <td>43</td>\n",
       "    </tr>\n",
       "  </tbody>\n",
       "</table>\n",
       "</div>"
      ],
      "text/plain": [
       "         data  valor produto  qtde\n",
       "0  15/02/2021    500  feijao    50\n",
       "1  16/02/2021    300   arroz    70\n",
       "2  26/02/2021    200   milho    60\n",
       "3  16/06/2019    100   manga    23\n",
       "4  16/07/2022    700  batata    43"
      ]
     },
     "metadata": {},
     "output_type": "display_data"
    }
   ],
   "source": [
    "display(df)\n"
   ]
  },
  {
   "cell_type": "markdown",
   "metadata": {
    "id": "lahs-Hxk_e7A"
   },
   "source": [
    "##### Criando um D.F. a partir da importação de um arquivo \n",
    "\n",
    "   * Vamos abrir um arquivo em Excel no mesmo local/pasta onde temos o arquivo do nosso código.\n",
    "   * Usa-se **read_excel()** para arquivos no formato excel"
   ]
  },
  {
   "cell_type": "code",
   "execution_count": 5,
   "metadata": {
    "id": "o6FIv9SH_e7A"
   },
   "outputs": [],
   "source": [
    "# o arquivo está salvo com \"Tabela_Loja_Pandas.xlsx\"\n",
    "\n",
    "tab = pd.read_excel(\"Tabela_Loja_Pandas.xlsx\")\n"
   ]
  },
  {
   "cell_type": "markdown",
   "metadata": {
    "id": "LjWoU7UE_e7A"
   },
   "source": [
    "##### Resumo e visualização: \n",
    "  * .head(n de linhas) ; \n",
    "  * .shape\n",
    "  * .describe() (o mais interessante, fornece um resumo das informações numéricos)\n",
    "    "
   ]
  },
  {
   "cell_type": "code",
   "execution_count": 6,
   "metadata": {
    "id": "5A6a4qTx_e7B",
    "outputId": "0bee4492-0e55-4c46-ae6b-10645402d058"
   },
   "outputs": [
    {
     "data": {
      "text/html": [
       "<div>\n",
       "<style scoped>\n",
       "    .dataframe tbody tr th:only-of-type {\n",
       "        vertical-align: middle;\n",
       "    }\n",
       "\n",
       "    .dataframe tbody tr th {\n",
       "        vertical-align: top;\n",
       "    }\n",
       "\n",
       "    .dataframe thead th {\n",
       "        text-align: right;\n",
       "    }\n",
       "</style>\n",
       "<table border=\"1\" class=\"dataframe\">\n",
       "  <thead>\n",
       "    <tr style=\"text-align: right;\">\n",
       "      <th></th>\n",
       "      <th>Código de Vendas</th>\n",
       "      <th>Data</th>\n",
       "      <th>Loja</th>\n",
       "      <th>ID Loja</th>\n",
       "      <th>Produto</th>\n",
       "      <th>Quantidade</th>\n",
       "      <th>Valor unitário</th>\n",
       "      <th>Valor final</th>\n",
       "    </tr>\n",
       "  </thead>\n",
       "  <tbody>\n",
       "    <tr>\n",
       "      <th>0</th>\n",
       "      <td>1</td>\n",
       "      <td>2023-01-01</td>\n",
       "      <td>Supermercado Max</td>\n",
       "      <td>5</td>\n",
       "      <td>Produto C</td>\n",
       "      <td>3</td>\n",
       "      <td>40.42</td>\n",
       "      <td>121.26</td>\n",
       "    </tr>\n",
       "    <tr>\n",
       "      <th>1</th>\n",
       "      <td>2</td>\n",
       "      <td>2023-01-02</td>\n",
       "      <td>Lojas Centro</td>\n",
       "      <td>1</td>\n",
       "      <td>Produto D</td>\n",
       "      <td>8</td>\n",
       "      <td>70.73</td>\n",
       "      <td>565.82</td>\n",
       "    </tr>\n",
       "    <tr>\n",
       "      <th>2</th>\n",
       "      <td>3</td>\n",
       "      <td>2023-01-03</td>\n",
       "      <td>Fashion Mall</td>\n",
       "      <td>4</td>\n",
       "      <td>Produto C</td>\n",
       "      <td>3</td>\n",
       "      <td>38.55</td>\n",
       "      <td>115.64</td>\n",
       "    </tr>\n",
       "    <tr>\n",
       "      <th>3</th>\n",
       "      <td>4</td>\n",
       "      <td>2023-01-04</td>\n",
       "      <td>Fashion Mall</td>\n",
       "      <td>4</td>\n",
       "      <td>Produto D</td>\n",
       "      <td>1</td>\n",
       "      <td>80.05</td>\n",
       "      <td>80.05</td>\n",
       "    </tr>\n",
       "    <tr>\n",
       "      <th>4</th>\n",
       "      <td>5</td>\n",
       "      <td>2023-01-05</td>\n",
       "      <td>Fashion Mall</td>\n",
       "      <td>4</td>\n",
       "      <td>Produto A</td>\n",
       "      <td>1</td>\n",
       "      <td>95.46</td>\n",
       "      <td>95.46</td>\n",
       "    </tr>\n",
       "  </tbody>\n",
       "</table>\n",
       "</div>"
      ],
      "text/plain": [
       "   Código de Vendas       Data              Loja  ID Loja    Produto  \\\n",
       "0                 1 2023-01-01  Supermercado Max        5  Produto C   \n",
       "1                 2 2023-01-02      Lojas Centro        1  Produto D   \n",
       "2                 3 2023-01-03      Fashion Mall        4  Produto C   \n",
       "3                 4 2023-01-04      Fashion Mall        4  Produto D   \n",
       "4                 5 2023-01-05      Fashion Mall        4  Produto A   \n",
       "\n",
       "   Quantidade  Valor unitário  Valor final  \n",
       "0           3           40.42       121.26  \n",
       "1           8           70.73       565.82  \n",
       "2           3           38.55       115.64  \n",
       "3           1           80.05        80.05  \n",
       "4           1           95.46        95.46  "
      ]
     },
     "execution_count": 6,
     "metadata": {},
     "output_type": "execute_result"
    }
   ],
   "source": [
    "tab.head(5)\n"
   ]
  },
  {
   "cell_type": "code",
   "execution_count": 7,
   "metadata": {
    "id": "9porxPrE_e7B",
    "outputId": "2c2824e1-8448-4bf1-9b15-0d40e77aa6a5"
   },
   "outputs": [
    {
     "data": {
      "text/plain": [
       "(40, 8)"
      ]
     },
     "execution_count": 7,
     "metadata": {},
     "output_type": "execute_result"
    }
   ],
   "source": [
    "tab.shape\n"
   ]
  },
  {
   "cell_type": "code",
   "execution_count": 8,
   "metadata": {
    "id": "rGNQ1ZtG_e7B",
    "outputId": "ad78f3ee-143b-4cf8-b615-0120a897f2e3"
   },
   "outputs": [
    {
     "data": {
      "text/html": [
       "<div>\n",
       "<style scoped>\n",
       "    .dataframe tbody tr th:only-of-type {\n",
       "        vertical-align: middle;\n",
       "    }\n",
       "\n",
       "    .dataframe tbody tr th {\n",
       "        vertical-align: top;\n",
       "    }\n",
       "\n",
       "    .dataframe thead th {\n",
       "        text-align: right;\n",
       "    }\n",
       "</style>\n",
       "<table border=\"1\" class=\"dataframe\">\n",
       "  <thead>\n",
       "    <tr style=\"text-align: right;\">\n",
       "      <th></th>\n",
       "      <th>Código de Vendas</th>\n",
       "      <th>ID Loja</th>\n",
       "      <th>Quantidade</th>\n",
       "      <th>Valor unitário</th>\n",
       "      <th>Valor final</th>\n",
       "    </tr>\n",
       "  </thead>\n",
       "  <tbody>\n",
       "    <tr>\n",
       "      <th>count</th>\n",
       "      <td>40.000000</td>\n",
       "      <td>40.000000</td>\n",
       "      <td>40.00000</td>\n",
       "      <td>40.000000</td>\n",
       "      <td>40.000000</td>\n",
       "    </tr>\n",
       "    <tr>\n",
       "      <th>mean</th>\n",
       "      <td>20.500000</td>\n",
       "      <td>2.825000</td>\n",
       "      <td>5.55000</td>\n",
       "      <td>57.829500</td>\n",
       "      <td>309.567250</td>\n",
       "    </tr>\n",
       "    <tr>\n",
       "      <th>std</th>\n",
       "      <td>11.690452</td>\n",
       "      <td>1.430214</td>\n",
       "      <td>2.66939</td>\n",
       "      <td>27.550214</td>\n",
       "      <td>229.503681</td>\n",
       "    </tr>\n",
       "    <tr>\n",
       "      <th>min</th>\n",
       "      <td>1.000000</td>\n",
       "      <td>1.000000</td>\n",
       "      <td>1.00000</td>\n",
       "      <td>10.840000</td>\n",
       "      <td>67.330000</td>\n",
       "    </tr>\n",
       "    <tr>\n",
       "      <th>25%</th>\n",
       "      <td>10.750000</td>\n",
       "      <td>1.750000</td>\n",
       "      <td>4.00000</td>\n",
       "      <td>37.660000</td>\n",
       "      <td>114.662500</td>\n",
       "    </tr>\n",
       "    <tr>\n",
       "      <th>50%</th>\n",
       "      <td>20.500000</td>\n",
       "      <td>3.000000</td>\n",
       "      <td>5.00000</td>\n",
       "      <td>57.810000</td>\n",
       "      <td>226.125000</td>\n",
       "    </tr>\n",
       "    <tr>\n",
       "      <th>75%</th>\n",
       "      <td>30.250000</td>\n",
       "      <td>4.000000</td>\n",
       "      <td>8.00000</td>\n",
       "      <td>85.742500</td>\n",
       "      <td>457.495000</td>\n",
       "    </tr>\n",
       "    <tr>\n",
       "      <th>max</th>\n",
       "      <td>40.000000</td>\n",
       "      <td>5.000000</td>\n",
       "      <td>10.00000</td>\n",
       "      <td>98.160000</td>\n",
       "      <td>929.040000</td>\n",
       "    </tr>\n",
       "  </tbody>\n",
       "</table>\n",
       "</div>"
      ],
      "text/plain": [
       "       Código de Vendas    ID Loja  Quantidade  Valor unitário  Valor final\n",
       "count         40.000000  40.000000    40.00000       40.000000    40.000000\n",
       "mean          20.500000   2.825000     5.55000       57.829500   309.567250\n",
       "std           11.690452   1.430214     2.66939       27.550214   229.503681\n",
       "min            1.000000   1.000000     1.00000       10.840000    67.330000\n",
       "25%           10.750000   1.750000     4.00000       37.660000   114.662500\n",
       "50%           20.500000   3.000000     5.00000       57.810000   226.125000\n",
       "75%           30.250000   4.000000     8.00000       85.742500   457.495000\n",
       "max           40.000000   5.000000    10.00000       98.160000   929.040000"
      ]
     },
     "execution_count": 8,
     "metadata": {},
     "output_type": "execute_result"
    }
   ],
   "source": [
    "tab.describe()"
   ]
  },
  {
   "cell_type": "markdown",
   "metadata": {
    "id": "DgDBD2Ye_e7B"
   },
   "source": [
    "##  Métodos de edição do dataframe\n",
    "\n",
    "#####  Selecionando uma ou mais colunas: pd.df[[\"coluna 1\",\"Coluna 2\"]]"
   ]
  },
  {
   "cell_type": "code",
   "execution_count": 9,
   "metadata": {
    "id": "6EVNJ4LL_e7B",
    "outputId": "fd2ef585-4a17-4be8-e992-d6be4714b035"
   },
   "outputs": [
    {
     "data": {
      "text/plain": [
       "Index(['Código de Vendas', 'Data', 'Loja', 'ID Loja', 'Produto', 'Quantidade',\n",
       "       'Valor unitário', 'Valor final'],\n",
       "      dtype='object')"
      ]
     },
     "execution_count": 9,
     "metadata": {},
     "output_type": "execute_result"
    }
   ],
   "source": [
    "# colunas ?\n",
    "tab.columns"
   ]
  },
  {
   "cell_type": "code",
   "execution_count": 10,
   "metadata": {
    "id": "YuFpuaXO_e7C",
    "outputId": "e878d38c-5d48-443b-e199-d1b5806b699a"
   },
   "outputs": [
    {
     "data": {
      "text/plain": [
       "0     Produto C\n",
       "1     Produto D\n",
       "2     Produto C\n",
       "3     Produto D\n",
       "4     Produto A\n",
       "5     Produto A\n",
       "6     Produto A\n",
       "7     Produto D\n",
       "8     Produto A\n",
       "9     Produto C\n",
       "10    Produto C\n",
       "11    Produto A\n",
       "12    Produto E\n",
       "13    Produto D\n",
       "14    Produto E\n",
       "15    Produto A\n",
       "16    Produto E\n",
       "17    Produto D\n",
       "18    Produto D\n",
       "19    Produto E\n",
       "20    Produto B\n",
       "21    Produto D\n",
       "22    Produto A\n",
       "23    Produto A\n",
       "24    Produto A\n",
       "25    Produto B\n",
       "26    Produto A\n",
       "27    Produto E\n",
       "28    Produto B\n",
       "29    Produto D\n",
       "30    Produto B\n",
       "31    Produto A\n",
       "32    Produto A\n",
       "33    Produto E\n",
       "34    Produto D\n",
       "35    Produto D\n",
       "36    Produto B\n",
       "37    Produto A\n",
       "38    Produto A\n",
       "39    Produto B\n",
       "Name: Produto, dtype: object"
      ]
     },
     "execution_count": 10,
     "metadata": {},
     "output_type": "execute_result"
    }
   ],
   "source": [
    "tab[\"Produto\"]\n"
   ]
  },
  {
   "cell_type": "markdown",
   "metadata": {
    "id": "iT8S_7pL_e7C"
   },
   "source": [
    "#####  Selecionar uma linha, ou linhas, ou até mesmo um valor específico: df.loc[  ]. "
   ]
  },
  {
   "cell_type": "code",
   "execution_count": 33,
   "metadata": {
    "id": "ed-j8VA3_e7C",
    "outputId": "2cd792c7-8a6a-4549-a258-459cc45cd744"
   },
   "outputs": [
    {
     "data": {
      "text/html": [
       "<div>\n",
       "<style scoped>\n",
       "    .dataframe tbody tr th:only-of-type {\n",
       "        vertical-align: middle;\n",
       "    }\n",
       "\n",
       "    .dataframe tbody tr th {\n",
       "        vertical-align: top;\n",
       "    }\n",
       "\n",
       "    .dataframe thead th {\n",
       "        text-align: right;\n",
       "    }\n",
       "</style>\n",
       "<table border=\"1\" class=\"dataframe\">\n",
       "  <thead>\n",
       "    <tr style=\"text-align: right;\">\n",
       "      <th></th>\n",
       "      <th>Produto</th>\n",
       "      <th>Valor final</th>\n",
       "    </tr>\n",
       "  </thead>\n",
       "  <tbody>\n",
       "    <tr>\n",
       "      <th>4</th>\n",
       "      <td>Produto A</td>\n",
       "      <td>95.46</td>\n",
       "    </tr>\n",
       "    <tr>\n",
       "      <th>6</th>\n",
       "      <td>Produto A</td>\n",
       "      <td>67.33</td>\n",
       "    </tr>\n",
       "    <tr>\n",
       "      <th>7</th>\n",
       "      <td>Produto D</td>\n",
       "      <td>396.34</td>\n",
       "    </tr>\n",
       "  </tbody>\n",
       "</table>\n",
       "</div>"
      ],
      "text/plain": [
       "     Produto  Valor final\n",
       "4  Produto A        95.46\n",
       "6  Produto A        67.33\n",
       "7  Produto D       396.34"
      ]
     },
     "execution_count": 33,
     "metadata": {},
     "output_type": "execute_result"
    }
   ],
   "source": [
    "# df.loc[1:5]\n",
    "\n",
    "tab.loc[[4,6,7],[\"Produto\",\"Valor final\"]]"
   ]
  },
  {
   "cell_type": "markdown",
   "metadata": {
    "id": "-3hJ2Ikh_e7C"
   },
   "source": [
    "##### Selecionar linhas que correspondem a uma condição: df.loc[df['ID Loja'] == 1]"
   ]
  },
  {
   "cell_type": "code",
   "execution_count": 35,
   "metadata": {
    "id": "19VEsskK_e7D",
    "outputId": "e755cf04-8315-421c-fdca-c964c1238ef7"
   },
   "outputs": [
    {
     "data": {
      "text/html": [
       "<div>\n",
       "<style scoped>\n",
       "    .dataframe tbody tr th:only-of-type {\n",
       "        vertical-align: middle;\n",
       "    }\n",
       "\n",
       "    .dataframe tbody tr th {\n",
       "        vertical-align: top;\n",
       "    }\n",
       "\n",
       "    .dataframe thead th {\n",
       "        text-align: right;\n",
       "    }\n",
       "</style>\n",
       "<table border=\"1\" class=\"dataframe\">\n",
       "  <thead>\n",
       "    <tr style=\"text-align: right;\">\n",
       "      <th></th>\n",
       "      <th>Código de Vendas</th>\n",
       "      <th>Data</th>\n",
       "      <th>Loja</th>\n",
       "      <th>ID Loja</th>\n",
       "      <th>Produto</th>\n",
       "      <th>Quantidade</th>\n",
       "      <th>Valor unitário</th>\n",
       "      <th>Valor final</th>\n",
       "      <th>Imposto</th>\n",
       "      <th>Comissão</th>\n",
       "    </tr>\n",
       "  </thead>\n",
       "  <tbody>\n",
       "    <tr>\n",
       "      <th>7</th>\n",
       "      <td>8</td>\n",
       "      <td>2023-01-08</td>\n",
       "      <td>Mega Store</td>\n",
       "      <td>3</td>\n",
       "      <td>Produto D</td>\n",
       "      <td>6</td>\n",
       "      <td>66.06</td>\n",
       "      <td>396.34</td>\n",
       "      <td>0</td>\n",
       "      <td>19.8170</td>\n",
       "    </tr>\n",
       "    <tr>\n",
       "      <th>12</th>\n",
       "      <td>13</td>\n",
       "      <td>2023-01-13</td>\n",
       "      <td>Mega Store</td>\n",
       "      <td>3</td>\n",
       "      <td>Produto E</td>\n",
       "      <td>5</td>\n",
       "      <td>15.01</td>\n",
       "      <td>75.07</td>\n",
       "      <td>0</td>\n",
       "      <td>3.7535</td>\n",
       "    </tr>\n",
       "    <tr>\n",
       "      <th>24</th>\n",
       "      <td>25</td>\n",
       "      <td>2023-01-25</td>\n",
       "      <td>Mega Store</td>\n",
       "      <td>3</td>\n",
       "      <td>Produto A</td>\n",
       "      <td>1</td>\n",
       "      <td>87.86</td>\n",
       "      <td>87.86</td>\n",
       "      <td>0</td>\n",
       "      <td>4.3930</td>\n",
       "    </tr>\n",
       "    <tr>\n",
       "      <th>36</th>\n",
       "      <td>37</td>\n",
       "      <td>2023-02-06</td>\n",
       "      <td>Mega Store</td>\n",
       "      <td>3</td>\n",
       "      <td>Produto B</td>\n",
       "      <td>9</td>\n",
       "      <td>59.75</td>\n",
       "      <td>537.79</td>\n",
       "      <td>0</td>\n",
       "      <td>26.8895</td>\n",
       "    </tr>\n",
       "  </tbody>\n",
       "</table>\n",
       "</div>"
      ],
      "text/plain": [
       "    Código de Vendas       Data        Loja  ID Loja    Produto  Quantidade  \\\n",
       "7                  8 2023-01-08  Mega Store        3  Produto D           6   \n",
       "12                13 2023-01-13  Mega Store        3  Produto E           5   \n",
       "24                25 2023-01-25  Mega Store        3  Produto A           1   \n",
       "36                37 2023-02-06  Mega Store        3  Produto B           9   \n",
       "\n",
       "    Valor unitário  Valor final  Imposto  Comissão  \n",
       "7            66.06       396.34        0   19.8170  \n",
       "12           15.01        75.07        0    3.7535  \n",
       "24           87.86        87.86        0    4.3930  \n",
       "36           59.75       537.79        0   26.8895  "
      ]
     },
     "execution_count": 35,
     "metadata": {},
     "output_type": "execute_result"
    }
   ],
   "source": [
    "# loc[df['Loja'] == \"Mega Store\"]\n",
    "tab.loc[tab['Loja'] == \"Mega Store\"]"
   ]
  },
  {
   "cell_type": "code",
   "execution_count": 13,
   "metadata": {
    "id": "LycY22h5_e7D",
    "outputId": "3df63904-d333-4cde-cd05-63324db171dd"
   },
   "outputs": [
    {
     "data": {
      "text/html": [
       "<div>\n",
       "<style scoped>\n",
       "    .dataframe tbody tr th:only-of-type {\n",
       "        vertical-align: middle;\n",
       "    }\n",
       "\n",
       "    .dataframe tbody tr th {\n",
       "        vertical-align: top;\n",
       "    }\n",
       "\n",
       "    .dataframe thead th {\n",
       "        text-align: right;\n",
       "    }\n",
       "</style>\n",
       "<table border=\"1\" class=\"dataframe\">\n",
       "  <thead>\n",
       "    <tr style=\"text-align: right;\">\n",
       "      <th></th>\n",
       "      <th>ID Loja</th>\n",
       "      <th>Produto</th>\n",
       "      <th>Quantidade</th>\n",
       "    </tr>\n",
       "  </thead>\n",
       "  <tbody>\n",
       "    <tr>\n",
       "      <th>7</th>\n",
       "      <td>3</td>\n",
       "      <td>Produto D</td>\n",
       "      <td>6</td>\n",
       "    </tr>\n",
       "    <tr>\n",
       "      <th>12</th>\n",
       "      <td>3</td>\n",
       "      <td>Produto E</td>\n",
       "      <td>5</td>\n",
       "    </tr>\n",
       "    <tr>\n",
       "      <th>24</th>\n",
       "      <td>3</td>\n",
       "      <td>Produto A</td>\n",
       "      <td>1</td>\n",
       "    </tr>\n",
       "    <tr>\n",
       "      <th>36</th>\n",
       "      <td>3</td>\n",
       "      <td>Produto B</td>\n",
       "      <td>9</td>\n",
       "    </tr>\n",
       "  </tbody>\n",
       "</table>\n",
       "</div>"
      ],
      "text/plain": [
       "    ID Loja    Produto  Quantidade\n",
       "7         3  Produto D           6\n",
       "12        3  Produto E           5\n",
       "24        3  Produto A           1\n",
       "36        3  Produto B           9"
      ]
     },
     "execution_count": 13,
     "metadata": {},
     "output_type": "execute_result"
    }
   ],
   "source": [
    "# pegar várias linhas e colunas usando o loc\n",
    "#df.loc[df['Loja'] == \"Mega Store\", [\"ID Loja\", \"Produto\", \"Quantidade\"]]\n",
    "tab.loc[tab['Loja'] == \"Mega Store\", [\"ID Loja\", \"Produto\", \"Quantidade\"]]\n"
   ]
  },
  {
   "cell_type": "code",
   "execution_count": 14,
   "metadata": {
    "id": "cJRscQYG_e7D",
    "outputId": "cbef2ff7-76f1-4ff4-855d-fe23666fd8d8"
   },
   "outputs": [
    {
     "data": {
      "text/plain": [
       "Produto    Produto C\n",
       "Name: 2, dtype: object"
      ]
     },
     "execution_count": 14,
     "metadata": {},
     "output_type": "execute_result"
    }
   ],
   "source": [
    "# pegar 1 valor específico: df.loc[1, 'Produto']\n",
    "\n",
    "tab.loc[2,[\"Produto\"]]"
   ]
  },
  {
   "cell_type": "markdown",
   "metadata": {
    "id": "dO0CI7Uc_e7D"
   },
   "source": [
    "##### Criar ou adicionar uma coluna dentro da nossa tabela"
   ]
  },
  {
   "cell_type": "code",
   "execution_count": 38,
   "metadata": {
    "id": "VMf62mDa_e7D"
   },
   "outputs": [
    {
     "data": {
      "text/html": [
       "<div>\n",
       "<style scoped>\n",
       "    .dataframe tbody tr th:only-of-type {\n",
       "        vertical-align: middle;\n",
       "    }\n",
       "\n",
       "    .dataframe tbody tr th {\n",
       "        vertical-align: top;\n",
       "    }\n",
       "\n",
       "    .dataframe thead th {\n",
       "        text-align: right;\n",
       "    }\n",
       "</style>\n",
       "<table border=\"1\" class=\"dataframe\">\n",
       "  <thead>\n",
       "    <tr style=\"text-align: right;\">\n",
       "      <th></th>\n",
       "      <th>Código de Vendas</th>\n",
       "      <th>Data</th>\n",
       "      <th>Loja</th>\n",
       "      <th>ID Loja</th>\n",
       "      <th>Produto</th>\n",
       "      <th>Quantidade</th>\n",
       "      <th>Valor unitário</th>\n",
       "      <th>Valor final</th>\n",
       "      <th>Imposto</th>\n",
       "      <th>Comissão</th>\n",
       "    </tr>\n",
       "  </thead>\n",
       "  <tbody>\n",
       "    <tr>\n",
       "      <th>0</th>\n",
       "      <td>1</td>\n",
       "      <td>2023-01-01</td>\n",
       "      <td>Supermercado Max</td>\n",
       "      <td>5</td>\n",
       "      <td>Produto C</td>\n",
       "      <td>3</td>\n",
       "      <td>40.42</td>\n",
       "      <td>121.26</td>\n",
       "      <td>0</td>\n",
       "      <td>6.0630</td>\n",
       "    </tr>\n",
       "    <tr>\n",
       "      <th>1</th>\n",
       "      <td>2</td>\n",
       "      <td>2023-01-02</td>\n",
       "      <td>Lojas Centro</td>\n",
       "      <td>1</td>\n",
       "      <td>Produto D</td>\n",
       "      <td>8</td>\n",
       "      <td>70.73</td>\n",
       "      <td>565.82</td>\n",
       "      <td>0</td>\n",
       "      <td>28.2910</td>\n",
       "    </tr>\n",
       "    <tr>\n",
       "      <th>2</th>\n",
       "      <td>3</td>\n",
       "      <td>2023-01-03</td>\n",
       "      <td>Fashion Mall</td>\n",
       "      <td>4</td>\n",
       "      <td>Produto C</td>\n",
       "      <td>3</td>\n",
       "      <td>38.55</td>\n",
       "      <td>115.64</td>\n",
       "      <td>0</td>\n",
       "      <td>5.7820</td>\n",
       "    </tr>\n",
       "    <tr>\n",
       "      <th>3</th>\n",
       "      <td>4</td>\n",
       "      <td>2023-01-04</td>\n",
       "      <td>Fashion Mall</td>\n",
       "      <td>4</td>\n",
       "      <td>Produto D</td>\n",
       "      <td>1</td>\n",
       "      <td>80.05</td>\n",
       "      <td>80.05</td>\n",
       "      <td>0</td>\n",
       "      <td>4.0025</td>\n",
       "    </tr>\n",
       "    <tr>\n",
       "      <th>4</th>\n",
       "      <td>5</td>\n",
       "      <td>2023-01-05</td>\n",
       "      <td>Fashion Mall</td>\n",
       "      <td>4</td>\n",
       "      <td>Produto A</td>\n",
       "      <td>1</td>\n",
       "      <td>95.46</td>\n",
       "      <td>95.46</td>\n",
       "      <td>0</td>\n",
       "      <td>4.7730</td>\n",
       "    </tr>\n",
       "  </tbody>\n",
       "</table>\n",
       "</div>"
      ],
      "text/plain": [
       "   Código de Vendas       Data              Loja  ID Loja    Produto  \\\n",
       "0                 1 2023-01-01  Supermercado Max        5  Produto C   \n",
       "1                 2 2023-01-02      Lojas Centro        1  Produto D   \n",
       "2                 3 2023-01-03      Fashion Mall        4  Produto C   \n",
       "3                 4 2023-01-04      Fashion Mall        4  Produto D   \n",
       "4                 5 2023-01-05      Fashion Mall        4  Produto A   \n",
       "\n",
       "   Quantidade  Valor unitário  Valor final  Imposto  Comissão  \n",
       "0           3           40.42       121.26        0    6.0630  \n",
       "1           8           70.73       565.82        0   28.2910  \n",
       "2           3           38.55       115.64        0    5.7820  \n",
       "3           1           80.05        80.05        0    4.0025  \n",
       "4           1           95.46        95.46        0    4.7730  "
      ]
     },
     "execution_count": 38,
     "metadata": {},
     "output_type": "execute_result"
    }
   ],
   "source": [
    "# criar uma coluna com valor padrão: df.loc[:, \"Imposto\"] = 0\n",
    "\n",
    "tab.loc[:,\"Imposto\"] = 0\n",
    "tab.head(5)"
   ]
  },
  {
   "cell_type": "code",
   "execution_count": 39,
   "metadata": {
    "id": "C9vnRoV2_e7E"
   },
   "outputs": [
    {
     "data": {
      "text/html": [
       "<div>\n",
       "<style scoped>\n",
       "    .dataframe tbody tr th:only-of-type {\n",
       "        vertical-align: middle;\n",
       "    }\n",
       "\n",
       "    .dataframe tbody tr th {\n",
       "        vertical-align: top;\n",
       "    }\n",
       "\n",
       "    .dataframe thead th {\n",
       "        text-align: right;\n",
       "    }\n",
       "</style>\n",
       "<table border=\"1\" class=\"dataframe\">\n",
       "  <thead>\n",
       "    <tr style=\"text-align: right;\">\n",
       "      <th></th>\n",
       "      <th>Código de Vendas</th>\n",
       "      <th>Data</th>\n",
       "      <th>Loja</th>\n",
       "      <th>ID Loja</th>\n",
       "      <th>Produto</th>\n",
       "      <th>Quantidade</th>\n",
       "      <th>Valor unitário</th>\n",
       "      <th>Valor final</th>\n",
       "      <th>Imposto</th>\n",
       "      <th>Comissão</th>\n",
       "    </tr>\n",
       "  </thead>\n",
       "  <tbody>\n",
       "    <tr>\n",
       "      <th>0</th>\n",
       "      <td>1</td>\n",
       "      <td>2023-01-01</td>\n",
       "      <td>Supermercado Max</td>\n",
       "      <td>5</td>\n",
       "      <td>Produto C</td>\n",
       "      <td>3</td>\n",
       "      <td>40.42</td>\n",
       "      <td>121.26</td>\n",
       "      <td>0</td>\n",
       "      <td>6.0630</td>\n",
       "    </tr>\n",
       "    <tr>\n",
       "      <th>1</th>\n",
       "      <td>2</td>\n",
       "      <td>2023-01-02</td>\n",
       "      <td>Lojas Centro</td>\n",
       "      <td>1</td>\n",
       "      <td>Produto D</td>\n",
       "      <td>8</td>\n",
       "      <td>70.73</td>\n",
       "      <td>565.82</td>\n",
       "      <td>0</td>\n",
       "      <td>28.2910</td>\n",
       "    </tr>\n",
       "    <tr>\n",
       "      <th>2</th>\n",
       "      <td>3</td>\n",
       "      <td>2023-01-03</td>\n",
       "      <td>Fashion Mall</td>\n",
       "      <td>4</td>\n",
       "      <td>Produto C</td>\n",
       "      <td>3</td>\n",
       "      <td>38.55</td>\n",
       "      <td>115.64</td>\n",
       "      <td>0</td>\n",
       "      <td>5.7820</td>\n",
       "    </tr>\n",
       "    <tr>\n",
       "      <th>3</th>\n",
       "      <td>4</td>\n",
       "      <td>2023-01-04</td>\n",
       "      <td>Fashion Mall</td>\n",
       "      <td>4</td>\n",
       "      <td>Produto D</td>\n",
       "      <td>1</td>\n",
       "      <td>80.05</td>\n",
       "      <td>80.05</td>\n",
       "      <td>0</td>\n",
       "      <td>4.0025</td>\n",
       "    </tr>\n",
       "    <tr>\n",
       "      <th>4</th>\n",
       "      <td>5</td>\n",
       "      <td>2023-01-05</td>\n",
       "      <td>Fashion Mall</td>\n",
       "      <td>4</td>\n",
       "      <td>Produto A</td>\n",
       "      <td>1</td>\n",
       "      <td>95.46</td>\n",
       "      <td>95.46</td>\n",
       "      <td>0</td>\n",
       "      <td>4.7730</td>\n",
       "    </tr>\n",
       "  </tbody>\n",
       "</table>\n",
       "</div>"
      ],
      "text/plain": [
       "   Código de Vendas       Data              Loja  ID Loja    Produto  \\\n",
       "0                 1 2023-01-01  Supermercado Max        5  Produto C   \n",
       "1                 2 2023-01-02      Lojas Centro        1  Produto D   \n",
       "2                 3 2023-01-03      Fashion Mall        4  Produto C   \n",
       "3                 4 2023-01-04      Fashion Mall        4  Produto D   \n",
       "4                 5 2023-01-05      Fashion Mall        4  Produto A   \n",
       "\n",
       "   Quantidade  Valor unitário  Valor final  Imposto  Comissão  \n",
       "0           3           40.42       121.26        0    6.0630  \n",
       "1           8           70.73       565.82        0   28.2910  \n",
       "2           3           38.55       115.64        0    5.7820  \n",
       "3           1           80.05        80.05        0    4.0025  \n",
       "4           1           95.46        95.46        0    4.7730  "
      ]
     },
     "execution_count": 39,
     "metadata": {},
     "output_type": "execute_result"
    }
   ],
   "source": [
    "# a partir de uma coluna que existe: df['Comissão'] = df['Valor final'] * 0.05\n",
    "\n",
    "tab[\"Comissão\"] = tab[\"Valor final\"]*0.05\n",
    "tab.head(5)"
   ]
  },
  {
   "cell_type": "markdown",
   "metadata": {
    "id": "IvxQD3PF_e7E"
   },
   "source": [
    "##### Juntando duas tabelas: vendas de 2022 + 2023 "
   ]
  },
  {
   "cell_type": "code",
   "execution_count": 40,
   "metadata": {
    "id": "2LxG5nc9_e7E"
   },
   "outputs": [
    {
     "data": {
      "text/html": [
       "<div>\n",
       "<style scoped>\n",
       "    .dataframe tbody tr th:only-of-type {\n",
       "        vertical-align: middle;\n",
       "    }\n",
       "\n",
       "    .dataframe tbody tr th {\n",
       "        vertical-align: top;\n",
       "    }\n",
       "\n",
       "    .dataframe thead th {\n",
       "        text-align: right;\n",
       "    }\n",
       "</style>\n",
       "<table border=\"1\" class=\"dataframe\">\n",
       "  <thead>\n",
       "    <tr style=\"text-align: right;\">\n",
       "      <th></th>\n",
       "      <th>Código de Vendas</th>\n",
       "      <th>Data</th>\n",
       "      <th>Loja</th>\n",
       "      <th>ID Loja</th>\n",
       "      <th>Produto</th>\n",
       "      <th>Quantidade</th>\n",
       "      <th>Valor unitário</th>\n",
       "      <th>Valor final</th>\n",
       "    </tr>\n",
       "  </thead>\n",
       "  <tbody>\n",
       "    <tr>\n",
       "      <th>0</th>\n",
       "      <td>1</td>\n",
       "      <td>2022-09-02</td>\n",
       "      <td>Supermercado Max</td>\n",
       "      <td>5</td>\n",
       "      <td>Produto C</td>\n",
       "      <td>3</td>\n",
       "      <td>40.42</td>\n",
       "      <td>121.26</td>\n",
       "    </tr>\n",
       "    <tr>\n",
       "      <th>1</th>\n",
       "      <td>2</td>\n",
       "      <td>2022-09-02</td>\n",
       "      <td>Lojas Centro</td>\n",
       "      <td>1</td>\n",
       "      <td>Produto D</td>\n",
       "      <td>8</td>\n",
       "      <td>70.73</td>\n",
       "      <td>565.82</td>\n",
       "    </tr>\n",
       "    <tr>\n",
       "      <th>2</th>\n",
       "      <td>3</td>\n",
       "      <td>2022-09-02</td>\n",
       "      <td>Fashion Mall</td>\n",
       "      <td>4</td>\n",
       "      <td>Produto C</td>\n",
       "      <td>3</td>\n",
       "      <td>38.55</td>\n",
       "      <td>115.64</td>\n",
       "    </tr>\n",
       "    <tr>\n",
       "      <th>3</th>\n",
       "      <td>4</td>\n",
       "      <td>2022-09-02</td>\n",
       "      <td>Fashion Mall</td>\n",
       "      <td>4</td>\n",
       "      <td>Produto D</td>\n",
       "      <td>1</td>\n",
       "      <td>80.05</td>\n",
       "      <td>80.05</td>\n",
       "    </tr>\n",
       "    <tr>\n",
       "      <th>4</th>\n",
       "      <td>5</td>\n",
       "      <td>2022-09-02</td>\n",
       "      <td>Fashion Mall</td>\n",
       "      <td>4</td>\n",
       "      <td>Produto A</td>\n",
       "      <td>1</td>\n",
       "      <td>95.46</td>\n",
       "      <td>95.46</td>\n",
       "    </tr>\n",
       "  </tbody>\n",
       "</table>\n",
       "</div>"
      ],
      "text/plain": [
       "   Código de Vendas       Data              Loja  ID Loja    Produto  \\\n",
       "0                 1 2022-09-02  Supermercado Max        5  Produto C   \n",
       "1                 2 2022-09-02      Lojas Centro        1  Produto D   \n",
       "2                 3 2022-09-02      Fashion Mall        4  Produto C   \n",
       "3                 4 2022-09-02      Fashion Mall        4  Produto D   \n",
       "4                 5 2022-09-02      Fashion Mall        4  Produto A   \n",
       "\n",
       "   Quantidade  Valor unitário  Valor final  \n",
       "0           3           40.42       121.26  \n",
       "1           8           70.73       565.82  \n",
       "2           3           38.55       115.64  \n",
       "3           1           80.05        80.05  \n",
       "4           1           95.46        95.46  "
      ]
     },
     "execution_count": 40,
     "metadata": {},
     "output_type": "execute_result"
    }
   ],
   "source": [
    "# importar Tabela_Loja_Pandas22.xlsx\n",
    "\n",
    "tab22 = pd.read_excel(\"Tabela_Loja_Pandas22.xlsx\")\n",
    "tab22.head(5)\n"
   ]
  },
  {
   "cell_type": "code",
   "execution_count": 41,
   "metadata": {
    "id": "PcRA8zfy_e7E",
    "outputId": "ea9e307a-7a75-438e-c3b8-33e132dc7a18"
   },
   "outputs": [
    {
     "data": {
      "text/html": [
       "<div>\n",
       "<style scoped>\n",
       "    .dataframe tbody tr th:only-of-type {\n",
       "        vertical-align: middle;\n",
       "    }\n",
       "\n",
       "    .dataframe tbody tr th {\n",
       "        vertical-align: top;\n",
       "    }\n",
       "\n",
       "    .dataframe thead th {\n",
       "        text-align: right;\n",
       "    }\n",
       "</style>\n",
       "<table border=\"1\" class=\"dataframe\">\n",
       "  <thead>\n",
       "    <tr style=\"text-align: right;\">\n",
       "      <th></th>\n",
       "      <th>Código de Vendas</th>\n",
       "      <th>Data</th>\n",
       "      <th>Loja</th>\n",
       "      <th>ID Loja</th>\n",
       "      <th>Produto</th>\n",
       "      <th>Quantidade</th>\n",
       "      <th>Valor unitário</th>\n",
       "      <th>Valor final</th>\n",
       "      <th>Imposto</th>\n",
       "      <th>Comissão</th>\n",
       "    </tr>\n",
       "  </thead>\n",
       "  <tbody>\n",
       "    <tr>\n",
       "      <th>0</th>\n",
       "      <td>1</td>\n",
       "      <td>2023-01-01</td>\n",
       "      <td>Supermercado Max</td>\n",
       "      <td>5</td>\n",
       "      <td>Produto C</td>\n",
       "      <td>3</td>\n",
       "      <td>40.42</td>\n",
       "      <td>121.26</td>\n",
       "      <td>0.0</td>\n",
       "      <td>6.0630</td>\n",
       "    </tr>\n",
       "    <tr>\n",
       "      <th>1</th>\n",
       "      <td>2</td>\n",
       "      <td>2023-01-02</td>\n",
       "      <td>Lojas Centro</td>\n",
       "      <td>1</td>\n",
       "      <td>Produto D</td>\n",
       "      <td>8</td>\n",
       "      <td>70.73</td>\n",
       "      <td>565.82</td>\n",
       "      <td>0.0</td>\n",
       "      <td>28.2910</td>\n",
       "    </tr>\n",
       "    <tr>\n",
       "      <th>2</th>\n",
       "      <td>3</td>\n",
       "      <td>2023-01-03</td>\n",
       "      <td>Fashion Mall</td>\n",
       "      <td>4</td>\n",
       "      <td>Produto C</td>\n",
       "      <td>3</td>\n",
       "      <td>38.55</td>\n",
       "      <td>115.64</td>\n",
       "      <td>0.0</td>\n",
       "      <td>5.7820</td>\n",
       "    </tr>\n",
       "    <tr>\n",
       "      <th>3</th>\n",
       "      <td>4</td>\n",
       "      <td>2023-01-04</td>\n",
       "      <td>Fashion Mall</td>\n",
       "      <td>4</td>\n",
       "      <td>Produto D</td>\n",
       "      <td>1</td>\n",
       "      <td>80.05</td>\n",
       "      <td>80.05</td>\n",
       "      <td>0.0</td>\n",
       "      <td>4.0025</td>\n",
       "    </tr>\n",
       "    <tr>\n",
       "      <th>4</th>\n",
       "      <td>5</td>\n",
       "      <td>2023-01-05</td>\n",
       "      <td>Fashion Mall</td>\n",
       "      <td>4</td>\n",
       "      <td>Produto A</td>\n",
       "      <td>1</td>\n",
       "      <td>95.46</td>\n",
       "      <td>95.46</td>\n",
       "      <td>0.0</td>\n",
       "      <td>4.7730</td>\n",
       "    </tr>\n",
       "    <tr>\n",
       "      <th>...</th>\n",
       "      <td>...</td>\n",
       "      <td>...</td>\n",
       "      <td>...</td>\n",
       "      <td>...</td>\n",
       "      <td>...</td>\n",
       "      <td>...</td>\n",
       "      <td>...</td>\n",
       "      <td>...</td>\n",
       "      <td>...</td>\n",
       "      <td>...</td>\n",
       "    </tr>\n",
       "    <tr>\n",
       "      <th>35</th>\n",
       "      <td>36</td>\n",
       "      <td>2022-09-02</td>\n",
       "      <td>Lojas Centro</td>\n",
       "      <td>1</td>\n",
       "      <td>Produto D</td>\n",
       "      <td>5</td>\n",
       "      <td>45.80</td>\n",
       "      <td>229.02</td>\n",
       "      <td>NaN</td>\n",
       "      <td>NaN</td>\n",
       "    </tr>\n",
       "    <tr>\n",
       "      <th>36</th>\n",
       "      <td>37</td>\n",
       "      <td>2022-09-02</td>\n",
       "      <td>Mega Store</td>\n",
       "      <td>3</td>\n",
       "      <td>Produto B</td>\n",
       "      <td>9</td>\n",
       "      <td>59.75</td>\n",
       "      <td>537.79</td>\n",
       "      <td>NaN</td>\n",
       "      <td>NaN</td>\n",
       "    </tr>\n",
       "    <tr>\n",
       "      <th>37</th>\n",
       "      <td>38</td>\n",
       "      <td>2022-09-02</td>\n",
       "      <td>Supermercado Max</td>\n",
       "      <td>5</td>\n",
       "      <td>Produto A</td>\n",
       "      <td>5</td>\n",
       "      <td>24.84</td>\n",
       "      <td>124.22</td>\n",
       "      <td>NaN</td>\n",
       "      <td>NaN</td>\n",
       "    </tr>\n",
       "    <tr>\n",
       "      <th>38</th>\n",
       "      <td>39</td>\n",
       "      <td>2022-09-02</td>\n",
       "      <td>Fashion Mall</td>\n",
       "      <td>4</td>\n",
       "      <td>Produto A</td>\n",
       "      <td>4</td>\n",
       "      <td>43.28</td>\n",
       "      <td>173.13</td>\n",
       "      <td>NaN</td>\n",
       "      <td>NaN</td>\n",
       "    </tr>\n",
       "    <tr>\n",
       "      <th>39</th>\n",
       "      <td>40</td>\n",
       "      <td>2022-09-02</td>\n",
       "      <td>Fashion Mall</td>\n",
       "      <td>4</td>\n",
       "      <td>Produto B</td>\n",
       "      <td>8</td>\n",
       "      <td>23.18</td>\n",
       "      <td>185.44</td>\n",
       "      <td>NaN</td>\n",
       "      <td>NaN</td>\n",
       "    </tr>\n",
       "  </tbody>\n",
       "</table>\n",
       "<p>80 rows × 10 columns</p>\n",
       "</div>"
      ],
      "text/plain": [
       "    Código de Vendas       Data              Loja  ID Loja    Produto  \\\n",
       "0                  1 2023-01-01  Supermercado Max        5  Produto C   \n",
       "1                  2 2023-01-02      Lojas Centro        1  Produto D   \n",
       "2                  3 2023-01-03      Fashion Mall        4  Produto C   \n",
       "3                  4 2023-01-04      Fashion Mall        4  Produto D   \n",
       "4                  5 2023-01-05      Fashion Mall        4  Produto A   \n",
       "..               ...        ...               ...      ...        ...   \n",
       "35                36 2022-09-02      Lojas Centro        1  Produto D   \n",
       "36                37 2022-09-02        Mega Store        3  Produto B   \n",
       "37                38 2022-09-02  Supermercado Max        5  Produto A   \n",
       "38                39 2022-09-02      Fashion Mall        4  Produto A   \n",
       "39                40 2022-09-02      Fashion Mall        4  Produto B   \n",
       "\n",
       "    Quantidade  Valor unitário  Valor final  Imposto  Comissão  \n",
       "0            3           40.42       121.26      0.0    6.0630  \n",
       "1            8           70.73       565.82      0.0   28.2910  \n",
       "2            3           38.55       115.64      0.0    5.7820  \n",
       "3            1           80.05        80.05      0.0    4.0025  \n",
       "4            1           95.46        95.46      0.0    4.7730  \n",
       "..         ...             ...          ...      ...       ...  \n",
       "35           5           45.80       229.02      NaN       NaN  \n",
       "36           9           59.75       537.79      NaN       NaN  \n",
       "37           5           24.84       124.22      NaN       NaN  \n",
       "38           4           43.28       173.13      NaN       NaN  \n",
       "39           8           23.18       185.44      NaN       NaN  \n",
       "\n",
       "[80 rows x 10 columns]"
      ]
     },
     "execution_count": 41,
     "metadata": {},
     "output_type": "execute_result"
    }
   ],
   "source": [
    "# Juntar/concatenar as tudas tabelas: pd2 = pd.concat([Tab1,Tab2,...])\n",
    "\n",
    "tab2 = pd.concat([tab,tab22])\n",
    "tab2"
   ]
  },
  {
   "cell_type": "markdown",
   "metadata": {
    "id": "9b3yutp6_e7E"
   },
   "source": [
    "##### Excluir linhas e colunas\n"
   ]
  },
  {
   "cell_type": "code",
   "execution_count": 42,
   "metadata": {
    "id": "Nve771AY_e7E",
    "outputId": "cc3fe77d-4d4b-4ab9-a2a2-e270ab2940c1"
   },
   "outputs": [
    {
     "data": {
      "text/html": [
       "<div>\n",
       "<style scoped>\n",
       "    .dataframe tbody tr th:only-of-type {\n",
       "        vertical-align: middle;\n",
       "    }\n",
       "\n",
       "    .dataframe tbody tr th {\n",
       "        vertical-align: top;\n",
       "    }\n",
       "\n",
       "    .dataframe thead th {\n",
       "        text-align: right;\n",
       "    }\n",
       "</style>\n",
       "<table border=\"1\" class=\"dataframe\">\n",
       "  <thead>\n",
       "    <tr style=\"text-align: right;\">\n",
       "      <th></th>\n",
       "      <th>Código de Vendas</th>\n",
       "      <th>Data</th>\n",
       "      <th>Loja</th>\n",
       "      <th>ID Loja</th>\n",
       "      <th>Produto</th>\n",
       "      <th>Quantidade</th>\n",
       "      <th>Valor unitário</th>\n",
       "      <th>Valor final</th>\n",
       "      <th>Imposto</th>\n",
       "      <th>Comissão</th>\n",
       "    </tr>\n",
       "  </thead>\n",
       "  <tbody>\n",
       "    <tr>\n",
       "      <th>0</th>\n",
       "      <td>1</td>\n",
       "      <td>2023-01-01</td>\n",
       "      <td>Supermercado Max</td>\n",
       "      <td>5</td>\n",
       "      <td>Produto C</td>\n",
       "      <td>3</td>\n",
       "      <td>40.42</td>\n",
       "      <td>121.26</td>\n",
       "      <td>0.0</td>\n",
       "      <td>6.0630</td>\n",
       "    </tr>\n",
       "    <tr>\n",
       "      <th>1</th>\n",
       "      <td>2</td>\n",
       "      <td>2023-01-02</td>\n",
       "      <td>Lojas Centro</td>\n",
       "      <td>1</td>\n",
       "      <td>Produto D</td>\n",
       "      <td>8</td>\n",
       "      <td>70.73</td>\n",
       "      <td>565.82</td>\n",
       "      <td>0.0</td>\n",
       "      <td>28.2910</td>\n",
       "    </tr>\n",
       "    <tr>\n",
       "      <th>2</th>\n",
       "      <td>3</td>\n",
       "      <td>2023-01-03</td>\n",
       "      <td>Fashion Mall</td>\n",
       "      <td>4</td>\n",
       "      <td>Produto C</td>\n",
       "      <td>3</td>\n",
       "      <td>38.55</td>\n",
       "      <td>115.64</td>\n",
       "      <td>0.0</td>\n",
       "      <td>5.7820</td>\n",
       "    </tr>\n",
       "    <tr>\n",
       "      <th>3</th>\n",
       "      <td>4</td>\n",
       "      <td>2023-01-04</td>\n",
       "      <td>Fashion Mall</td>\n",
       "      <td>4</td>\n",
       "      <td>Produto D</td>\n",
       "      <td>1</td>\n",
       "      <td>80.05</td>\n",
       "      <td>80.05</td>\n",
       "      <td>0.0</td>\n",
       "      <td>4.0025</td>\n",
       "    </tr>\n",
       "    <tr>\n",
       "      <th>5</th>\n",
       "      <td>6</td>\n",
       "      <td>2023-01-06</td>\n",
       "      <td>Shopping Village</td>\n",
       "      <td>2</td>\n",
       "      <td>Produto A</td>\n",
       "      <td>5</td>\n",
       "      <td>69.63</td>\n",
       "      <td>348.14</td>\n",
       "      <td>0.0</td>\n",
       "      <td>17.4070</td>\n",
       "    </tr>\n",
       "  </tbody>\n",
       "</table>\n",
       "</div>"
      ],
      "text/plain": [
       "   Código de Vendas       Data              Loja  ID Loja    Produto  \\\n",
       "0                 1 2023-01-01  Supermercado Max        5  Produto C   \n",
       "1                 2 2023-01-02      Lojas Centro        1  Produto D   \n",
       "2                 3 2023-01-03      Fashion Mall        4  Produto C   \n",
       "3                 4 2023-01-04      Fashion Mall        4  Produto D   \n",
       "5                 6 2023-01-06  Shopping Village        2  Produto A   \n",
       "\n",
       "   Quantidade  Valor unitário  Valor final  Imposto  Comissão  \n",
       "0           3           40.42       121.26      0.0    6.0630  \n",
       "1           8           70.73       565.82      0.0   28.2910  \n",
       "2           3           38.55       115.64      0.0    5.7820  \n",
       "3           1           80.05        80.05      0.0    4.0025  \n",
       "5           5           69.63       348.14      0.0   17.4070  "
      ]
     },
     "execution_count": 42,
     "metadata": {},
     "output_type": "execute_result"
    }
   ],
   "source": [
    "# df.drop(x1 ,x2) => x1 -> nº da linha ou nome da coluna ; x2 -> axis = 0 (linhas) e axis = 1 (colunas).\n",
    "\n",
    "tab2 = tab2.drop(4,axis=0)\n",
    "tab2.head(5) "
   ]
  },
  {
   "cell_type": "markdown",
   "metadata": {
    "id": "mBQaC-7s_e7F"
   },
   "source": [
    "## EXTRA – Para Tratamento e Análise de Dados"
   ]
  },
  {
   "cell_type": "code",
   "execution_count": 20,
   "metadata": {
    "id": "yjjmZRmm_e7F"
   },
   "outputs": [],
   "source": [
    "# deletar linhas e colunas completamente vazias:  df.dropna(how='all', axis=1)\n",
    "\n"
   ]
  },
  {
   "cell_type": "code",
   "execution_count": 45,
   "metadata": {
    "id": "e3DE213J_e7F",
    "outputId": "f1abaed1-5b63-48fe-99cc-f4c92447da74",
    "scrolled": true
   },
   "outputs": [
    {
     "data": {
      "text/html": [
       "<div>\n",
       "<style scoped>\n",
       "    .dataframe tbody tr th:only-of-type {\n",
       "        vertical-align: middle;\n",
       "    }\n",
       "\n",
       "    .dataframe tbody tr th {\n",
       "        vertical-align: top;\n",
       "    }\n",
       "\n",
       "    .dataframe thead th {\n",
       "        text-align: right;\n",
       "    }\n",
       "</style>\n",
       "<table border=\"1\" class=\"dataframe\">\n",
       "  <thead>\n",
       "    <tr style=\"text-align: right;\">\n",
       "      <th></th>\n",
       "      <th>Código de Vendas</th>\n",
       "      <th>Data</th>\n",
       "      <th>Loja</th>\n",
       "      <th>ID Loja</th>\n",
       "      <th>Produto</th>\n",
       "      <th>Quantidade</th>\n",
       "      <th>Valor unitário</th>\n",
       "      <th>Valor final</th>\n",
       "    </tr>\n",
       "  </thead>\n",
       "  <tbody>\n",
       "    <tr>\n",
       "      <th>0</th>\n",
       "      <td>1</td>\n",
       "      <td>2023-01-01</td>\n",
       "      <td>Supermercado Max</td>\n",
       "      <td>5</td>\n",
       "      <td>Produto C</td>\n",
       "      <td>3</td>\n",
       "      <td>40.42</td>\n",
       "      <td>121.26</td>\n",
       "    </tr>\n",
       "    <tr>\n",
       "      <th>1</th>\n",
       "      <td>2</td>\n",
       "      <td>2023-01-02</td>\n",
       "      <td>Lojas Centro</td>\n",
       "      <td>1</td>\n",
       "      <td>Produto D</td>\n",
       "      <td>8</td>\n",
       "      <td>70.73</td>\n",
       "      <td>565.82</td>\n",
       "    </tr>\n",
       "    <tr>\n",
       "      <th>2</th>\n",
       "      <td>3</td>\n",
       "      <td>2023-01-03</td>\n",
       "      <td>Fashion Mall</td>\n",
       "      <td>4</td>\n",
       "      <td>Produto C</td>\n",
       "      <td>3</td>\n",
       "      <td>38.55</td>\n",
       "      <td>115.64</td>\n",
       "    </tr>\n",
       "    <tr>\n",
       "      <th>3</th>\n",
       "      <td>4</td>\n",
       "      <td>2023-01-04</td>\n",
       "      <td>Fashion Mall</td>\n",
       "      <td>4</td>\n",
       "      <td>Produto D</td>\n",
       "      <td>1</td>\n",
       "      <td>80.05</td>\n",
       "      <td>80.05</td>\n",
       "    </tr>\n",
       "    <tr>\n",
       "      <th>5</th>\n",
       "      <td>6</td>\n",
       "      <td>2023-01-06</td>\n",
       "      <td>Shopping Village</td>\n",
       "      <td>2</td>\n",
       "      <td>Produto A</td>\n",
       "      <td>5</td>\n",
       "      <td>69.63</td>\n",
       "      <td>348.14</td>\n",
       "    </tr>\n",
       "  </tbody>\n",
       "</table>\n",
       "</div>"
      ],
      "text/plain": [
       "   Código de Vendas       Data              Loja  ID Loja    Produto  \\\n",
       "0                 1 2023-01-01  Supermercado Max        5  Produto C   \n",
       "1                 2 2023-01-02      Lojas Centro        1  Produto D   \n",
       "2                 3 2023-01-03      Fashion Mall        4  Produto C   \n",
       "3                 4 2023-01-04      Fashion Mall        4  Produto D   \n",
       "5                 6 2023-01-06  Shopping Village        2  Produto A   \n",
       "\n",
       "   Quantidade  Valor unitário  Valor final  \n",
       "0           3           40.42       121.26  \n",
       "1           8           70.73       565.82  \n",
       "2           3           38.55       115.64  \n",
       "3           1           80.05        80.05  \n",
       "5           5           69.63       348.14  "
      ]
     },
     "execution_count": 45,
     "metadata": {},
     "output_type": "execute_result"
    }
   ],
   "source": [
    "# deletar linhas que possuem pelo menos 1 valor vazio:  df.dropna()\n",
    "\n",
    "tabx = tab2.dropna(axis=1) # axis = 1 ->  colunas \n",
    "tabx.head(5)"
   ]
  },
  {
   "cell_type": "markdown",
   "metadata": {},
   "source": [
    "Note que a tabela tab22 Juntada/concatenada com a tabela tab não possuia as colunas de Imposto e Comissão, logo essas colunas possuiam valores vazios. Assim, o comando anterior deletou essas colunas. "
   ]
  },
  {
   "cell_type": "code",
   "execution_count": 48,
   "metadata": {
    "id": "lkoRK5mF_e7F"
   },
   "outputs": [
    {
     "data": {
      "text/html": [
       "<div>\n",
       "<style scoped>\n",
       "    .dataframe tbody tr th:only-of-type {\n",
       "        vertical-align: middle;\n",
       "    }\n",
       "\n",
       "    .dataframe tbody tr th {\n",
       "        vertical-align: top;\n",
       "    }\n",
       "\n",
       "    .dataframe thead th {\n",
       "        text-align: right;\n",
       "    }\n",
       "</style>\n",
       "<table border=\"1\" class=\"dataframe\">\n",
       "  <thead>\n",
       "    <tr style=\"text-align: right;\">\n",
       "      <th></th>\n",
       "      <th>Código de Vendas</th>\n",
       "      <th>Data</th>\n",
       "      <th>Loja</th>\n",
       "      <th>ID Loja</th>\n",
       "      <th>Produto</th>\n",
       "      <th>Quantidade</th>\n",
       "      <th>Valor unitário</th>\n",
       "      <th>Valor final</th>\n",
       "      <th>Imposto</th>\n",
       "      <th>Comissão</th>\n",
       "    </tr>\n",
       "  </thead>\n",
       "  <tbody>\n",
       "    <tr>\n",
       "      <th>0</th>\n",
       "      <td>1</td>\n",
       "      <td>2023-01-01</td>\n",
       "      <td>Supermercado Max</td>\n",
       "      <td>5</td>\n",
       "      <td>Produto C</td>\n",
       "      <td>3</td>\n",
       "      <td>40.42</td>\n",
       "      <td>121.26</td>\n",
       "      <td>0.0</td>\n",
       "      <td>6.063000</td>\n",
       "    </tr>\n",
       "    <tr>\n",
       "      <th>1</th>\n",
       "      <td>2</td>\n",
       "      <td>2023-01-02</td>\n",
       "      <td>Lojas Centro</td>\n",
       "      <td>1</td>\n",
       "      <td>Produto D</td>\n",
       "      <td>8</td>\n",
       "      <td>70.73</td>\n",
       "      <td>565.82</td>\n",
       "      <td>0.0</td>\n",
       "      <td>28.291000</td>\n",
       "    </tr>\n",
       "    <tr>\n",
       "      <th>2</th>\n",
       "      <td>3</td>\n",
       "      <td>2023-01-03</td>\n",
       "      <td>Fashion Mall</td>\n",
       "      <td>4</td>\n",
       "      <td>Produto C</td>\n",
       "      <td>3</td>\n",
       "      <td>38.55</td>\n",
       "      <td>115.64</td>\n",
       "      <td>0.0</td>\n",
       "      <td>5.782000</td>\n",
       "    </tr>\n",
       "    <tr>\n",
       "      <th>3</th>\n",
       "      <td>4</td>\n",
       "      <td>2023-01-04</td>\n",
       "      <td>Fashion Mall</td>\n",
       "      <td>4</td>\n",
       "      <td>Produto D</td>\n",
       "      <td>1</td>\n",
       "      <td>80.05</td>\n",
       "      <td>80.05</td>\n",
       "      <td>0.0</td>\n",
       "      <td>4.002500</td>\n",
       "    </tr>\n",
       "    <tr>\n",
       "      <th>5</th>\n",
       "      <td>6</td>\n",
       "      <td>2023-01-06</td>\n",
       "      <td>Shopping Village</td>\n",
       "      <td>2</td>\n",
       "      <td>Produto A</td>\n",
       "      <td>5</td>\n",
       "      <td>69.63</td>\n",
       "      <td>348.14</td>\n",
       "      <td>0.0</td>\n",
       "      <td>17.407000</td>\n",
       "    </tr>\n",
       "    <tr>\n",
       "      <th>...</th>\n",
       "      <td>...</td>\n",
       "      <td>...</td>\n",
       "      <td>...</td>\n",
       "      <td>...</td>\n",
       "      <td>...</td>\n",
       "      <td>...</td>\n",
       "      <td>...</td>\n",
       "      <td>...</td>\n",
       "      <td>...</td>\n",
       "      <td>...</td>\n",
       "    </tr>\n",
       "    <tr>\n",
       "      <th>35</th>\n",
       "      <td>36</td>\n",
       "      <td>2022-09-02</td>\n",
       "      <td>Lojas Centro</td>\n",
       "      <td>1</td>\n",
       "      <td>Produto D</td>\n",
       "      <td>5</td>\n",
       "      <td>45.80</td>\n",
       "      <td>229.02</td>\n",
       "      <td>NaN</td>\n",
       "      <td>15.752859</td>\n",
       "    </tr>\n",
       "    <tr>\n",
       "      <th>36</th>\n",
       "      <td>37</td>\n",
       "      <td>2022-09-02</td>\n",
       "      <td>Mega Store</td>\n",
       "      <td>3</td>\n",
       "      <td>Produto B</td>\n",
       "      <td>9</td>\n",
       "      <td>59.75</td>\n",
       "      <td>537.79</td>\n",
       "      <td>NaN</td>\n",
       "      <td>15.752859</td>\n",
       "    </tr>\n",
       "    <tr>\n",
       "      <th>37</th>\n",
       "      <td>38</td>\n",
       "      <td>2022-09-02</td>\n",
       "      <td>Supermercado Max</td>\n",
       "      <td>5</td>\n",
       "      <td>Produto A</td>\n",
       "      <td>5</td>\n",
       "      <td>24.84</td>\n",
       "      <td>124.22</td>\n",
       "      <td>NaN</td>\n",
       "      <td>15.752859</td>\n",
       "    </tr>\n",
       "    <tr>\n",
       "      <th>38</th>\n",
       "      <td>39</td>\n",
       "      <td>2022-09-02</td>\n",
       "      <td>Fashion Mall</td>\n",
       "      <td>4</td>\n",
       "      <td>Produto A</td>\n",
       "      <td>4</td>\n",
       "      <td>43.28</td>\n",
       "      <td>173.13</td>\n",
       "      <td>NaN</td>\n",
       "      <td>15.752859</td>\n",
       "    </tr>\n",
       "    <tr>\n",
       "      <th>39</th>\n",
       "      <td>40</td>\n",
       "      <td>2022-09-02</td>\n",
       "      <td>Fashion Mall</td>\n",
       "      <td>4</td>\n",
       "      <td>Produto B</td>\n",
       "      <td>8</td>\n",
       "      <td>23.18</td>\n",
       "      <td>185.44</td>\n",
       "      <td>NaN</td>\n",
       "      <td>15.752859</td>\n",
       "    </tr>\n",
       "  </tbody>\n",
       "</table>\n",
       "<p>78 rows × 10 columns</p>\n",
       "</div>"
      ],
      "text/plain": [
       "    Código de Vendas       Data              Loja  ID Loja    Produto  \\\n",
       "0                  1 2023-01-01  Supermercado Max        5  Produto C   \n",
       "1                  2 2023-01-02      Lojas Centro        1  Produto D   \n",
       "2                  3 2023-01-03      Fashion Mall        4  Produto C   \n",
       "3                  4 2023-01-04      Fashion Mall        4  Produto D   \n",
       "5                  6 2023-01-06  Shopping Village        2  Produto A   \n",
       "..               ...        ...               ...      ...        ...   \n",
       "35                36 2022-09-02      Lojas Centro        1  Produto D   \n",
       "36                37 2022-09-02        Mega Store        3  Produto B   \n",
       "37                38 2022-09-02  Supermercado Max        5  Produto A   \n",
       "38                39 2022-09-02      Fashion Mall        4  Produto A   \n",
       "39                40 2022-09-02      Fashion Mall        4  Produto B   \n",
       "\n",
       "    Quantidade  Valor unitário  Valor final  Imposto   Comissão  \n",
       "0            3           40.42       121.26      0.0   6.063000  \n",
       "1            8           70.73       565.82      0.0  28.291000  \n",
       "2            3           38.55       115.64      0.0   5.782000  \n",
       "3            1           80.05        80.05      0.0   4.002500  \n",
       "5            5           69.63       348.14      0.0  17.407000  \n",
       "..         ...             ...          ...      ...        ...  \n",
       "35           5           45.80       229.02      NaN  15.752859  \n",
       "36           9           59.75       537.79      NaN  15.752859  \n",
       "37           5           24.84       124.22      NaN  15.752859  \n",
       "38           4           43.28       173.13      NaN  15.752859  \n",
       "39           8           23.18       185.44      NaN  15.752859  \n",
       "\n",
       "[78 rows x 10 columns]"
      ]
     },
     "execution_count": 48,
     "metadata": {},
     "output_type": "execute_result"
    }
   ],
   "source": [
    "# preencher valores vazios\n",
    "# preencher com a média da coluna: df['Comissão'] = df['Comissão'].fillna( df['Comissão'].mean() )\n",
    "tab2['Comissão']= tab2['Comissão'].fillna( tab2['Comissão'].mean() )\n",
    "tab2\n"
   ]
  },
  {
   "cell_type": "code",
   "execution_count": 49,
   "metadata": {
    "id": "iYzrJUWw_e7F"
   },
   "outputs": [
    {
     "data": {
      "text/html": [
       "<div>\n",
       "<style scoped>\n",
       "    .dataframe tbody tr th:only-of-type {\n",
       "        vertical-align: middle;\n",
       "    }\n",
       "\n",
       "    .dataframe tbody tr th {\n",
       "        vertical-align: top;\n",
       "    }\n",
       "\n",
       "    .dataframe thead th {\n",
       "        text-align: right;\n",
       "    }\n",
       "</style>\n",
       "<table border=\"1\" class=\"dataframe\">\n",
       "  <thead>\n",
       "    <tr style=\"text-align: right;\">\n",
       "      <th></th>\n",
       "      <th>Código de Vendas</th>\n",
       "      <th>Data</th>\n",
       "      <th>Loja</th>\n",
       "      <th>ID Loja</th>\n",
       "      <th>Produto</th>\n",
       "      <th>Quantidade</th>\n",
       "      <th>Valor unitário</th>\n",
       "      <th>Valor final</th>\n",
       "      <th>Imposto</th>\n",
       "      <th>Comissão</th>\n",
       "    </tr>\n",
       "  </thead>\n",
       "  <tbody>\n",
       "    <tr>\n",
       "      <th>0</th>\n",
       "      <td>1</td>\n",
       "      <td>2023-01-01</td>\n",
       "      <td>Supermercado Max</td>\n",
       "      <td>5</td>\n",
       "      <td>Produto C</td>\n",
       "      <td>3</td>\n",
       "      <td>40.42</td>\n",
       "      <td>121.26</td>\n",
       "      <td>0.0</td>\n",
       "      <td>6.063000</td>\n",
       "    </tr>\n",
       "    <tr>\n",
       "      <th>1</th>\n",
       "      <td>2</td>\n",
       "      <td>2023-01-02</td>\n",
       "      <td>Lojas Centro</td>\n",
       "      <td>1</td>\n",
       "      <td>Produto D</td>\n",
       "      <td>8</td>\n",
       "      <td>70.73</td>\n",
       "      <td>565.82</td>\n",
       "      <td>0.0</td>\n",
       "      <td>28.291000</td>\n",
       "    </tr>\n",
       "    <tr>\n",
       "      <th>2</th>\n",
       "      <td>3</td>\n",
       "      <td>2023-01-03</td>\n",
       "      <td>Fashion Mall</td>\n",
       "      <td>4</td>\n",
       "      <td>Produto C</td>\n",
       "      <td>3</td>\n",
       "      <td>38.55</td>\n",
       "      <td>115.64</td>\n",
       "      <td>0.0</td>\n",
       "      <td>5.782000</td>\n",
       "    </tr>\n",
       "    <tr>\n",
       "      <th>3</th>\n",
       "      <td>4</td>\n",
       "      <td>2023-01-04</td>\n",
       "      <td>Fashion Mall</td>\n",
       "      <td>4</td>\n",
       "      <td>Produto D</td>\n",
       "      <td>1</td>\n",
       "      <td>80.05</td>\n",
       "      <td>80.05</td>\n",
       "      <td>0.0</td>\n",
       "      <td>4.002500</td>\n",
       "    </tr>\n",
       "    <tr>\n",
       "      <th>5</th>\n",
       "      <td>6</td>\n",
       "      <td>2023-01-06</td>\n",
       "      <td>Shopping Village</td>\n",
       "      <td>2</td>\n",
       "      <td>Produto A</td>\n",
       "      <td>5</td>\n",
       "      <td>69.63</td>\n",
       "      <td>348.14</td>\n",
       "      <td>0.0</td>\n",
       "      <td>17.407000</td>\n",
       "    </tr>\n",
       "    <tr>\n",
       "      <th>...</th>\n",
       "      <td>...</td>\n",
       "      <td>...</td>\n",
       "      <td>...</td>\n",
       "      <td>...</td>\n",
       "      <td>...</td>\n",
       "      <td>...</td>\n",
       "      <td>...</td>\n",
       "      <td>...</td>\n",
       "      <td>...</td>\n",
       "      <td>...</td>\n",
       "    </tr>\n",
       "    <tr>\n",
       "      <th>35</th>\n",
       "      <td>36</td>\n",
       "      <td>2022-09-02</td>\n",
       "      <td>Lojas Centro</td>\n",
       "      <td>1</td>\n",
       "      <td>Produto D</td>\n",
       "      <td>5</td>\n",
       "      <td>45.80</td>\n",
       "      <td>229.02</td>\n",
       "      <td>0.0</td>\n",
       "      <td>15.752859</td>\n",
       "    </tr>\n",
       "    <tr>\n",
       "      <th>36</th>\n",
       "      <td>37</td>\n",
       "      <td>2022-09-02</td>\n",
       "      <td>Mega Store</td>\n",
       "      <td>3</td>\n",
       "      <td>Produto B</td>\n",
       "      <td>9</td>\n",
       "      <td>59.75</td>\n",
       "      <td>537.79</td>\n",
       "      <td>0.0</td>\n",
       "      <td>15.752859</td>\n",
       "    </tr>\n",
       "    <tr>\n",
       "      <th>37</th>\n",
       "      <td>38</td>\n",
       "      <td>2022-09-02</td>\n",
       "      <td>Supermercado Max</td>\n",
       "      <td>5</td>\n",
       "      <td>Produto A</td>\n",
       "      <td>5</td>\n",
       "      <td>24.84</td>\n",
       "      <td>124.22</td>\n",
       "      <td>0.0</td>\n",
       "      <td>15.752859</td>\n",
       "    </tr>\n",
       "    <tr>\n",
       "      <th>38</th>\n",
       "      <td>39</td>\n",
       "      <td>2022-09-02</td>\n",
       "      <td>Fashion Mall</td>\n",
       "      <td>4</td>\n",
       "      <td>Produto A</td>\n",
       "      <td>4</td>\n",
       "      <td>43.28</td>\n",
       "      <td>173.13</td>\n",
       "      <td>0.0</td>\n",
       "      <td>15.752859</td>\n",
       "    </tr>\n",
       "    <tr>\n",
       "      <th>39</th>\n",
       "      <td>40</td>\n",
       "      <td>2022-09-02</td>\n",
       "      <td>Fashion Mall</td>\n",
       "      <td>4</td>\n",
       "      <td>Produto B</td>\n",
       "      <td>8</td>\n",
       "      <td>23.18</td>\n",
       "      <td>185.44</td>\n",
       "      <td>0.0</td>\n",
       "      <td>15.752859</td>\n",
       "    </tr>\n",
       "  </tbody>\n",
       "</table>\n",
       "<p>78 rows × 10 columns</p>\n",
       "</div>"
      ],
      "text/plain": [
       "    Código de Vendas       Data              Loja  ID Loja    Produto  \\\n",
       "0                  1 2023-01-01  Supermercado Max        5  Produto C   \n",
       "1                  2 2023-01-02      Lojas Centro        1  Produto D   \n",
       "2                  3 2023-01-03      Fashion Mall        4  Produto C   \n",
       "3                  4 2023-01-04      Fashion Mall        4  Produto D   \n",
       "5                  6 2023-01-06  Shopping Village        2  Produto A   \n",
       "..               ...        ...               ...      ...        ...   \n",
       "35                36 2022-09-02      Lojas Centro        1  Produto D   \n",
       "36                37 2022-09-02        Mega Store        3  Produto B   \n",
       "37                38 2022-09-02  Supermercado Max        5  Produto A   \n",
       "38                39 2022-09-02      Fashion Mall        4  Produto A   \n",
       "39                40 2022-09-02      Fashion Mall        4  Produto B   \n",
       "\n",
       "    Quantidade  Valor unitário  Valor final  Imposto   Comissão  \n",
       "0            3           40.42       121.26      0.0   6.063000  \n",
       "1            8           70.73       565.82      0.0  28.291000  \n",
       "2            3           38.55       115.64      0.0   5.782000  \n",
       "3            1           80.05        80.05      0.0   4.002500  \n",
       "5            5           69.63       348.14      0.0  17.407000  \n",
       "..         ...             ...          ...      ...        ...  \n",
       "35           5           45.80       229.02      0.0  15.752859  \n",
       "36           9           59.75       537.79      0.0  15.752859  \n",
       "37           5           24.84       124.22      0.0  15.752859  \n",
       "38           4           43.28       173.13      0.0  15.752859  \n",
       "39           8           23.18       185.44      0.0  15.752859  \n",
       "\n",
       "[78 rows x 10 columns]"
      ]
     },
     "execution_count": 49,
     "metadata": {},
     "output_type": "execute_result"
    }
   ],
   "source": [
    "# preencher valores vazios\n",
    "# preencher com o último valor:  df.ffill()\n",
    "\n",
    "tab2['Imposto']= tab2['Imposto'].ffill( )\n",
    "tab2\n"
   ]
  },
  {
   "cell_type": "markdown",
   "metadata": {
    "id": "8Jq-xwtO_e7G"
   },
   "source": [
    "##### Cálculo de indicadores"
   ]
  },
  {
   "cell_type": "code",
   "execution_count": 50,
   "metadata": {
    "id": "Jmn78-YZ_e7G"
   },
   "outputs": [
    {
     "data": {
      "text/plain": [
       "Fashion Mall        22\n",
       "Lojas Centro        20\n",
       "Shopping Village    18\n",
       "Supermercado Max    10\n",
       "Mega Store           8\n",
       "Name: Loja, dtype: int64"
      ]
     },
     "execution_count": 50,
     "metadata": {},
     "output_type": "execute_result"
    }
   ],
   "source": [
    "# Qual Loja vendeu produtos? -> df[\"Loja\"].value_counts()\n",
    "\n",
    "tab2[\"Loja\"].value_counts()\n"
   ]
  },
  {
   "cell_type": "code",
   "execution_count": 25,
   "metadata": {
    "id": "6OEzlVQ5_e7S",
    "outputId": "924fa37e-0bfb-4abe-ca39-d97658e66012"
   },
   "outputs": [
    {
     "data": {
      "text/plain": [
       "Produto A    26\n",
       "Produto D    20\n",
       "Produto E    12\n",
       "Produto B    12\n",
       "Produto C     8\n",
       "Name: Produto, dtype: int64"
      ]
     },
     "execution_count": 25,
     "metadata": {},
     "output_type": "execute_result"
    }
   ],
   "source": [
    "# Qual Produto que mais saiu ? -> df[\"Produto\"].value_counts()\n",
    "tab2[\"Produto\"].value_counts()\n"
   ]
  },
  {
   "cell_type": "code",
   "execution_count": 51,
   "metadata": {
    "id": "dzyWDRk3_e7S",
    "outputId": "cc4ad7c3-acf7-4d52-b8e9-ff384f00b397"
   },
   "outputs": [
    {
     "data": {
      "text/html": [
       "<div>\n",
       "<style scoped>\n",
       "    .dataframe tbody tr th:only-of-type {\n",
       "        vertical-align: middle;\n",
       "    }\n",
       "\n",
       "    .dataframe tbody tr th {\n",
       "        vertical-align: top;\n",
       "    }\n",
       "\n",
       "    .dataframe thead th {\n",
       "        text-align: right;\n",
       "    }\n",
       "</style>\n",
       "<table border=\"1\" class=\"dataframe\">\n",
       "  <thead>\n",
       "    <tr style=\"text-align: right;\">\n",
       "      <th></th>\n",
       "      <th>Valor final</th>\n",
       "    </tr>\n",
       "    <tr>\n",
       "      <th>Loja</th>\n",
       "      <th></th>\n",
       "    </tr>\n",
       "  </thead>\n",
       "  <tbody>\n",
       "    <tr>\n",
       "      <th>Fashion Mall</th>\n",
       "      <td>3552.32</td>\n",
       "    </tr>\n",
       "    <tr>\n",
       "      <th>Lojas Centro</th>\n",
       "      <td>8754.94</td>\n",
       "    </tr>\n",
       "    <tr>\n",
       "      <th>Mega Store</th>\n",
       "      <td>2194.12</td>\n",
       "    </tr>\n",
       "    <tr>\n",
       "      <th>Shopping Village</th>\n",
       "      <td>6930.24</td>\n",
       "    </tr>\n",
       "    <tr>\n",
       "      <th>Supermercado Max</th>\n",
       "      <td>3142.84</td>\n",
       "    </tr>\n",
       "  </tbody>\n",
       "</table>\n",
       "</div>"
      ],
      "text/plain": [
       "                  Valor final\n",
       "Loja                         \n",
       "Fashion Mall          3552.32\n",
       "Lojas Centro          8754.94\n",
       "Mega Store            2194.12\n",
       "Shopping Village      6930.24\n",
       "Supermercado Max      3142.84"
      ]
     },
     "execution_count": 51,
     "metadata": {},
     "output_type": "execute_result"
    }
   ],
   "source": [
    "# Agrupando por produtos -> para cada produto será realizada uma somar do \"valor final\"\n",
    "#    desta forma vamos saber qual o valor total de cada um dos produtos dessa loja.\n",
    "\n",
    "# group by: faturamento_produto = df[['Produto', 'Valor final']].groupby('Produto').sum()\n",
    "\n",
    "taby = tab2[['Loja', 'Valor final']].groupby(\"Loja\").sum()\n",
    "taby"
   ]
  },
  {
   "cell_type": "code",
   "execution_count": 55,
   "metadata": {
    "id": "vOTl1L2e_e7T",
    "outputId": "c51cfa48-113f-4e63-951a-2a75e6f6c127"
   },
   "outputs": [
    {
     "data": {
      "text/html": [
       "<div>\n",
       "<style scoped>\n",
       "    .dataframe tbody tr th:only-of-type {\n",
       "        vertical-align: middle;\n",
       "    }\n",
       "\n",
       "    .dataframe tbody tr th {\n",
       "        vertical-align: top;\n",
       "    }\n",
       "\n",
       "    .dataframe thead th {\n",
       "        text-align: right;\n",
       "    }\n",
       "</style>\n",
       "<table border=\"1\" class=\"dataframe\">\n",
       "  <thead>\n",
       "    <tr style=\"text-align: right;\">\n",
       "      <th></th>\n",
       "      <th>Código de Vendas</th>\n",
       "      <th>Data</th>\n",
       "      <th>Loja</th>\n",
       "      <th>ID Loja</th>\n",
       "      <th>Produto</th>\n",
       "      <th>Quantidade</th>\n",
       "      <th>Valor unitário</th>\n",
       "      <th>Valor final</th>\n",
       "      <th>Imposto</th>\n",
       "      <th>Comissão</th>\n",
       "    </tr>\n",
       "  </thead>\n",
       "  <tbody>\n",
       "    <tr>\n",
       "      <th>27</th>\n",
       "      <td>28</td>\n",
       "      <td>2022-09-02</td>\n",
       "      <td>Shopping Village</td>\n",
       "      <td>2</td>\n",
       "      <td>Produto E</td>\n",
       "      <td>10</td>\n",
       "      <td>92.90</td>\n",
       "      <td>929.04</td>\n",
       "      <td>0.0</td>\n",
       "      <td>15.752859</td>\n",
       "    </tr>\n",
       "    <tr>\n",
       "      <th>27</th>\n",
       "      <td>28</td>\n",
       "      <td>2023-01-28</td>\n",
       "      <td>Shopping Village</td>\n",
       "      <td>2</td>\n",
       "      <td>Produto E</td>\n",
       "      <td>10</td>\n",
       "      <td>92.90</td>\n",
       "      <td>929.04</td>\n",
       "      <td>0.0</td>\n",
       "      <td>46.452000</td>\n",
       "    </tr>\n",
       "    <tr>\n",
       "      <th>13</th>\n",
       "      <td>14</td>\n",
       "      <td>2022-09-02</td>\n",
       "      <td>Shopping Village</td>\n",
       "      <td>2</td>\n",
       "      <td>Produto D</td>\n",
       "      <td>10</td>\n",
       "      <td>50.60</td>\n",
       "      <td>506.04</td>\n",
       "      <td>0.0</td>\n",
       "      <td>15.752859</td>\n",
       "    </tr>\n",
       "    <tr>\n",
       "      <th>13</th>\n",
       "      <td>14</td>\n",
       "      <td>2023-01-14</td>\n",
       "      <td>Shopping Village</td>\n",
       "      <td>2</td>\n",
       "      <td>Produto D</td>\n",
       "      <td>10</td>\n",
       "      <td>50.60</td>\n",
       "      <td>506.04</td>\n",
       "      <td>0.0</td>\n",
       "      <td>25.302000</td>\n",
       "    </tr>\n",
       "    <tr>\n",
       "      <th>19</th>\n",
       "      <td>20</td>\n",
       "      <td>2023-01-20</td>\n",
       "      <td>Supermercado Max</td>\n",
       "      <td>5</td>\n",
       "      <td>Produto E</td>\n",
       "      <td>10</td>\n",
       "      <td>71.98</td>\n",
       "      <td>719.80</td>\n",
       "      <td>0.0</td>\n",
       "      <td>35.990000</td>\n",
       "    </tr>\n",
       "    <tr>\n",
       "      <th>...</th>\n",
       "      <td>...</td>\n",
       "      <td>...</td>\n",
       "      <td>...</td>\n",
       "      <td>...</td>\n",
       "      <td>...</td>\n",
       "      <td>...</td>\n",
       "      <td>...</td>\n",
       "      <td>...</td>\n",
       "      <td>...</td>\n",
       "      <td>...</td>\n",
       "    </tr>\n",
       "    <tr>\n",
       "      <th>11</th>\n",
       "      <td>12</td>\n",
       "      <td>2023-01-12</td>\n",
       "      <td>Supermercado Max</td>\n",
       "      <td>5</td>\n",
       "      <td>Produto A</td>\n",
       "      <td>2</td>\n",
       "      <td>55.87</td>\n",
       "      <td>111.73</td>\n",
       "      <td>0.0</td>\n",
       "      <td>5.586500</td>\n",
       "    </tr>\n",
       "    <tr>\n",
       "      <th>24</th>\n",
       "      <td>25</td>\n",
       "      <td>2022-09-02</td>\n",
       "      <td>Mega Store</td>\n",
       "      <td>3</td>\n",
       "      <td>Produto A</td>\n",
       "      <td>1</td>\n",
       "      <td>87.86</td>\n",
       "      <td>87.86</td>\n",
       "      <td>0.0</td>\n",
       "      <td>15.752859</td>\n",
       "    </tr>\n",
       "    <tr>\n",
       "      <th>3</th>\n",
       "      <td>4</td>\n",
       "      <td>2022-09-02</td>\n",
       "      <td>Fashion Mall</td>\n",
       "      <td>4</td>\n",
       "      <td>Produto D</td>\n",
       "      <td>1</td>\n",
       "      <td>80.05</td>\n",
       "      <td>80.05</td>\n",
       "      <td>0.0</td>\n",
       "      <td>15.752859</td>\n",
       "    </tr>\n",
       "    <tr>\n",
       "      <th>24</th>\n",
       "      <td>25</td>\n",
       "      <td>2023-01-25</td>\n",
       "      <td>Mega Store</td>\n",
       "      <td>3</td>\n",
       "      <td>Produto A</td>\n",
       "      <td>1</td>\n",
       "      <td>87.86</td>\n",
       "      <td>87.86</td>\n",
       "      <td>0.0</td>\n",
       "      <td>4.393000</td>\n",
       "    </tr>\n",
       "    <tr>\n",
       "      <th>3</th>\n",
       "      <td>4</td>\n",
       "      <td>2023-01-04</td>\n",
       "      <td>Fashion Mall</td>\n",
       "      <td>4</td>\n",
       "      <td>Produto D</td>\n",
       "      <td>1</td>\n",
       "      <td>80.05</td>\n",
       "      <td>80.05</td>\n",
       "      <td>0.0</td>\n",
       "      <td>4.002500</td>\n",
       "    </tr>\n",
       "  </tbody>\n",
       "</table>\n",
       "<p>78 rows × 10 columns</p>\n",
       "</div>"
      ],
      "text/plain": [
       "    Código de Vendas       Data              Loja  ID Loja    Produto  \\\n",
       "27                28 2022-09-02  Shopping Village        2  Produto E   \n",
       "27                28 2023-01-28  Shopping Village        2  Produto E   \n",
       "13                14 2022-09-02  Shopping Village        2  Produto D   \n",
       "13                14 2023-01-14  Shopping Village        2  Produto D   \n",
       "19                20 2023-01-20  Supermercado Max        5  Produto E   \n",
       "..               ...        ...               ...      ...        ...   \n",
       "11                12 2023-01-12  Supermercado Max        5  Produto A   \n",
       "24                25 2022-09-02        Mega Store        3  Produto A   \n",
       "3                  4 2022-09-02      Fashion Mall        4  Produto D   \n",
       "24                25 2023-01-25        Mega Store        3  Produto A   \n",
       "3                  4 2023-01-04      Fashion Mall        4  Produto D   \n",
       "\n",
       "    Quantidade  Valor unitário  Valor final  Imposto   Comissão  \n",
       "27          10           92.90       929.04      0.0  15.752859  \n",
       "27          10           92.90       929.04      0.0  46.452000  \n",
       "13          10           50.60       506.04      0.0  15.752859  \n",
       "13          10           50.60       506.04      0.0  25.302000  \n",
       "19          10           71.98       719.80      0.0  35.990000  \n",
       "..         ...             ...          ...      ...        ...  \n",
       "11           2           55.87       111.73      0.0   5.586500  \n",
       "24           1           87.86        87.86      0.0  15.752859  \n",
       "3            1           80.05        80.05      0.0  15.752859  \n",
       "24           1           87.86        87.86      0.0   4.393000  \n",
       "3            1           80.05        80.05      0.0   4.002500  \n",
       "\n",
       "[78 rows x 10 columns]"
      ]
     },
     "execution_count": 55,
     "metadata": {},
     "output_type": "execute_result"
    }
   ],
   "source": [
    "# Ordene a tabela do Protudo mais vendido para o menos vendido: df.sort_values(by='Quantidade', ascending=False)\n",
    "tab3 = tab2.sort_values(by='Quantidade', ascending=False)\n",
    "tab3\n"
   ]
  },
  {
   "cell_type": "markdown",
   "metadata": {
    "id": "DhihsZ1__e7T"
   },
   "source": [
    "#### Salvando em arquivo Excel:"
   ]
  },
  {
   "cell_type": "code",
   "execution_count": 56,
   "metadata": {
    "id": "g4MZifhYRzc3"
   },
   "outputs": [],
   "source": [
    "# df.to_excel(\"nome_arquivo.xlsx\", index=False)\n",
    "\n",
    "tab2.to_excel(\"tab_manipulada.xlsx\",index=False)\n"
   ]
  },
  {
   "cell_type": "markdown",
   "metadata": {
    "id": "c35LJz9h_e7U"
   },
   "source": [
    "# Exercícios:\n",
    "\n",
    "**Exercício 1**:\n",
    "Considere o seguinte DataFrame chamado \"dados\":"
   ]
  },
  {
   "cell_type": "code",
   "execution_count": 30,
   "metadata": {
    "id": "eMJYDdwl_e7U"
   },
   "outputs": [],
   "source": [
    "import pandas as pd\n",
    "\n",
    "dados = pd.DataFrame({\n",
    "    'Nome': ['Ana', 'Pedro', 'Maria', 'João'],\n",
    "    'Idade': [25, 30, 20, 35],\n",
    "    'Cidade': ['São Paulo', 'Rio de Janeiro', 'Curitiba', 'Salvador']\n",
    "})\n"
   ]
  },
  {
   "cell_type": "markdown",
   "metadata": {
    "id": "86VAtUE3_e7U"
   },
   "source": [
    "Escreva um código para exibir as primeiras 3 linhas do DataFrame."
   ]
  },
  {
   "cell_type": "code",
   "execution_count": null,
   "metadata": {
    "id": "6BiRxsvq_e7U"
   },
   "outputs": [],
   "source": [
    "\n"
   ]
  },
  {
   "cell_type": "markdown",
   "metadata": {
    "id": "D2i6z0Uv_e7V"
   },
   "source": [
    "**Exercício 2:**\n",
    "Usando o DataFrame \"dados\" do exercício anterior, escreva um código para exibir apenas as informações das pessoas com idade superior a 25 anos."
   ]
  },
  {
   "cell_type": "code",
   "execution_count": null,
   "metadata": {
    "id": "0HMwJ-E4_e7V"
   },
   "outputs": [],
   "source": [
    "\n"
   ]
  },
  {
   "cell_type": "markdown",
   "metadata": {
    "id": "0ZGsGhVB_e7V"
   },
   "source": [
    "**Exercício 3:**\n",
    "Considere o seguinte DataFrame chamado \"vendas\":"
   ]
  },
  {
   "cell_type": "code",
   "execution_count": 31,
   "metadata": {
    "id": "gFRNL-Gc_e7V"
   },
   "outputs": [],
   "source": [
    "import pandas as pd\n",
    "\n",
    "vendas = pd.DataFrame({\n",
    "    'Produto': ['Camiseta', 'Calça', 'Tênis', 'Bolsa'],\n",
    "    'Quantidade': [10, 5, 8, 3],\n",
    "    'Preço': [29.99, 49.99, 79.99, 39.99]\n",
    "})"
   ]
  },
  {
   "cell_type": "markdown",
   "metadata": {
    "id": "1Q0fvwMK_e7W"
   },
   "source": [
    "Escreva um código para calcular o total de vendas (quantidade * preço) de cada produto e adicione uma nova coluna chamada \"Total\" ao DataFrame."
   ]
  },
  {
   "cell_type": "code",
   "execution_count": null,
   "metadata": {
    "id": "JtI0FnKj_e7W"
   },
   "outputs": [],
   "source": [
    "\n"
   ]
  },
  {
   "cell_type": "markdown",
   "metadata": {
    "id": "iNmN17VK_e7W"
   },
   "source": [
    "**Exercício 4:**\n",
    "Usando o DataFrame \"vendas\" do exercício anterior, escreva um código para encontrar o produto mais vendido (com maior quantidade)."
   ]
  },
  {
   "cell_type": "code",
   "execution_count": null,
   "metadata": {
    "id": "uTwu_zsS_e7W"
   },
   "outputs": [],
   "source": [
    "\n"
   ]
  },
  {
   "cell_type": "markdown",
   "metadata": {
    "id": "O-YtPJva_e7W"
   },
   "source": [
    "**Exercício 5:**\n",
    "Considere o seguinte DataFrame chamado \"alunos\":"
   ]
  },
  {
   "cell_type": "code",
   "execution_count": 32,
   "metadata": {
    "id": "a-6QK5Vz_e7X"
   },
   "outputs": [],
   "source": [
    "import pandas as pd\n",
    "\n",
    "alunos = pd.DataFrame({\n",
    "    'Nome': ['Ana', 'Pedro', 'Maria', 'João'],\n",
    "    'Idade': [25, 30, 20, 35],\n",
    "    'Cidade': ['São Paulo', 'Rio de Janeiro', 'Curitiba', 'Salvador']\n",
    "})"
   ]
  },
  {
   "cell_type": "markdown",
   "metadata": {
    "id": "xrlvOETZ_e7X"
   },
   "source": [
    "Escreva um código para classificar o DataFrame \"alunos\" em ordem decrescente de idade."
   ]
  },
  {
   "cell_type": "code",
   "execution_count": null,
   "metadata": {
    "id": "jlFZB9M5_e7X"
   },
   "outputs": [],
   "source": [
    "\n"
   ]
  }
 ],
 "metadata": {
  "colab": {
   "provenance": []
  },
  "kernelspec": {
   "display_name": "Python 3 (ipykernel)",
   "language": "python",
   "name": "python3"
  },
  "language_info": {
   "codemirror_mode": {
    "name": "ipython",
    "version": 3
   },
   "file_extension": ".py",
   "mimetype": "text/x-python",
   "name": "python",
   "nbconvert_exporter": "python",
   "pygments_lexer": "ipython3",
   "version": "3.9.12"
  },
  "nbTranslate": {
   "displayLangs": [
    "*"
   ],
   "hotkey": "alt-t",
   "langInMainMenu": true,
   "sourceLang": "en",
   "targetLang": "fr",
   "useGoogleTranslate": true
  },
  "toc": {
   "base_numbering": 1,
   "nav_menu": {},
   "number_sections": true,
   "sideBar": true,
   "skip_h1_title": false,
   "title_cell": "Table of Contents",
   "title_sidebar": "Contents",
   "toc_cell": false,
   "toc_position": {},
   "toc_section_display": true,
   "toc_window_display": false
  },
  "varInspector": {
   "cols": {
    "lenName": 16,
    "lenType": 16,
    "lenVar": 40
   },
   "kernels_config": {
    "python": {
     "delete_cmd_postfix": "",
     "delete_cmd_prefix": "del ",
     "library": "var_list.py",
     "varRefreshCmd": "print(var_dic_list())"
    },
    "r": {
     "delete_cmd_postfix": ") ",
     "delete_cmd_prefix": "rm(",
     "library": "var_list.r",
     "varRefreshCmd": "cat(var_dic_list()) "
    }
   },
   "types_to_exclude": [
    "module",
    "function",
    "builtin_function_or_method",
    "instance",
    "_Feature"
   ],
   "window_display": false
  }
 },
 "nbformat": 4,
 "nbformat_minor": 1
}
